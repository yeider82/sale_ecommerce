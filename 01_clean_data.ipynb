{
 "cells": [
  {
   "cell_type": "code",
   "execution_count": 2,
   "id": "3ee04134",
   "metadata": {},
   "outputs": [],
   "source": [
    "import pandas as pd\n",
    "import numpy as np\n",
    "import matplotlib.pyplot as plt\n",
    "import seaborn as sns\n",
    "from datetime import datetime"
   ]
  },
  {
   "cell_type": "code",
   "execution_count": 3,
   "id": "47152541",
   "metadata": {},
   "outputs": [],
   "source": [
    "# aqui puedo usar una funcion de pandas que es .LOC me diante la cual puedo acceder a los valores por la etiqueta o\n",
    "# el indice de el dataframe \n",
    "\n",
    "# df.loc[:,['Reviews']] * -1 \n",
    "## mi idea es usar esto para cambiar los datos de pago a valores positivos\n",
    "## aunque esos datos tienen valores anomalos \n",
    "\n",
    "## SEGUIR ECPLORANDO"
   ]
  },
  {
   "cell_type": "code",
   "execution_count": 4,
   "id": "74a6674f",
   "metadata": {},
   "outputs": [],
   "source": [
    "# df.fillna(df.mean()) asi podre remplazar los valores nulos por el promedio"
   ]
  },
  {
   "cell_type": "code",
   "execution_count": 5,
   "id": "0bb69197",
   "metadata": {},
   "outputs": [],
   "source": [
    "# .value_count() puede ser util para saber cuantos valores nulos tengo en cada columna \n",
    "## para posterior mente saber de que forma los pyedo tratar"
   ]
  },
  {
   "cell_type": "code",
   "execution_count": 6,
   "id": "43049c91",
   "metadata": {},
   "outputs": [],
   "source": [
    "## ver si tengo valores duplicados"
   ]
  },
  {
   "cell_type": "code",
   "execution_count": 7,
   "id": "274326c4",
   "metadata": {},
   "outputs": [],
   "source": [
    "## group by es poderosisimo"
   ]
  },
  {
   "cell_type": "markdown",
   "id": "f11a07fd",
   "metadata": {},
   "source": [
    "# ¿Que busco hacer?\n",
    "en esta parte del proyecto limpiare el set de datos\n",
    "- detectando y trabajando las variables nulas\n",
    "- detectar y trabajar los valores oulaires en variables numericas\n",
    "- detectar errores tipo graficos en variables categoricas\n",
    "- manejo de columnas o datos irrelavantes \n",
    "- observaciones de la limpieza de datos ¿con cuantos datos empece y con cuantos termine?"
   ]
  },
  {
   "cell_type": "markdown",
   "id": "fb0ef583",
   "metadata": {},
   "source": [
    "## vistazo a como esta compuesto el set de datos"
   ]
  },
  {
   "cell_type": "code",
   "execution_count": 8,
   "id": "776e83b6",
   "metadata": {},
   "outputs": [
    {
     "data": {
      "text/html": [
       "<div>\n",
       "<style scoped>\n",
       "    .dataframe tbody tr th:only-of-type {\n",
       "        vertical-align: middle;\n",
       "    }\n",
       "\n",
       "    .dataframe tbody tr th {\n",
       "        vertical-align: top;\n",
       "    }\n",
       "\n",
       "    .dataframe thead th {\n",
       "        text-align: right;\n",
       "    }\n",
       "</style>\n",
       "<table border=\"1\" class=\"dataframe\">\n",
       "  <thead>\n",
       "    <tr style=\"text-align: right;\">\n",
       "      <th></th>\n",
       "      <th>N° de factura</th>\n",
       "      <th>Fecha de factura</th>\n",
       "      <th>ID Cliente</th>\n",
       "      <th>País</th>\n",
       "      <th>Cantidad</th>\n",
       "      <th>Monto</th>\n",
       "    </tr>\n",
       "  </thead>\n",
       "  <tbody>\n",
       "    <tr>\n",
       "      <th>0</th>\n",
       "      <td>548370</td>\n",
       "      <td>3/30/2021 16:14:00</td>\n",
       "      <td>15528.0</td>\n",
       "      <td>United Kingdom</td>\n",
       "      <td>123</td>\n",
       "      <td>229,33</td>\n",
       "    </tr>\n",
       "    <tr>\n",
       "      <th>1</th>\n",
       "      <td>575767</td>\n",
       "      <td>11/11/2021 11:11:00</td>\n",
       "      <td>17348.0</td>\n",
       "      <td>United Kingdom</td>\n",
       "      <td>163</td>\n",
       "      <td>209,73</td>\n",
       "    </tr>\n",
       "    <tr>\n",
       "      <th>2</th>\n",
       "      <td>C570727</td>\n",
       "      <td>10/12/2021 11:32:00</td>\n",
       "      <td>12471.0</td>\n",
       "      <td>Germany</td>\n",
       "      <td>-1</td>\n",
       "      <td>-1,45</td>\n",
       "    </tr>\n",
       "  </tbody>\n",
       "</table>\n",
       "</div>"
      ],
      "text/plain": [
       "  N° de factura     Fecha de factura  ID Cliente            País  Cantidad  \\\n",
       "0        548370   3/30/2021 16:14:00     15528.0  United Kingdom       123   \n",
       "1        575767  11/11/2021 11:11:00     17348.0  United Kingdom       163   \n",
       "2       C570727  10/12/2021 11:32:00     12471.0         Germany        -1   \n",
       "\n",
       "    Monto  \n",
       "0  229,33  \n",
       "1  209,73  \n",
       "2   -1,45  "
      ]
     },
     "execution_count": 8,
     "metadata": {},
     "output_type": "execute_result"
    }
   ],
   "source": [
    "org_data = pd.read_csv('./archive(1)/ventas-por-factura.csv')\n",
    "org_data.head(3)"
   ]
  },
  {
   "cell_type": "markdown",
   "id": "14bfac16",
   "metadata": {},
   "source": [
    "## observacion de el tipo y cantidad de variables que hay\n",
    "#### ( buena practica crear una copia del data frame para trabajar con esta cuidando el csv origina)"
   ]
  },
  {
   "cell_type": "code",
   "execution_count": 9,
   "id": "6dd12ab9",
   "metadata": {},
   "outputs": [
    {
     "name": "stdout",
     "output_type": "stream",
     "text": [
      "<class 'pandas.core.frame.DataFrame'>\n",
      "RangeIndex: 25953 entries, 0 to 25952\n",
      "Data columns (total 6 columns):\n",
      " #   Column            Non-Null Count  Dtype  \n",
      "---  ------            --------------  -----  \n",
      " 0   N° de factura     25953 non-null  object \n",
      " 1   Fecha de factura  25953 non-null  object \n",
      " 2   ID Cliente        22229 non-null  float64\n",
      " 3   País              25953 non-null  object \n",
      " 4   Cantidad          25953 non-null  int64  \n",
      " 5   Monto             25953 non-null  object \n",
      "dtypes: float64(1), int64(1), object(4)\n",
      "memory usage: 1.2+ MB\n"
     ]
    }
   ],
   "source": [
    "data = org_data.copy()\n",
    "data.info()"
   ]
  },
  {
   "cell_type": "markdown",
   "id": "497f1aa8",
   "metadata": {},
   "source": [
    "## OBSERVACIONES\n",
    "- 4 variables de tipocategorico \n",
    "- 2 de tipo numerico \n",
    "- existen datos faltantes y estos se concentran en la ID del cliente\n",
    "- *existen valores con el tipo de dato incorrecto (EL MONTO DEBE SER FLOAT NO OBJECT)*"
   ]
  },
  {
   "cell_type": "markdown",
   "id": "bf7ded3d",
   "metadata": {},
   "source": [
    "## Cambio del tipo de dato de OBJECT  a FLOAT en la variable monto"
   ]
  },
  {
   "cell_type": "code",
   "execution_count": 10,
   "id": "5e3ba5ae",
   "metadata": {},
   "outputs": [
    {
     "name": "stdout",
     "output_type": "stream",
     "text": [
      "nuevos datos con formato de float\n",
      "[229.33, 209.73, -1.45, 39.95, 344.83, 199.98, 30.0, 77.28, 67.5, 321.35]\n",
      "----------------------------------------------------------------------------------------------------\n",
      "<class 'pandas.core.frame.DataFrame'>\n",
      "RangeIndex: 25953 entries, 0 to 25952\n",
      "Data columns (total 7 columns):\n",
      " #   Column            Non-Null Count  Dtype  \n",
      "---  ------            --------------  -----  \n",
      " 0   N° de factura     25953 non-null  object \n",
      " 1   Fecha de factura  25953 non-null  object \n",
      " 2   ID Cliente        22229 non-null  float64\n",
      " 3   País              25953 non-null  object \n",
      " 4   Cantidad          25953 non-null  int64  \n",
      " 5   Monto             25953 non-null  object \n",
      " 6   New monto         25953 non-null  float64\n",
      "dtypes: float64(2), int64(1), object(4)\n",
      "memory usage: 1.4+ MB\n"
     ]
    }
   ],
   "source": [
    "# 1) crear un array vacio que almacenara los datos en su formato final\n",
    "float_monto = []\n",
    "\n",
    "# 2) cambiar en el string la ',' por el'.'\n",
    "# 3) modificar el valor de str a float\n",
    "for i in data['Monto']:\n",
    "    change = i.replace(',','.')\n",
    "    float_monto.append(float(change))\n",
    "    \n",
    "# 3) verifico los datos de la nueva lista\n",
    "print('nuevos datos con formato de float')\n",
    "print(float_monto[0:10])\n",
    "\n",
    "# 4) agregar nueva columna con los datos cambiados al dataframe\n",
    "data['New monto'] = float_monto\n",
    "\n",
    "# 5) confirmo los cambios y el haber agregado la columna\n",
    "print('--'*50)\n",
    "data.info()"
   ]
  },
  {
   "cell_type": "markdown",
   "id": "cf48a30d",
   "metadata": {},
   "source": [
    "## OBSERVACIONES\n",
    "puedo ver como ahora cuento con 7 columnas y la nueva columna tiene sus datos como tipo flotantes"
   ]
  },
  {
   "cell_type": "markdown",
   "id": "0945ae27",
   "metadata": {},
   "source": [
    "# 1) Tratamiento de datos faltantes"
   ]
  },
  {
   "cell_type": "markdown",
   "id": "a43bb64f",
   "metadata": {},
   "source": [
    "## 1.1) Busco en donde existen los datos faltantes  "
   ]
  },
  {
   "cell_type": "code",
   "execution_count": 11,
   "id": "80d11879",
   "metadata": {},
   "outputs": [
    {
     "name": "stdout",
     "output_type": "stream",
     "text": [
      "columna N° de factura : ¿hay datos faltantes? = [False]\n",
      "columna Fecha de factura : ¿hay datos faltantes? = [False]\n",
      "columna ID Cliente : ¿hay datos faltantes? = [False  True]\n",
      "columna País : ¿hay datos faltantes? = [False]\n",
      "columna Cantidad : ¿hay datos faltantes? = [False]\n",
      "columna Monto : ¿hay datos faltantes? = [False]\n",
      "columna New monto : ¿hay datos faltantes? = [False]\n"
     ]
    }
   ],
   "source": [
    "columns = data.columns\n",
    "\n",
    "for col in columns:\n",
    "    print(f'columna {col} : ¿hay datos faltantes? = {data[col].isnull().unique()}')"
   ]
  },
  {
   "cell_type": "markdown",
   "id": "d4b8e7f2",
   "metadata": {},
   "source": [
    "## OBSERVAICONES\n",
    "Solo existen datos faltantes en la columna de ID Cliente"
   ]
  },
  {
   "cell_type": "code",
   "execution_count": 12,
   "id": "beee5ad1",
   "metadata": {},
   "outputs": [
    {
     "name": "stdout",
     "output_type": "stream",
     "text": [
      "la cantidad de datos faltantes es de : 3724\n"
     ]
    }
   ],
   "source": [
    "num_data = data.shape[0]\n",
    "num_data\n",
    "\n",
    "data_nan = data['ID Cliente'].isnull()\n",
    "num_nan = []\n",
    "for i in data_nan:\n",
    "    if i == True:\n",
    "        num_nan.append(i)\n",
    "        \n",
    "print(f'la cantidad de datos faltantes es de : {len(num_nan)}')"
   ]
  },
  {
   "cell_type": "code",
   "execution_count": 13,
   "id": "82bff065",
   "metadata": {},
   "outputs": [
    {
     "data": {
      "text/plain": [
       "22229"
      ]
     },
     "execution_count": 13,
     "metadata": {},
     "output_type": "execute_result"
    }
   ],
   "source": [
    "# de esta forma corroboro si la cantidad indicada concide con la que he hallado\n",
    "num_data - len(num_nan)"
   ]
  },
  {
   "cell_type": "markdown",
   "id": "05854941",
   "metadata": {},
   "source": [
    "## 1.2) En este caso el equipo decidio borrar la columna de datos faltantes\n",
    "- se decidio borrar esta columna aun conociendo que existen tecnicas como la imputacios para trabajar con este tipo de datos, se espera en un futura poder implementar esta y mas tecnicas"
   ]
  },
  {
   "cell_type": "code",
   "execution_count": 14,
   "id": "1b37960b",
   "metadata": {},
   "outputs": [
    {
     "name": "stdout",
     "output_type": "stream",
     "text": [
      "tamaño del dataset antes de borrar datos nulos (25953, 7)\n",
      "tamaño del dataset despues de borrar datos nulos (22229, 7)\n"
     ]
    }
   ],
   "source": [
    "print(f'tamaño del dataset antes de borrar datos nulos {data.shape}')\n",
    "data.dropna(inplace=True)\n",
    "print(f'tamaño del dataset despues de borrar datos nulos {data.shape}')"
   ]
  },
  {
   "cell_type": "markdown",
   "id": "57a38abd",
   "metadata": {},
   "source": [
    "## 1.3) Se decidio de igual forma borrar los datos de las filas que estuvieran repetidos\n",
    "- ya que tener datos repetidos podria alterar en un futuro un analisis exploratorio de datos"
   ]
  },
  {
   "cell_type": "code",
   "execution_count": 15,
   "id": "a76bb6e0",
   "metadata": {},
   "outputs": [
    {
     "name": "stdout",
     "output_type": "stream",
     "text": [
      "tamaño del dataset antes de borrar datos repetidos (22229, 7)\n",
      "tamaño del dataset despues de borrar datos repetidos (22221, 7)\n"
     ]
    }
   ],
   "source": [
    "print(f'tamaño del dataset antes de borrar datos repetidos {data.shape}')\n",
    "data.drop_duplicates(inplace=True)\n",
    "print(f'tamaño del dataset despues de borrar datos repetidos {data.shape}')"
   ]
  },
  {
   "cell_type": "markdown",
   "id": "c4e8a983",
   "metadata": {},
   "source": [
    "## 1.4) Eliminacion de columnas irrelevantes o redundantes"
   ]
  },
  {
   "cell_type": "code",
   "execution_count": 16,
   "id": "760ffe1c",
   "metadata": {},
   "outputs": [],
   "source": [
    "# se eliminara la columna de Monto ya que esta contiene informacion redundante y en formato erroneo\n",
    "data.drop('Monto', axis=1, inplace=True)"
   ]
  },
  {
   "cell_type": "code",
   "execution_count": 17,
   "id": "13108e21",
   "metadata": {},
   "outputs": [
    {
     "name": "stdout",
     "output_type": "stream",
     "text": [
      "<class 'pandas.core.frame.DataFrame'>\n",
      "Int64Index: 22221 entries, 0 to 25951\n",
      "Data columns (total 6 columns):\n",
      " #   Column            Non-Null Count  Dtype  \n",
      "---  ------            --------------  -----  \n",
      " 0   N° de factura     22221 non-null  object \n",
      " 1   Fecha de factura  22221 non-null  object \n",
      " 2   ID Cliente        22221 non-null  float64\n",
      " 3   País              22221 non-null  object \n",
      " 4   Cantidad          22221 non-null  int64  \n",
      " 5   New monto         22221 non-null  float64\n",
      "dtypes: float64(2), int64(1), object(3)\n",
      "memory usage: 1.2+ MB\n"
     ]
    }
   ],
   "source": [
    "data.info()"
   ]
  },
  {
   "cell_type": "code",
   "execution_count": 18,
   "id": "956d4408",
   "metadata": {},
   "outputs": [
    {
     "data": {
      "text/plain": [
       "(22221, 6)"
      ]
     },
     "execution_count": 18,
     "metadata": {},
     "output_type": "execute_result"
    }
   ],
   "source": [
    "## EL tamaño del set de datos se queda en \n",
    "data.shape"
   ]
  },
  {
   "cell_type": "markdown",
   "id": "c8a54f3e",
   "metadata": {},
   "source": [
    "## 2) trabajaremos con los datos numericos \n",
    "- buscamos ver como se comportan estos valores "
   ]
  },
  {
   "cell_type": "code",
   "execution_count": 19,
   "id": "a76c8895",
   "metadata": {},
   "outputs": [
    {
     "data": {
      "text/html": [
       "<div>\n",
       "<style scoped>\n",
       "    .dataframe tbody tr th:only-of-type {\n",
       "        vertical-align: middle;\n",
       "    }\n",
       "\n",
       "    .dataframe tbody tr th {\n",
       "        vertical-align: top;\n",
       "    }\n",
       "\n",
       "    .dataframe thead th {\n",
       "        text-align: right;\n",
       "    }\n",
       "</style>\n",
       "<table border=\"1\" class=\"dataframe\">\n",
       "  <thead>\n",
       "    <tr style=\"text-align: right;\">\n",
       "      <th></th>\n",
       "      <th>ID Cliente</th>\n",
       "      <th>Cantidad</th>\n",
       "      <th>New monto</th>\n",
       "    </tr>\n",
       "  </thead>\n",
       "  <tbody>\n",
       "    <tr>\n",
       "      <th>count</th>\n",
       "      <td>22221.000000</td>\n",
       "      <td>22221.000000</td>\n",
       "      <td>22221.000000</td>\n",
       "    </tr>\n",
       "    <tr>\n",
       "      <th>mean</th>\n",
       "      <td>15238.398317</td>\n",
       "      <td>220.822105</td>\n",
       "      <td>373.523505</td>\n",
       "    </tr>\n",
       "    <tr>\n",
       "      <th>std</th>\n",
       "      <td>1732.987098</td>\n",
       "      <td>1169.306198</td>\n",
       "      <td>2016.999501</td>\n",
       "    </tr>\n",
       "    <tr>\n",
       "      <th>min</th>\n",
       "      <td>12346.000000</td>\n",
       "      <td>-80995.000000</td>\n",
       "      <td>-168469.600000</td>\n",
       "    </tr>\n",
       "    <tr>\n",
       "      <th>25%</th>\n",
       "      <td>13755.000000</td>\n",
       "      <td>30.000000</td>\n",
       "      <td>87.440000</td>\n",
       "    </tr>\n",
       "    <tr>\n",
       "      <th>50%</th>\n",
       "      <td>15136.000000</td>\n",
       "      <td>120.000000</td>\n",
       "      <td>240.680000</td>\n",
       "    </tr>\n",
       "    <tr>\n",
       "      <th>75%</th>\n",
       "      <td>16746.000000</td>\n",
       "      <td>254.000000</td>\n",
       "      <td>417.620000</td>\n",
       "    </tr>\n",
       "    <tr>\n",
       "      <th>max</th>\n",
       "      <td>18287.000000</td>\n",
       "      <td>80995.000000</td>\n",
       "      <td>168469.600000</td>\n",
       "    </tr>\n",
       "  </tbody>\n",
       "</table>\n",
       "</div>"
      ],
      "text/plain": [
       "         ID Cliente      Cantidad      New monto\n",
       "count  22221.000000  22221.000000   22221.000000\n",
       "mean   15238.398317    220.822105     373.523505\n",
       "std     1732.987098   1169.306198    2016.999501\n",
       "min    12346.000000 -80995.000000 -168469.600000\n",
       "25%    13755.000000     30.000000      87.440000\n",
       "50%    15136.000000    120.000000     240.680000\n",
       "75%    16746.000000    254.000000     417.620000\n",
       "max    18287.000000  80995.000000  168469.600000"
      ]
     },
     "execution_count": 19,
     "metadata": {},
     "output_type": "execute_result"
    }
   ],
   "source": [
    "data.describe()"
   ]
  },
  {
   "cell_type": "code",
   "execution_count": 20,
   "id": "42f10ea0",
   "metadata": {},
   "outputs": [
    {
     "data": {
      "image/png": "[encoded data removed]",
      "text/plain": [
       "<Figure size 576x1440 with 3 Axes>"
      ]
     },
     "metadata": {
      "needs_background": "light"
     },
     "output_type": "display_data"
    }
   ],
   "source": [
    "## variables numericas\n",
    "data_num = ['ID Cliente', 'Cantidad', 'New monto']\n",
    "\n",
    "## cantidad y espacio donde creare las graficas\n",
    "fig, ax = plt.subplots(nrows=(len(data_num)), ncols=1,figsize=(8,20))\n",
    "fig.subplots_adjust(hspace=0.5)\n",
    "\n",
    "for i, col in enumerate(data_num):\n",
    "    sns.boxplot(data=data, x=col, ax=ax[i])\n",
    "    ax[i].set_title(col)\n",
    "    \n"
   ]
  },
  {
   "cell_type": "markdown",
   "id": "0ae1c72b",
   "metadata": {},
   "source": [
    "## tratamiento de valores negativos\n",
    "- veremos si estos valores tienen la misma poscicion tanto en monto como en cantidad para de esta forma si coinciden se tomaran desciciones acerca de estos tales como volverlos positivos"
   ]
  },
  {
   "cell_type": "code",
   "execution_count": 21,
   "id": "0fb50118",
   "metadata": {},
   "outputs": [
    {
     "data": {
      "text/html": [
       "<div>\n",
       "<style scoped>\n",
       "    .dataframe tbody tr th:only-of-type {\n",
       "        vertical-align: middle;\n",
       "    }\n",
       "\n",
       "    .dataframe tbody tr th {\n",
       "        vertical-align: top;\n",
       "    }\n",
       "\n",
       "    .dataframe thead th {\n",
       "        text-align: right;\n",
       "    }\n",
       "</style>\n",
       "<table border=\"1\" class=\"dataframe\">\n",
       "  <thead>\n",
       "    <tr style=\"text-align: right;\">\n",
       "      <th></th>\n",
       "      <th>N° de factura</th>\n",
       "      <th>Fecha de factura</th>\n",
       "      <th>ID Cliente</th>\n",
       "      <th>País</th>\n",
       "      <th>Cantidad</th>\n",
       "      <th>New monto</th>\n",
       "    </tr>\n",
       "  </thead>\n",
       "  <tbody>\n",
       "    <tr>\n",
       "      <th>0</th>\n",
       "      <td>548370</td>\n",
       "      <td>3/30/2021 16:14:00</td>\n",
       "      <td>15528.0</td>\n",
       "      <td>United Kingdom</td>\n",
       "      <td>123</td>\n",
       "      <td>229.33</td>\n",
       "    </tr>\n",
       "    <tr>\n",
       "      <th>1</th>\n",
       "      <td>575767</td>\n",
       "      <td>11/11/2021 11:11:00</td>\n",
       "      <td>17348.0</td>\n",
       "      <td>United Kingdom</td>\n",
       "      <td>163</td>\n",
       "      <td>209.73</td>\n",
       "    </tr>\n",
       "    <tr>\n",
       "      <th>2</th>\n",
       "      <td>C570727</td>\n",
       "      <td>10/12/2021 11:32:00</td>\n",
       "      <td>12471.0</td>\n",
       "      <td>Germany</td>\n",
       "      <td>-1</td>\n",
       "      <td>-1.45</td>\n",
       "    </tr>\n",
       "  </tbody>\n",
       "</table>\n",
       "</div>"
      ],
      "text/plain": [
       "  N° de factura     Fecha de factura  ID Cliente            País  Cantidad  \\\n",
       "0        548370   3/30/2021 16:14:00     15528.0  United Kingdom       123   \n",
       "1        575767  11/11/2021 11:11:00     17348.0  United Kingdom       163   \n",
       "2       C570727  10/12/2021 11:32:00     12471.0         Germany        -1   \n",
       "\n",
       "   New monto  \n",
       "0     229.33  \n",
       "1     209.73  \n",
       "2      -1.45  "
      ]
     },
     "execution_count": 21,
     "metadata": {},
     "output_type": "execute_result"
    }
   ],
   "source": [
    "data.head(3)"
   ]
  },
  {
   "cell_type": "code",
   "execution_count": 22,
   "id": "d9ef797f",
   "metadata": {},
   "outputs": [
    {
     "name": "stdout",
     "output_type": "stream",
     "text": [
      "numpy estas listas son iguales: True\n"
     ]
    }
   ],
   "source": [
    "## 1) crear una lista con los indices de los montos negativs\n",
    "## 2) crear una lista con los indices de las cantidad engativas\n",
    "## 3) compara las lista y ver si son iguales\n",
    "monto = data['New monto']\n",
    "cantidad = data.Cantidad\n",
    "\n",
    "neg_index_monto = []\n",
    "neg_index_cantidad = []\n",
    "\n",
    "# 1) crear y llenar una lista con los indices de los montos negativos\n",
    "for index, values in enumerate(monto):\n",
    "    if values < 0:\n",
    "        neg_index_monto.append(index)\n",
    "        \n",
    "# 2) crear y llenar una lista con los indices de las cantidades negativas\n",
    "for index, values in enumerate(cantidad):\n",
    "    if values < 0:\n",
    "        neg_index_cantidad.append(index)\n",
    "        \n",
    "# 3) compara las listas y ver si son iguales\n",
    "## usare una funcion de numpy que se encargara de estp\n",
    "\n",
    "np_monto = np.array(neg_index_monto)\n",
    "np_cantidad = np.array(neg_index_cantidad)\n",
    "\n",
    "print(f'numpy estas listas son iguales: {np.array_equal(np_monto, np_cantidad)}')"
   ]
  },
  {
   "cell_type": "code",
   "execution_count": 23,
   "id": "da5c0a0b",
   "metadata": {},
   "outputs": [
    {
     "name": "stdout",
     "output_type": "stream",
     "text": [
      "valores en monto 3655, valores de cantidad 3655\n"
     ]
    }
   ],
   "source": [
    "print(f'valores en monto {len(np_monto)}, valores de cantidad {len(np_cantidad)}')\n",
    "\n"
   ]
  },
  {
   "cell_type": "code",
   "execution_count": null,
   "id": "baaee26e",
   "metadata": {},
   "outputs": [],
   "source": []
  },
  {
   "cell_type": "code",
   "execution_count": null,
   "id": "f95fb683",
   "metadata": {},
   "outputs": [],
   "source": []
  },
  {
   "cell_type": "markdown",
   "id": "5dada184",
   "metadata": {},
   "source": [
    "#### al ser iguales las posiciones se vera si e xiste una relacion entre la cantidad y el monto si esta s e mantiene los datos se convertirarn en datos positivos"
   ]
  },
  {
   "cell_type": "code",
   "execution_count": 24,
   "id": "b316eaa6",
   "metadata": {},
   "outputs": [
    {
     "name": "stdout",
     "output_type": "stream",
     "text": [
      "[1.45, 1.85, 0.65, 5.616666666666667, 3.75, 9.95, 0.85, 3.75, 3.25, 12.15, 11.95, 1.25, 1.95, 0.8346428571428571, 3.4257894736842105, 1.6, 40.0, 0.07, 2.4, 3.9076923076923076, 3.69, 8.5, 1.95, 0.75, 1.95, 1.25, 4.616666666666666, 6.998333333333334, 1.2582252559726963, 8.5, 0.19999999999999998, 2.59, 2.091304347826087, 1.2024029574861368, 3.016666666666667, 12.75, 1.25, 3.75, 1.0187772925764194, 3.95, 4.57, 2.9499999999999997, 0.87, 1.25, 10.950000000000001, 12.75, 9.950000000000001, 1.65, 6.183333333333334, 5.416666666666667]\n"
     ]
    }
   ],
   "source": [
    "## 1) creacion de las listas que contendran los valores negativos\n",
    "\n",
    "monto_negativo = []\n",
    "monto = np.array(data['New monto'])\n",
    "\n",
    "cantidad_negativa = []\n",
    "cantidad = np.array(data['Cantidad'])\n",
    "\n",
    "## las llenare con ayuda de los indices que previamente tengo\n",
    "\n",
    "##monto_Negativo\n",
    "for i in np_monto:\n",
    "    monto_negativo.append(monto[i])\n",
    "\n",
    "## cantidad negativa \n",
    "for i in np_cantidad:\n",
    "    cantidad_negativa.append(cantidad[i])\n",
    "\n",
    "## 2) dividire el monto entre la cantidad y si la lista resultante resulta tener cantidades iguales podre decir \n",
    "## que los valores son crreospondientessolo que en su forma negativa\n",
    "relacion=[]\n",
    "\n",
    "for i in range(len(monto_negativo)):\n",
    "    monto = monto_negativo[i]\n",
    "    cantidad = cantidad_negativa[i]\n",
    "    resultado = monto/cantidad\n",
    "    relacion.append(resultado)\n",
    "\n",
    "print(relacion[0:50])"
   ]
  },
  {
   "cell_type": "markdown",
   "id": "a2481d4d",
   "metadata": {},
   "source": [
    "## Observaicones\n",
    "- no existe una relacion entre precio y monto asi que se decidio borrar estos negativos ya que por ahora no podremos saber si esto se debe a que se vendieron diferentes articulos o el mismo "
   ]
  },
  {
   "cell_type": "markdown",
   "id": "099135a9",
   "metadata": {},
   "source": [
    "# eliminacion de los datos con valores negativos"
   ]
  },
  {
   "cell_type": "code",
   "execution_count": 25,
   "id": "9cec08d2",
   "metadata": {},
   "outputs": [
    {
     "name": "stdout",
     "output_type": "stream",
     "text": [
      "cantidad de datos antes de borrar los valores negativos (22221, 6)\n",
      "cantidad de datos despues de borrar los valores negativos (18566, 6)\n"
     ]
    }
   ],
   "source": [
    "print(f'cantidad de datos antes de borrar los valores negativos {data.shape}')\n",
    "data = data[data['Cantidad'] > 0]\n",
    "print(f'cantidad de datos despues de borrar los valores negativos {data.shape}')"
   ]
  },
  {
   "cell_type": "code",
   "execution_count": null,
   "id": "13dfaa9e",
   "metadata": {},
   "outputs": [],
   "source": []
  },
  {
   "cell_type": "code",
   "execution_count": null,
   "id": "fefcbb51",
   "metadata": {},
   "outputs": [],
   "source": []
  },
  {
   "cell_type": "code",
   "execution_count": null,
   "id": "22b3df47",
   "metadata": {},
   "outputs": [],
   "source": []
  },
  {
   "cell_type": "code",
   "execution_count": null,
   "id": "0b39e6d0",
   "metadata": {},
   "outputs": [],
   "source": []
  },
  {
   "cell_type": "markdown",
   "id": "9737faba",
   "metadata": {},
   "source": [
    "##  OBSERVACIONES \n",
    "- se cuentan con valores atipicos positivos \n",
    "\n",
    "## veo como se ven los datos sin estos valores atipicos"
   ]
  },
  {
   "cell_type": "code",
   "execution_count": 26,
   "id": "bea7b83a",
   "metadata": {},
   "outputs": [
    {
     "data": {
      "image/png": "[encoded data removed]",
      "text/plain": [
       "<Figure size 576x1440 with 3 Axes>"
      ]
     },
     "metadata": {
      "needs_background": "light"
     },
     "output_type": "display_data"
    }
   ],
   "source": [
    "## variables numericas\n",
    "data_num = ['ID Cliente', 'Cantidad', 'New monto']\n",
    "\n",
    "## cantidad y espacio donde creare las graficas\n",
    "fig, ax = plt.subplots(nrows=(len(data_num)), ncols=1,figsize=(8,20))\n",
    "fig.subplots_adjust(hspace=0.5)\n",
    "\n",
    "for i, col in enumerate(data_num):\n",
    "    sns.boxplot(data=data, x=col, ax=ax[i], showfliers=True)\n",
    "    ax[i].set_title(col)\n",
    "    \n"
   ]
  },
  {
   "cell_type": "markdown",
   "id": "4e75186e",
   "metadata": {},
   "source": [
    "# visualizacion de los datos sin valores atipicos"
   ]
  },
  {
   "cell_type": "code",
   "execution_count": 27,
   "id": "86c66865",
   "metadata": {},
   "outputs": [
    {
     "data": {
      "image/png": "[encoded data removed]",
      "text/plain": [
       "<Figure size 576x1440 with 3 Axes>"
      ]
     },
     "metadata": {
      "needs_background": "light"
     },
     "output_type": "display_data"
    }
   ],
   "source": [
    "## variables numericas\n",
    "data_num = ['ID Cliente', 'Cantidad', 'New monto']\n",
    "\n",
    "## cantidad y espacio donde creare las graficas\n",
    "fig, ax = plt.subplots(nrows=(len(data_num)), ncols=1,figsize=(8,20))\n",
    "fig.subplots_adjust(hspace=0.5)\n",
    "\n",
    "for i, col in enumerate(data_num):\n",
    "    sns.boxplot(data=data, x=col, ax=ax[i], showfliers=False)\n",
    "    ax[i].set_title(col)\n",
    "    \n"
   ]
  },
  {
   "cell_type": "code",
   "execution_count": null,
   "id": "fc524e83",
   "metadata": {},
   "outputs": [],
   "source": []
  },
  {
   "cell_type": "markdown",
   "id": "36c42854",
   "metadata": {},
   "source": [
    "## 3) Tratamiento de variables categoricas"
   ]
  },
  {
   "cell_type": "code",
   "execution_count": 28,
   "id": "9ad04405",
   "metadata": {},
   "outputs": [
    {
     "name": "stdout",
     "output_type": "stream",
     "text": [
      "<class 'pandas.core.frame.DataFrame'>\n",
      "Int64Index: 18566 entries, 0 to 25951\n",
      "Data columns (total 6 columns):\n",
      " #   Column            Non-Null Count  Dtype  \n",
      "---  ------            --------------  -----  \n",
      " 0   N° de factura     18566 non-null  object \n",
      " 1   Fecha de factura  18566 non-null  object \n",
      " 2   ID Cliente        18566 non-null  float64\n",
      " 3   País              18566 non-null  object \n",
      " 4   Cantidad          18566 non-null  int64  \n",
      " 5   New monto         18566 non-null  float64\n",
      "dtypes: float64(2), int64(1), object(3)\n",
      "memory usage: 1015.3+ KB\n"
     ]
    }
   ],
   "source": [
    "data.info()"
   ]
  },
  {
   "cell_type": "code",
   "execution_count": 29,
   "id": "b8452405",
   "metadata": {},
   "outputs": [
    {
     "name": "stdout",
     "output_type": "stream",
     "text": [
      "columna N° de factura: tiene 18536 subniveles\n",
      "columna Fecha de factura: tiene 17286 subniveles\n",
      "columna País: tiene 37 subniveles\n"
     ]
    }
   ],
   "source": [
    "category_columns = ['N° de factura','Fecha de factura','País']\n",
    "## ver los subniveles que tienen las variables categoricas\n",
    "for col in category_columns:\n",
    "    print(f'columna {col}: tiene {data[col].nunique()} subniveles')\n"
   ]
  },
  {
   "cell_type": "markdown",
   "id": "3af381d5",
   "metadata": {},
   "source": [
    "## OBSERVACIONES\n",
    "1) se aprecia que existen muchos subniveles en la fecha lo que se hara es:\n",
    "- cambiar las fechas a un tipo de dato trabajable\n",
    "- crear una columna para categorizar las ventas solo por mes\n",
    "\n",
    "2) se aprecia que existen muchos subniveles de facturas aun no se decide que se hara con estos datos"
   ]
  },
  {
   "cell_type": "code",
   "execution_count": 30,
   "id": "50c58a40",
   "metadata": {},
   "outputs": [
    {
     "name": "stdout",
     "output_type": "stream",
     "text": [
      "antiguo formato de fecha\n",
      "<class 'str'>\n",
      "----------------------------------------------------------------------------------------------------\n",
      "nuevo formato de fecha\n",
      "<class 'datetime.datetime'>\n"
     ]
    }
   ],
   "source": [
    "# 1) crear una nueva columna con las fechas en formato DATETIME\n",
    "## lista antigua con las  fechas en formato STR y nueva lista que guardara los DATETIME\n",
    "old_fecha = data['Fecha de factura']\n",
    "new_fecha = []\n",
    "\n",
    "## covnersion de las fechas de str a datetime y guardado en la nueva lista \n",
    "for i in old_fecha:\n",
    "    a = datetime.strptime(i, '%m/%d/%Y %H:%M:%S')\n",
    "    new_fecha.append(a)\n",
    "    \n",
    "## corroboracin del cambio de formato\n",
    "print('antiguo formato de fecha')\n",
    "print(type(old_fecha[0]))\n",
    "print('--'*50)\n",
    "print('nuevo formato de fecha')\n",
    "print(type(new_fecha[0]))"
   ]
  },
  {
   "cell_type": "code",
   "execution_count": 31,
   "id": "7e563b14",
   "metadata": {},
   "outputs": [
    {
     "data": {
      "text/html": [
       "<div>\n",
       "<style scoped>\n",
       "    .dataframe tbody tr th:only-of-type {\n",
       "        vertical-align: middle;\n",
       "    }\n",
       "\n",
       "    .dataframe tbody tr th {\n",
       "        vertical-align: top;\n",
       "    }\n",
       "\n",
       "    .dataframe thead th {\n",
       "        text-align: right;\n",
       "    }\n",
       "</style>\n",
       "<table border=\"1\" class=\"dataframe\">\n",
       "  <thead>\n",
       "    <tr style=\"text-align: right;\">\n",
       "      <th></th>\n",
       "      <th>N° de factura</th>\n",
       "      <th>Fecha de factura</th>\n",
       "      <th>ID Cliente</th>\n",
       "      <th>País</th>\n",
       "      <th>Cantidad</th>\n",
       "      <th>New monto</th>\n",
       "    </tr>\n",
       "  </thead>\n",
       "  <tbody>\n",
       "    <tr>\n",
       "      <th>0</th>\n",
       "      <td>548370</td>\n",
       "      <td>3/30/2021 16:14:00</td>\n",
       "      <td>15528.0</td>\n",
       "      <td>United Kingdom</td>\n",
       "      <td>123</td>\n",
       "      <td>229.33</td>\n",
       "    </tr>\n",
       "    <tr>\n",
       "      <th>1</th>\n",
       "      <td>575767</td>\n",
       "      <td>11/11/2021 11:11:00</td>\n",
       "      <td>17348.0</td>\n",
       "      <td>United Kingdom</td>\n",
       "      <td>163</td>\n",
       "      <td>209.73</td>\n",
       "    </tr>\n",
       "    <tr>\n",
       "      <th>3</th>\n",
       "      <td>549106</td>\n",
       "      <td>4/6/2021 12:08:00</td>\n",
       "      <td>17045.0</td>\n",
       "      <td>United Kingdom</td>\n",
       "      <td>1</td>\n",
       "      <td>39.95</td>\n",
       "    </tr>\n",
       "    <tr>\n",
       "      <th>4</th>\n",
       "      <td>573112</td>\n",
       "      <td>10/27/2021 15:33:00</td>\n",
       "      <td>16416.0</td>\n",
       "      <td>United Kingdom</td>\n",
       "      <td>357</td>\n",
       "      <td>344.83</td>\n",
       "    </tr>\n",
       "    <tr>\n",
       "      <th>5</th>\n",
       "      <td>576630</td>\n",
       "      <td>11/16/2021 8:38:00</td>\n",
       "      <td>13816.0</td>\n",
       "      <td>Germany</td>\n",
       "      <td>91</td>\n",
       "      <td>199.98</td>\n",
       "    </tr>\n",
       "    <tr>\n",
       "      <th>6</th>\n",
       "      <td>538125</td>\n",
       "      <td>12/9/2020 15:46:00</td>\n",
       "      <td>18225.0</td>\n",
       "      <td>United Kingdom</td>\n",
       "      <td>16</td>\n",
       "      <td>30.00</td>\n",
       "    </tr>\n",
       "    <tr>\n",
       "      <th>7</th>\n",
       "      <td>544354</td>\n",
       "      <td>2/18/2021 10:42:00</td>\n",
       "      <td>13489.0</td>\n",
       "      <td>United Kingdom</td>\n",
       "      <td>64</td>\n",
       "      <td>77.28</td>\n",
       "    </tr>\n",
       "    <tr>\n",
       "      <th>8</th>\n",
       "      <td>546369</td>\n",
       "      <td>3/11/2021 11:41:00</td>\n",
       "      <td>15513.0</td>\n",
       "      <td>United Kingdom</td>\n",
       "      <td>10</td>\n",
       "      <td>67.50</td>\n",
       "    </tr>\n",
       "    <tr>\n",
       "      <th>9</th>\n",
       "      <td>570651</td>\n",
       "      <td>10/11/2021 13:34:00</td>\n",
       "      <td>14911.0</td>\n",
       "      <td>EIRE</td>\n",
       "      <td>86</td>\n",
       "      <td>321.35</td>\n",
       "    </tr>\n",
       "    <tr>\n",
       "      <th>13</th>\n",
       "      <td>575581</td>\n",
       "      <td>11/10/2021 11:53:00</td>\n",
       "      <td>12659.0</td>\n",
       "      <td>France</td>\n",
       "      <td>105</td>\n",
       "      <td>91.68</td>\n",
       "    </tr>\n",
       "  </tbody>\n",
       "</table>\n",
       "</div>"
      ],
      "text/plain": [
       "   N° de factura     Fecha de factura  ID Cliente            País  Cantidad  \\\n",
       "0         548370   3/30/2021 16:14:00     15528.0  United Kingdom       123   \n",
       "1         575767  11/11/2021 11:11:00     17348.0  United Kingdom       163   \n",
       "3         549106    4/6/2021 12:08:00     17045.0  United Kingdom         1   \n",
       "4         573112  10/27/2021 15:33:00     16416.0  United Kingdom       357   \n",
       "5         576630   11/16/2021 8:38:00     13816.0         Germany        91   \n",
       "6         538125   12/9/2020 15:46:00     18225.0  United Kingdom        16   \n",
       "7         544354   2/18/2021 10:42:00     13489.0  United Kingdom        64   \n",
       "8         546369   3/11/2021 11:41:00     15513.0  United Kingdom        10   \n",
       "9         570651  10/11/2021 13:34:00     14911.0            EIRE        86   \n",
       "13        575581  11/10/2021 11:53:00     12659.0          France       105   \n",
       "\n",
       "    New monto  \n",
       "0      229.33  \n",
       "1      209.73  \n",
       "3       39.95  \n",
       "4      344.83  \n",
       "5      199.98  \n",
       "6       30.00  \n",
       "7       77.28  \n",
       "8       67.50  \n",
       "9      321.35  \n",
       "13      91.68  "
      ]
     },
     "execution_count": 31,
     "metadata": {},
     "output_type": "execute_result"
    }
   ],
   "source": [
    "data.head(10)"
   ]
  },
  {
   "cell_type": "code",
   "execution_count": 91,
   "id": "d2fd3776",
   "metadata": {},
   "outputs": [
    {
     "name": "stdout",
     "output_type": "stream",
     "text": [
      "[3, 11, 4, 10, 11, 12, 2, 3, 10, 11, 12, 2, 8, 3, 11, 4, 11, 10, 12, 5, 4, 6, 4, 11, 9, 9, 12, 12, 1, 11, 9, 8, 8, 12, 11, 7, 10, 11, 10, 1, 5, 9, 11, 10, 11, 11, 1, 7, 11, 7, 12, 10, 12, 5, 8, 1, 7, 9, 1, 10, 12, 4, 6, 8, 8, 11, 5, 10, 3, 6, 10, 2, 8, 10, 6, 12, 7, 4, 9, 6, 3, 6, 10, 1, 3, 6, 3, 6, 2, 5, 1, 1, 12, 3, 5, 9, 7, 3, 9, 7, 1, 10, 11, 4, 6, 7, 3, 11, 10, 2, 5, 4, 10, 3, 10, 8, 5, 12, 11, 3, 7, 7, 12, 4, 9, 12, 5, 12, 3, 6, 5, 4, 11, 11, 11, 3, 6, 9, 11, 4, 3, 11, 7, 9, 11, 11, 1, 11, 12, 1, 11, 7, 1, 11, 6, 9, 8, 7, 9, 8, 4, 11, 10, 11, 2, 2, 8, 9, 9, 4, 1, 11, 7, 7, 11, 3, 8, 8, 12, 10, 9, 5, 12, 3, 10, 1, 9, 4, 1, 4, 10, 12, 6, 7, 5, 9, 12, 8, 9, 12, 10, 10, 1, 3, 7, 10, 11, 11, 6, 11, 11, 10, 9, 12, 5, 1, 2, 9, 2, 12, 4, 11, 2, 1, 2, 5, 5, 1, 9, 12, 7, 9, 5, 3, 3, 2, 1, 3, 5, 12, 8, 2, 8, 11, 10, 10, 4, 1, 10, 10, 9, 5, 2, 5, 5, 4, 2, 11, 2, 11, 10, 6, 1, 5, 4, 8, 2, 11, 2, 2, 4, 11, 3, 11, 9, 10, 5, 9, 4, 11, 6, 1, 8, 2, 6, 10, 7, 11, 11, 3, 2, 8, 6, 10, 12, 7, 12, 10, 3, 11, 9, 5, 12, 7, 7, 4, 9, 9, 9, 1, 5, 1, 4, 12, 11, 2, 1, 11, 12, 2, 11, 2, 5, 2, 11, 9, 7, 5, 11, 8, 11, 6, 12, 10, 6, 6, 8, 11, 5, 7, 10, 12, 2, 9, 12, 10, 9, 12, 3, 7, 9, 11, 11, 10, 12, 8, 4, 9, 6, 9, 11, 9, 3, 12, 12, 8, 10, 11, 2, 5, 11, 5, 5, 11, 9, 6, 8, 11, 6, 2, 12, 2, 11, 4, 11, 8, 6, 5, 4, 5, 10, 6, 10, 6, 10, 8, 8, 9, 11, 10, 7, 11, 10, 6, 6, 8, 2, 1, 3, 1, 11, 3, 5, 2, 6, 1, 11, 6, 12, 8, 11, 10, 10, 12, 11, 7, 3, 1, 3, 1, 8, 11, 10, 6, 12, 11, 11, 12, 11, 6, 7, 11, 10, 1, 3, 3, 3, 6, 10, 5, 9, 6, 9, 5, 10, 3, 11, 1, 2, 12, 11, 4, 9, 8, 5, 8, 1, 4, 12, 6, 10, 3, 10, 9, 10, 4, 10, 1, 5, 10, 3, 5, 10, 12, 9, 5, 11, 1, 11, 8, 1, 2, 12, 12, 7, 3, 2, 1, 11, 12, 4, 11, 12, 6, 4, 3, 5, 8, 12, 9, 11, 8, 4, 10, 2, 10, 10, 11, 7, 4, 10, 7, 3, 4, 12, 5, 7, 11, 2, 5, 6, 5, 8, 9, 9, 5, 3, 2, 11, 7, 10, 3, 3, 3, 5, 1, 6, 12, 4, 7, 12, 12, 8, 5, 11, 11, 5, 3, 1, 9, 12, 11, 8, 9, 9, 11, 4, 8, 11, 6, 8, 10, 2, 7, 8, 10, 6, 11, 12, 12, 7, 10, 1, 8, 8, 12, 6, 7, 12, 10, 11, 10, 7, 3, 11, 11, 10, 4, 10, 11, 5, 9, 9, 2, 9, 7, 9, 11, 12, 11, 1, 7, 6, 8, 9, 2, 1, 11, 10, 12, 6, 6, 4, 9, 12, 5, 3, 1, 11, 6, 12, 6, 4, 12, 2, 12, 10, 10, 2, 2, 4, 4, 8, 5, 12, 5, 10, 1, 3, 3, 2, 3, 11, 10, 9, 4, 4, 10, 10, 3, 9, 10, 11, 6, 8, 10, 6, 8, 11, 9, 5, 11, 2, 9, 11, 4, 9, 10, 3, 11, 9, 7, 1, 5, 4, 7, 11, 9, 12, 3, 12, 10, 7, 9, 7, 8, 10, 5, 10, 8, 9, 5, 9, 8, 3, 5, 12, 2, 7, 8, 11, 6, 11, 8, 5, 11, 2, 10, 5, 11, 9, 3, 11, 1, 8, 8, 2, 8, 11, 9, 2, 9, 7, 12, 7, 2, 11, 4, 11, 12, 2, 9, 7, 10, 6, 12, 7, 11, 10, 11, 11, 11, 12, 9, 11, 3, 2, 7, 12, 2, 10, 10, 9, 1, 10, 11, 5, 4, 11, 11, 3, 5, 10, 3, 9, 9, 6, 11, 2, 2, 6, 8, 4, 11, 6, 1, 12, 3, 10, 1, 2, 8, 12, 2, 11, 10, 8, 9, 11, 5, 12, 11, 8, 3, 11, 12, 6, 12, 4, 7, 4, 5, 7, 12, 5, 8, 11, 4, 10, 5, 3, 2, 1, 8, 11, 7, 1, 11, 12, 8, 12, 4, 6, 11, 5, 8, 4, 9, 7, 3, 6, 6, 7, 12, 1, 6, 7, 5, 10, 4, 4, 8, 4, 11, 2, 11, 4, 4, 8, 3, 11, 6, 5, 5, 6, 5, 6, 8, 1, 3, 12, 7, 8, 10, 8, 12, 3, 12, 5, 11, 8, 2, 12, 1, 10, 11, 8, 2, 5, 9, 11, 8, 10, 7, 11, 12, 5, 10, 7, 8, 3, 7, 6, 11, 11, 12, 3, 6, 1, 7, 10, 5, 5, 9, 2, 1, 12, 3, 12, 6, 10, 4, 9, 8, 9, 5, 7, 5, 12, 6, 8, 4, 10, 10, 9, 5, 2, 12, 12, 8, 12, 8, 9, 12, 5, 12, 2, 12, 6, 12, 10, 11, 8, 11, 1, 8, 8, 5, 12, 11, 9, 8, 9, 9, 4, 10, 8, 9, 12, 5, 6, 9, 3, 1, 1, 6, 11, 11, 10, 5, 2, 7, 10, 1, 12, 12, 8, 2, 4, 3, 10, 9, 10, 10, 11, 8, 5, 11, 11, 10, 9, 8, 12, 9, 11, 6, 11, 3, 5, 3, 2, 7, 10, 5, 1, 10, 11, 9, 5, 12, 5, 5, 12, 3, 11, 6, 10, 8, 12, 2, 1, 8, 6, 12, 3, 7, 9, 10, 1, 11, 11, 12, 10, 10, 6, 12, 9, 3, 9, 5, 1, 4, 5, 6, 11, 11, 7, 10, 5, 11, 11, 4, 10, 4, 9, 5, 5, 12, 8, 2, 11, 8, 8, 11, 6, 9, 8, 6, 2, 10, 11, 12, 12, 8, 12, 12, 6, 6, 5, 8, 12, 10, 4, 11, 6, 7, 7, 10, 8, 1, 3, 6, 9, 9, 2, 11, 5, 8, 11, 5, 11, 9, 4, 12, 7, 6, 4, 11, 1, 8, 9, 5, 4, 11, 3, 10, 10, 12, 7, 10, 10, 3, 7, 8, 5, 2, 3, 3, 9, 11, 11, 5, 6, 11, 8, 7, 2, 7, 12, 9, 5, 6, 1, 3, 11, 9, 9, 3, 8, 2, 7, 5, 5, 6, 11, 12, 12, 3, 3, 8, 6, 9, 4, 10, 12, 4, 9, 9, 12, 1, 2, 4, 10, 8, 7, 10, 7, 11, 3, 10, 10, 10, 11, 3, 12, 12, 5, 11, 6, 3, 2, 11, 5, 8, 10, 10, 9, 8, 11, 6, 12, 11, 10, 1, 11, 12, 4, 10, 10, 6, 6, 9, 4, 5, 10, 8, 9, 12, 12, 8, 11, 11, 12, 2, 11, 5, 11, 4, 9, 5, 1, 11, 11, 3, 1, 9, 5, 10, 2, 7, 10, 12, 5, 9, 12, 8, 11, 9, 8, 11, 11, 11, 10, 1, 12, 7, 8, 11, 10, 1, 12, 10, 10, 11, 12, 12, 11, 9, 7, 9, 12, 6, 7, 11, 7, 8, 3, 3, 1, 2, 12, 5, 3, 2, 12, 11, 8, 12, 10, 4, 9, 11, 12, 9, 11, 10, 3, 10, 4, 4, 12, 9, 10, 7, 12, 5, 2, 10, 1, 7, 9, 11, 3, 3, 6, 10, 12, 7, 10, 2, 11, 4, 8, 4, 5, 1, 6, 9, 3, 11, 6, 6, 9, 8, 9, 5, 4, 2, 1, 7, 12, 12, 2, 11, 6, 2, 6, 11, 9, 5, 4, 6, 4, 3, 7, 8, 12, 4, 8, 1, 9, 5, 1, 8, 6, 12, 10, 1, 10, 10, 9, 10, 6, 8, 12, 3, 8, 9, 5, 9, 4, 5, 7, 9, 4, 1, 12, 7, 12, 3, 10, 9, 11, 3, 12, 10, 11, 12, 11, 8, 6, 2, 11, 6, 5, 3, 10, 6, 6, 4, 10, 2, 10, 8, 5, 5, 9, 11, 10, 5, 11, 5, 6, 12, 4, 9, 10, 7, 10, 12, 4, 12, 10, 10, 2, 2, 11, 6, 12, 6, 7, 9, 11, 7, 4, 11, 11, 11, 9, 12, 11, 8, 3, 1, 8, 11, 2, 3, 5, 8, 12, 9, 4, 8, 6, 9, 6, 5, 7, 10, 1, 10, 2, 4, 3, 5, 7, 6, 9, 7, 8, 11, 8, 7, 2, 10, 11, 12, 11, 9, 3, 6, 5, 4, 9, 11, 8, 12, 6, 3, 11, 11, 6, 9, 11, 12, 12, 12, 3, 11, 11, 8, 10, 7, 12, 11, 1, 6, 11, 7, 2, 6, 5, 10, 9, 6, 11, 1, 3, 9, 8, 6, 4, 10, 9, 6, 7, 12, 2, 12, 10, 10, 10, 9, 6, 5, 4, 6, 10, 5, 3, 11, 2, 1, 10, 12, 2, 2, 8, 9, 11, 8, 10, 8, 6, 7, 11, 6, 8, 5, 9, 12, 8, 3, 11, 10, 4, 6, 9, 12, 7, 2, 1, 12, 12, 7, 11, 8, 12, 6, 11, 3, 6, 11, 6, 3, 5, 10, 1, 3, 1, 4, 4, 2, 6, 11, 4, 3, 8, 1, 7, 12, 4, 11, 4, 11, 11, 10, 11, 8, 5, 10, 3, 8, 2, 10, 8, 12, 3, 12, 5, 11, 2, 5, 7, 2, 8, 7, 12, 12, 7, 5, 4, 11, 11, 3, 10, 7, 5, 8, 12, 10, 10, 5, 10, 1, 7, 9, 11, 11, 3, 12, 8, 9, 7, 5, 11, 10, 11, 9, 3, 5, 12, 5, 10, 3, 12, 9, 8, 7, 8, 12, 6, 5, 11, 2, 9, 10, 11, 9, 12, 6, 12, 8, 6, 11, 11, 10, 8, 12, 11, 6, 11, 11, 11, 9, 11, 1, 6, 5, 5, 3, 3, 3, 9, 12, 12, 5, 8, 12, 11, 9, 9, 12, 8, 4, 5, 8, 12, 9, 11, 6, 11, 4, 11, 6, 10, 11, 12, 11, 12, 3, 3, 11, 4, 6, 2, 5, 6, 2, 4, 12, 10, 2, 9, 2, 4, 2, 1, 6, 2, 1, 2, 11, 9, 11, 11, 3, 7, 9, 11, 7, 10, 3, 10, 11, 12, 4, 11, 2, 7, 1, 12, 2, 3, 5, 10, 5, 10, 2, 3, 5, 5, 1, 1, 9, 8, 6, 8, 12, 5, 9, 5, 6, 11, 9, 1, 5, 11, 2, 5, 4, 4, 10, 3, 12, 2, 9, 12, 9, 1, 1, 11, 6, 6, 11, 11, 11, 4, 10, 7, 5, 8, 12, 8, 7, 1, 11, 5, 2, 5, 11, 3, 1, 3, 7, 7, 8, 12, 7, 2, 11, 11, 9, 10, 6, 2, 5, 8, 5, 9, 10, 6, 4, 10, 11, 6, 7, 5, 3, 10, 11, 9, 2, 11, 9, 1, 6, 9, 12, 1, 1, 11, 9, 12, 3, 11, 5, 2, 4, 11, 9, 12, 11, 9, 12, 1, 9, 11, 11, 9, 4, 10, 11, 8, 8, 2, 4, 5, 11, 8, 6, 3, 6, 11, 4, 5, 1, 9, 4, 12, 12, 11, 9, 10, 2, 3, 1, 5, 12, 10, 1, 10, 12, 11, 11, 7, 10, 12, 10, 11, 11, 5, 9, 10, 10, 2, 6, 4, 5, 6, 8, 11, 4, 11, 3, 12, 7, 3, 5, 12, 7, 10, 5, 8, 9, 4, 8, 8, 2, 12, 10, 12, 8, 9, 1, 7, 10, 9, 11, 10, 7, 12, 7, 12, 6, 2, 12, 8, 7, 9, 9, 4, 2, 12, 8, 6, 10, 10, 12, 11, 9, 7, 10, 7, 7, 4, 2, 6, 9, 8, 10, 11, 7, 12, 5, 6, 11, 1, 5, 6, 5, 11, 4, 12, 5, 11, 12, 8, 8, 10, 11, 9, 9, 1, 10, 11, 11, 12, 6, 12, 4, 9, 12, 7, 6, 5, 12, 1, 4, 11, 12, 3, 5, 11, 11, 11, 11, 12, 11, 10, 10, 1, 12, 12, 9, 10, 11, 4, 11, 2, 8, 5, 11, 12, 5, 9, 11, 11, 1, 5, 11, 7, 7, 12, 2, 3, 1, 11, 11, 12, 4, 1, 6, 11, 7, 9, 9, 2, 12, 6, 4, 8, 12, 9, 11, 11, 11, 9, 12, 7, 7, 6, 11, 8, 6, 7, 5, 12, 2, 11, 12, 9, 5, 11, 6, 7, 12, 4, 10, 4, 2, 7, 9, 6, 7, 6, 10, 11, 5, 10, 9, 6, 9, 12, 11, 9, 8, 10, 1, 6, 9, 9, 9, 11, 9, 3, 12, 2, 2, 2, 11, 10, 3, 5, 5, 9, 2, 6, 2, 5, 1, 10, 12, 11, 6, 11, 11, 7, 11, 7, 8, 9, 10, 7, 12, 3, 9, 11, 12, 3, 10, 1, 9, 1, 2, 12, 11, 11, 5, 8, 12, 7, 9, 5, 2, 11, 11, 4, 12, 10, 12, 1, 11, 10, 12, 6, 9, 2, 11, 8, 5, 3, 6, 11, 11, 1, 9, 7, 9, 9, 4, 9, 7, 5, 12, 7, 11, 12, 10, 12, 5, 9, 10, 11, 4, 5, 6, 6, 11, 7, 5, 5, 11, 11, 11, 11, 11, 4, 5, 7, 5, 2, 12, 11, 9, 7, 1, 3, 11, 10, 2, 9, 1, 11, 4, 11, 12, 5, 7, 9, 6, 11, 3, 12, 12, 12, 11, 5, 12, 8, 6, 1, 11, 6, 8, 4, 3, 6, 3, 9, 8, 12, 11, 6, 11, 11, 12, 1, 10, 9, 9, 11, 11, 4, 12, 11, 12, 8, 10, 12, 11, 9, 11, 4, 7, 7, 2, 10, 11, 10, 5, 11, 6, 10, 3, 4, 11, 3, 6, 9, 12, 4, 12, 1, 12, 11, 11, 10, 10, 9, 8, 5, 10, 7, 11, 10, 12, 7, 11, 3, 7, 5, 5, 8, 6, 3, 11, 7, 3, 1, 6, 12, 7, 5, 6, 11, 3, 4, 4, 6, 8, 10, 11, 9, 12, 5, 6, 1, 11, 11, 11, 2, 3, 8, 10, 7, 9, 8, 1, 10, 5, 9, 12, 12, 5, 4, 7, 3, 10, 8, 4, 5, 5, 9, 11, 6, 11, 11, 4, 6, 2, 12, 7, 9, 9, 1, 6, 10, 9, 9, 12, 2, 6, 11, 9, 9, 2, 3, 4, 12, 12, 8, 3, 11, 12, 8, 4, 8, 1, 11, 11, 5, 11, 2, 8, 5, 9, 3, 6, 10, 8, 9, 11, 9, 11, 8, 11, 3, 3, 11, 8, 10, 12, 6, 8, 8, 10, 3, 10, 12, 10, 12, 2, 12, 3, 2, 12, 11, 12, 8, 8, 9, 10, 12, 11, 3, 5, 10, 12, 9, 7, 12, 3, 11, 3, 7, 1, 11, 11, 5, 8, 12, 8, 10, 11, 10, 11, 12, 12, 11, 11, 6, 4, 11, 6, 10, 2, 11, 11, 6, 4, 2, 3, 8, 10, 12, 7, 3, 5, 8, 11, 10, 7, 10, 9, 11, 10, 11, 10, 3, 8, 5, 3, 9, 11, 10, 11, 7, 12, 12, 5, 10, 9, 1, 9, 5, 12, 8, 9, 11, 10, 6, 2, 10, 2, 6, 10, 11, 8, 11, 10, 3, 12, 3, 4, 6, 2, 10, 5, 8, 3, 5, 12, 10, 12, 9, 10, 9, 1, 1, 11, 5, 6, 3, 10, 11, 4, 10, 3, 11, 11, 11, 9, 11, 7, 3, 9, 8, 4, 4, 9, 2, 5, 9, 11, 12, 9, 1, 3, 1, 7, 7, 9, 2, 8, 6, 7, 9, 9, 12, 9, 6, 5, 12, 10, 9, 12, 1, 12, 10, 11, 1, 5, 2, 11, 10, 10, 8, 8, 1, 10, 9, 3, 10, 3, 9, 6, 2, 9, 4, 3, 10, 8, 5, 3, 6, 11, 10, 3, 5, 12, 3, 11, 11, 9, 3, 8, 6, 1, 12, 3, 4, 10, 5, 11, 6, 2, 1, 9, 12, 10, 8, 7, 11, 4, 3, 5, 2, 4, 11, 5, 11, 9, 2, 3, 10, 3, 12, 8, 7, 11, 12, 11, 11, 1, 9, 8, 10, 10, 11, 12, 12, 10, 5, 3, 3, 5, 12, 10, 3, 4, 9, 8, 3, 4, 6, 9, 7, 6, 12, 1, 11, 9, 12, 12, 11, 5, 12, 5, 10, 10, 12, 6, 11, 11, 2, 12, 9, 10, 3, 11, 3, 9, 3, 12, 11, 8, 2, 9, 12, 12, 10, 11, 5, 11, 3, 5, 12, 11, 10, 10, 11, 6, 11, 8, 6, 11, 4, 4, 11, 4, 11, 2, 7, 6, 7, 5, 12, 12, 12, 5, 11, 10, 11, 3, 12, 6, 10, 5, 11, 9, 12, 9, 1, 11, 3, 1, 4, 11, 5, 4, 3, 3, 10, 7, 9, 12, 3, 5, 10, 11, 11, 12, 11, 12, 4, 1, 8, 3, 9, 5, 10, 5, 10, 9, 4, 7, 11, 7, 3, 11, 3, 2, 11, 11, 12, 2, 11, 4, 6, 12, 10, 9, 5, 10, 12, 6, 8, 6, 11, 10, 12, 4, 3, 10, 11, 4, 11, 10, 1, 9, 11, 7, 7, 2, 4, 3, 12, 5, 4, 9, 12, 11, 9, 7, 5, 3, 2, 11, 12, 2, 11, 3, 6, 11, 12, 10, 10, 6, 4, 10, 10, 3, 7, 11, 1, 1, 6, 9, 8, 1, 6, 7, 6, 1, 12, 4, 3, 11, 4, 8, 10, 2, 12, 4, 1, 1, 4, 4, 11, 10, 2, 10, 11, 4, 12, 5, 7, 1, 2, 10, 11, 5, 11, 1, 11, 7, 9, 2, 9, 12, 9, 11, 9, 6, 2, 9, 11, 6, 3, 6, 11, 10, 8, 10, 3, 10, 3, 3, 10, 9, 4, 12, 6, 2, 8, 2, 5, 10, 7, 12, 10, 8, 2, 9, 9, 9, 5, 12, 12, 3, 10, 7, 8, 10, 10, 4, 10, 9, 4, 8, 2, 4, 2, 3, 4, 11, 12, 11, 4, 4, 10, 7, 10, 7, 12, 11, 6, 5, 8, 6, 2, 6, 12, 4, 3, 6, 11, 4, 9, 10, 12, 11, 3, 1, 4, 7, 4, 2, 10, 4, 2, 10, 11, 9, 3, 3, 5, 7, 12, 1, 6, 6, 2, 7, 6, 5, 11, 2, 6, 12, 3, 3, 9, 5, 4, 11, 1, 3, 8, 12, 8, 11, 5, 1, 10, 9, 2, 2, 8, 10, 5, 11, 6, 2, 11, 5, 4, 2, 5, 1, 12, 8, 9, 9, 10, 11, 8, 10, 6, 6, 8, 5, 11, 5, 7, 9, 1, 8, 9, 10, 12, 2, 12, 7, 11, 6, 9, 8, 11, 11, 6, 10, 6, 7, 12, 1, 8, 8, 11, 11, 10, 12, 2, 3, 11, 11, 10, 7, 9, 10, 4, 11, 11, 4, 12, 12, 12, 10, 6, 9, 11, 2, 7, 11, 3, 3, 2, 9, 5, 8, 11, 1, 8, 4, 3, 3, 10, 6, 9, 10, 5, 5, 10, 7, 9, 9, 3, 6, 5, 1, 6, 9, 9, 5, 5, 4, 5, 3, 5, 3, 9, 12, 9, 5, 3, 12, 7, 10, 11, 12, 9, 12, 12, 10, 5, 11, 6, 8, 11, 10, 1, 7, 7, 1, 5, 11, 12, 5, 9, 1, 6, 11, 5, 11, 2, 5, 6, 4, 11, 12, 10, 8, 9, 3, 5, 2, 3, 3, 6, 11, 3, 8, 4, 11, 6, 11, 2, 4, 4, 6, 7, 10, 7, 2, 6, 9, 1, 11, 7, 8, 9, 11, 6, 10, 2, 3, 8, 7, 2, 11, 6, 9, 5, 1, 4, 11, 6, 4, 5, 10, 3, 11, 4, 11, 9, 9, 11, 3, 2, 8, 5, 10, 12, 12, 10, 4, 12, 7, 9, 9, 10, 3, 11, 5, 12, 1, 8, 4, 5, 1, 10, 2, 11, 7, 1, 4, 10, 2, 7, 10, 11, 11, 11, 8, 6, 12, 10, 2, 1, 4, 2, 9, 10, 6, 7, 7, 12, 7, 12, 7, 7, 3, 9, 6, 6, 1, 7, 12, 8, 11, 8, 9, 3, 12, 3, 2, 7, 3, 10, 12, 9, 7, 5, 11, 12, 9, 2, 8, 4, 9, 9, 7, 9, 6, 9, 11, 10, 3, 12, 12, 12, 10, 8, 12, 7, 12, 6, 11, 9, 11, 1, 12, 11, 12, 12, 3, 10, 3, 7, 11, 9, 6, 11, 6, 7, 9, 3, 11, 11, 11, 11, 6, 11, 11, 3, 12, 10, 10, 1, 4, 11, 4, 8, 11, 1, 5, 12, 8, 4, 5, 2, 6, 1, 4, 8, 8, 11, 9, 2, 10, 10, 12, 12, 12, 5, 6, 5, 12, 6, 11, 8, 11, 2, 9, 11, 3, 6, 12, 11, 10, 2, 1, 10, 11, 10, 4, 5, 7, 1, 6, 3, 8, 6, 12, 9, 8, 1, 2, 12, 3, 10, 12, 10, 11, 11, 12, 8, 3, 7, 12, 6, 11, 10, 10, 11, 1, 12, 12, 11, 1, 3, 11, 10, 8, 10, 12, 3, 11, 5, 6, 11, 2, 11, 7, 2, 11, 6, 2, 4, 5, 7, 9, 9, 11, 6, 4, 8, 6, 10, 7, 5, 6, 11, 3, 10, 8, 3, 8, 7, 9, 12, 5, 11, 11, 7, 11, 12, 1, 11, 7, 11, 1, 6, 5, 2, 12, 5, 11, 1, 7, 11, 12, 12, 5, 6, 3, 5, 11, 9, 9, 2, 10, 11, 8, 12, 8, 12, 2, 4, 2, 5, 8, 7, 12, 9, 7, 11, 10, 11, 3, 8, 8, 5, 5, 12, 3, 10, 6, 2, 8, 9, 5, 9, 10, 7, 8, 5, 5, 8, 11, 11, 2, 11, 1, 1, 2, 3, 11, 4, 5, 10, 9, 5, 5, 11, 12, 5, 12, 11, 6, 8, 12, 11, 11, 9, 6, 10, 3, 2, 4, 11, 7, 3, 5, 3, 10, 11, 9, 3, 11, 10, 12, 10, 10, 11, 10, 5, 9, 1, 5, 12, 6, 4, 4, 10, 7, 12, 11, 7, 5, 11, 1, 10, 4, 7, 10, 11, 9, 8, 8, 10, 6, 5, 1, 7, 9, 9, 7, 6, 12, 7, 8, 5, 5, 7, 2, 5, 10, 9, 12, 9, 9, 10, 12, 2, 10, 11, 11, 4, 12, 3, 11, 9, 3, 3, 1, 3, 5, 9, 12, 2, 9, 11, 9, 11, 9, 10, 11, 3, 7, 9, 11, 11, 6, 12, 3, 10, 4, 6, 6, 4, 11, 10, 12, 11, 12, 7, 8, 11, 11, 12, 11, 4, 11, 9, 1, 8, 11, 7, 1, 11, 4, 11, 12, 10, 8, 5, 12, 1, 5, 10, 4, 11, 4, 11, 5, 8, 11, 1, 7, 12, 12, 4, 5, 10, 1, 11, 4, 6, 10, 11, 9, 10, 6, 7, 10, 7, 7, 6, 5, 6, 9, 11, 12, 11, 7, 2, 5, 11, 4, 12, 11, 10, 1, 12, 5, 5, 11, 1, 10, 5, 2, 6, 4, 12, 10, 9, 12, 11, 5, 10, 9, 3, 2, 11, 1, 12, 6, 9, 12, 11, 3, 12, 4, 12, 5, 6, 9, 5, 10, 12, 12, 12, 8, 7, 4, 5, 9, 5, 8, 8, 9, 5, 3, 7, 7, 1, 11, 2, 12, 12, 2, 1, 3, 2, 1, 2, 11, 11, 11, 6, 4, 8, 7, 11, 12, 5, 10, 12, 11, 12, 12, 12, 9, 8, 12, 1, 11, 7, 10, 12, 11, 9, 6, 12, 3, 9, 11, 5, 10, 7, 3, 11, 12, 1, 7, 11, 11, 2, 3, 8, 9, 7, 9, 11, 6, 3, 11, 11, 2, 10, 4, 2, 6, 10, 3, 12, 3, 6, 11, 6, 8, 3, 3, 8, 9, 2, 9, 10, 5, 6, 4, 12, 12, 3, 1, 9, 11, 6, 7, 4, 10, 6, 5, 7, 9, 7, 11, 6, 11, 11, 11, 11, 11, 6, 10, 3, 4, 11, 10, 11, 4, 8, 1, 3, 12, 12, 12, 9, 10, 3, 4, 6, 11, 6, 6, 8, 3, 12, 6, 6, 8, 12, 8, 11, 10, 10, 9, 3, 12, 10, 2, 12, 10, 11, 5, 11, 2, 1, 3, 11, 9, 1, 5, 3, 5, 12, 2, 2, 5, 11, 8, 9, 12, 6, 2, 9, 10, 4, 11, 6, 8, 12, 12, 5, 8, 7, 9, 6, 6, 7, 6, 5, 6, 2, 1, 7, 5, 3, 9, 12, 8, 11, 4, 3, 4, 6, 4, 12, 5, 5, 1, 4, 12, 12, 8, 12, 5, 10, 11, 5, 4, 7, 4, 8, 7, 9, 9, 9, 5, 12, 3, 11, 6, 9, 3, 10, 4, 10, 9, 9, 6, 12, 12, 5, 5, 3, 9, 9, 7, 4, 1, 3, 9, 10, 10, 11, 9, 8, 3, 11, 12, 3, 11, 12, 7, 1, 1, 11, 10, 11, 11, 4, 12, 4, 3, 11, 5, 1, 9, 8, 10, 2, 2, 11, 9, 11, 9, 12, 4, 12, 4, 10, 1, 3, 10, 1, 2, 11, 9, 12, 9, 7, 9, 10, 7, 7, 8, 6, 7, 10, 1, 8, 10, 7, 5, 10, 11, 6, 5, 1, 5, 12, 8, 9, 8, 7, 11, 8, 3, 12, 11, 12, 12, 12, 9, 3, 6, 1, 5, 8, 3, 8, 10, 8, 12, 8, 1, 7, 1, 9, 6, 2, 1, 12, 9, 3, 12, 9, 3, 4, 2, 12, 5, 6, 3, 6, 10, 9, 9, 2, 12, 1, 9, 10, 8, 10, 6, 10, 3, 7, 8, 5, 6, 12, 7, 1, 11, 9, 11, 8, 12, 10, 11, 10, 8, 1, 9, 11, 7, 12, 6, 6, 12, 8, 5, 9, 10, 1, 7, 10, 12, 11, 6, 2, 1, 11, 9, 11, 1, 12, 12, 10, 8, 1, 7, 11, 11, 12, 8, 7, 7, 6, 7, 11, 7, 1, 12, 10, 3, 12, 3, 6, 3, 8, 3, 6, 12, 9, 4, 9, 6, 1, 3, 6, 11, 12, 12, 8, 12, 5, 1, 10, 10, 6, 11, 5, 5, 4, 10, 10, 6, 11, 5, 10, 12, 12, 5, 2, 12, 4, 7, 7, 6, 10, 9, 9, 3, 6, 6, 6, 11, 12, 10, 8, 9, 2, 11, 5, 6, 8, 12, 4, 10, 9, 11, 5, 6, 3, 6, 1, 7, 7, 2, 9, 6, 11, 10, 3, 5, 11, 10, 7, 9, 1, 10, 7, 12, 9, 11, 9, 1, 12, 3, 3, 11, 11, 9, 7, 1, 9, 4, 5, 11, 8, 12, 10, 2, 5, 2, 1, 11, 7, 9, 12, 4, 12, 11, 2, 11, 9, 2, 11, 5, 5, 5, 6, 12, 3, 11, 8, 9, 5, 12, 11, 10, 4, 11, 11, 10, 11, 11, 11, 2, 3, 3, 8, 10, 11, 1, 11, 10, 11, 5, 3, 11, 8, 4, 12, 10, 1, 11, 5, 10, 8, 11, 12, 11, 12, 4, 12, 2, 10, 11, 5, 3, 12, 11, 2, 4, 11, 11, 10, 2, 11, 11, 9, 11, 11, 5, 3, 12, 7, 11, 10, 5, 8, 4, 4, 8, 3, 7, 9, 2, 1, 11, 1, 9, 9, 11, 10, 5, 11, 4, 1, 2, 5, 8, 10, 11, 4, 12, 5, 6, 5, 4, 11, 10, 9, 5, 8, 9, 11, 3, 11, 11, 9, 7, 5, 4, 9, 11, 11, 12, 12, 10, 12, 11, 1, 8, 11, 7, 3, 8, 12, 2, 5, 12, 3, 4, 2, 6, 7, 9, 8, 6, 11, 11, 12, 2, 9, 9, 10, 3, 2, 11, 4, 5, 1, 12, 9, 9, 10, 10, 8, 5, 11, 5, 4, 8, 8, 4, 2, 1, 2, 5, 2, 3, 5, 11, 3, 5, 11, 12, 6, 3, 9, 9, 9, 11, 3, 4, 7, 7, 12, 4, 11, 12, 2, 2, 12, 10, 2, 3, 3, 2, 10, 9, 9, 1, 2, 2, 1, 2, 1, 8, 6, 6, 4, 11, 5, 9, 8, 12, 12, 10, 4, 7, 12, 5, 5, 7, 7, 3, 7, 4, 4, 6, 5, 5, 2, 6, 10, 5, 3, 4, 10, 1, 2, 4, 2, 10, 2, 6, 6, 1, 10, 8, 5, 12, 4, 11, 10, 5, 7, 7, 7, 9, 8, 11, 11, 7, 12, 7, 3, 3, 3, 5, 11, 9, 12, 11, 1, 12, 11, 11, 6, 7, 11, 7, 11, 7, 6, 3, 4, 12, 8, 10, 7, 10, 10, 7, 4, 12, 10, 9, 12, 3, 11, 12, 2, 7, 9, 10, 8, 1, 11, 11, 9, 5, 10, 7, 4, 12, 12, 10, 6, 11, 3, 6, 6, 10, 5, 5, 10, 9, 6, 12, 7, 6, 1, 6, 3, 10, 6, 10, 12, 5, 3, 1, 12, 8, 11, 5, 3, 6, 10, 12, 5, 2, 11, 7, 6, 2, 12, 9, 4, 1, 6, 3, 11, 5, 11, 4, 9, 11, 1, 3, 12, 5, 12, 12, 11, 12, 9, 8, 11, 7, 6, 11, 5, 11, 12, 10, 1, 12, 11, 9, 12, 6, 8, 1, 8, 9, 11, 6, 1, 11, 9, 7, 10, 12, 8, 11, 2, 11, 5, 12, 3, 3, 5, 12, 10, 5, 5, 5, 4, 3, 3, 5, 8, 8, 6, 11, 12, 2, 9, 5, 12, 9, 9, 10, 4, 3, 2, 11, 5, 3, 7, 11, 6, 1, 12, 12, 4, 7, 9, 11, 10, 12, 10, 7, 1, 3, 11, 11, 5, 10, 12, 1, 4, 4, 10, 9, 12, 9, 11, 2, 11, 3, 7, 2, 4, 1, 5, 4, 12, 10, 10, 11, 1, 12, 8, 5, 11, 1, 10, 10, 4, 11, 5, 9, 10, 5, 12, 5, 4, 6, 4, 8, 12, 8, 4, 4, 12, 9, 10, 12, 2, 3, 12, 1, 8, 10, 11, 3, 3, 3, 9, 8, 6, 7, 2, 7, 6, 2, 2, 7, 12, 10, 9, 5, 11, 7, 2, 4, 12, 12, 11, 8, 9, 9, 8, 9, 12, 8, 9, 5, 2, 11, 8, 9, 7, 4, 9, 5, 12, 11, 1, 12, 2, 9, 4, 12, 11, 6, 5, 9, 12, 5, 12, 9, 7, 10, 10, 11, 12, 10, 4, 9, 11, 12, 12, 9, 5, 5, 4, 8, 2, 12, 10, 3, 7, 10, 4, 8, 11, 10, 9, 6, 1, 10, 3, 8, 7, 2, 5, 11, 10, 4, 11, 7, 11, 3, 6, 3, 12, 11, 4, 10, 3, 7, 12, 10, 10, 6, 11, 10, 7, 2, 10, 5, 7, 6, 11, 9, 7, 12, 8, 5, 1, 6, 7, 12, 11, 11, 7, 12, 12, 8, 11, 11, 2, 12, 12, 10, 12, 1, 8, 6, 5, 5, 7, 3, 6, 8, 6, 9, 11, 10, 3, 3, 4, 7, 12, 7, 8, 8, 1, 9, 3, 2, 11, 4, 12, 11, 6, 2, 5, 12, 6, 6, 6, 10, 2, 2, 11, 10, 2, 5, 5, 11, 8, 8, 11, 2, 8, 9, 12, 7, 9, 3, 11, 10, 7, 8, 10, 9, 1, 9, 10, 8, 4, 1, 6, 8, 9, 5, 8, 10, 10, 4, 12, 12, 11, 8, 2, 9, 9, 10, 3, 2, 12, 4, 7, 1, 1, 10, 11, 10, 10, 12, 10, 7, 12, 10, 11, 11, 11, 10, 12, 10, 11, 11, 8, 12, 9, 12, 11, 10, 6, 10, 4, 8, 2, 11, 11, 1, 4, 10, 3, 10, 9, 3, 12, 7, 7, 10, 5, 1, 10, 5, 10, 6, 3, 10, 12, 3, 6, 11, 6, 2, 3, 10, 2, 6, 5, 6, 1, 4, 11, 11, 2, 11, 1, 6, 5, 1, 11, 12, 4, 10, 2, 2, 8, 2, 11, 5, 10, 4, 9, 9, 10, 12, 3, 11, 10, 8, 10, 11, 7, 7, 12, 9, 5, 12, 8, 11, 8, 5, 11, 10, 7, 6, 6, 6, 9, 12, 2, 4, 9, 12, 1, 12, 1, 3, 11, 3, 11, 5, 11, 12, 2, 2, 5, 2, 10, 9, 11, 7, 5, 8, 10, 10, 6, 7, 12, 10, 12, 9, 3, 7, 12, 7, 12, 9, 4, 2, 11, 11, 7, 2, 8, 1, 4, 1, 5, 12, 11, 1, 11, 5, 12, 5, 11, 10, 9, 6, 10, 10, 3, 10, 6, 9, 4, 5, 10, 11, 6, 3, 12, 6, 11, 4, 11, 2, 2, 2, 5, 3, 2, 12, 9, 6, 6, 5, 6, 6, 12, 12, 11, 12, 11, 7, 5, 7, 5, 5, 1, 12, 9, 9, 2, 5, 12, 12, 8, 11, 8, 8, 4, 12, 11, 2, 7, 6, 5, 11, 4, 12, 3, 11, 11, 10, 7, 7, 1, 6, 12, 9, 7, 12, 1, 12, 12, 8, 1, 12, 9, 12, 2, 3, 9, 6, 9, 10, 10, 7, 3, 8, 4, 12, 11, 11, 5, 12, 8, 6, 12, 3, 4, 2, 1, 12, 5, 8, 10, 8, 11, 12, 12, 1, 9, 4, 5, 3, 12, 11, 12, 6, 11, 8, 11, 11, 6, 12, 2, 1, 7, 10, 3, 12, 9, 12, 5, 11, 7, 12, 8, 10, 1, 9, 1, 11, 3, 12, 9, 10, 5, 6, 8, 11, 4, 8, 12, 11, 10, 10, 5, 6, 5, 9, 12, 6, 2, 11, 12, 9, 4, 11, 9, 7, 11, 9, 9, 8, 5, 10, 12, 8, 11, 6, 7, 2, 9, 2, 11, 8, 3, 12, 6, 9, 7, 11, 10, 12, 10, 7, 12, 11, 3, 9, 11, 4, 6, 12, 10, 11, 7, 11, 11, 10, 4, 5, 4, 7, 7, 8, 1, 12, 2, 10, 11, 2, 6, 10, 11, 10, 4, 9, 6, 11, 11, 11, 7, 2, 11, 5, 8, 6, 1, 12, 12, 7, 9, 12, 4, 12, 4, 12, 9, 1, 8, 4, 5, 11, 11, 6, 3, 9, 5, 12, 12, 12, 7, 12, 8, 7, 6, 9, 1, 9, 3, 1, 10, 2, 5, 11, 2, 8, 11, 3, 9, 12, 4, 7, 5, 12, 12, 10, 2, 11, 10, 7, 3, 10, 12, 2, 10, 12, 6, 12, 11, 5, 11, 9, 1, 8, 12, 4, 4, 1, 9, 11, 7, 10, 10, 5, 11, 10, 2, 7, 9, 8, 4, 7, 4, 8, 5, 7, 11, 5, 12, 6, 12, 10, 11, 7, 11, 12, 7, 11, 11, 7, 5, 11, 6, 10, 4, 10, 1, 10, 4, 4, 4, 5, 10, 6, 10, 7, 10, 2, 4, 5, 6, 7, 1, 1, 7, 4, 11, 8, 9, 12, 11, 10, 3, 8, 8, 12, 12, 7, 11, 8, 6, 9, 5, 8, 3, 1, 8, 1, 5, 1, 4, 7, 3, 3, 8, 12, 8, 11, 11, 4, 11, 3, 12, 6, 11, 11, 1, 3, 11, 8, 9, 7, 6, 3, 5, 9, 2, 5, 9, 1, 5, 12, 7, 9, 10, 1, 6, 6, 3, 12, 3, 3, 1, 7, 12, 5, 4, 8, 4, 3, 10, 12, 5, 10, 12, 5, 1, 11, 10, 3, 5, 12, 11, 4, 3, 7, 9, 8, 6, 10, 4, 11, 5, 6, 12, 12, 11, 12, 2, 12, 6, 11, 6, 1, 12, 12, 12, 3, 9, 12, 11, 7, 1, 11, 4, 2, 11, 12, 11, 11, 4, 12, 9, 2, 9, 4, 7, 10, 8, 7, 12, 9, 10, 11, 12, 12, 3, 11, 10, 6, 5, 1, 9, 4, 9, 10, 1, 2, 4, 10, 6, 9, 3, 11, 11, 6, 6, 4, 12, 11, 7, 12, 8, 4, 11, 9, 12, 4, 5, 11, 8, 11, 11, 6, 5, 5, 3, 11, 11, 5, 9, 10, 9, 11, 10, 4, 10, 11, 6, 9, 6, 3, 10, 11, 1, 12, 12, 6, 10, 8, 11, 5, 5, 6, 3, 9, 3, 10, 10, 6, 9, 8, 9, 10, 11, 5, 4, 12, 3, 12, 1, 10, 3, 11, 5, 6, 12, 7, 5, 4, 10, 7, 9, 5, 7, 8, 10, 10, 6, 9, 12, 11, 1, 5, 6, 8, 11, 12, 8, 5, 11, 4, 6, 9, 12, 8, 9, 5, 12, 10, 5, 4, 7, 4, 7, 3, 7, 9, 7, 1, 10, 7, 8, 7, 10, 3, 6, 12, 9, 12, 12, 11, 11, 9, 9, 2, 10, 8, 9, 10, 8, 8, 9, 6, 8, 6, 4, 7, 6, 11, 8, 12, 10, 2, 9, 10, 11, 2, 11, 12, 10, 10, 11, 10, 11, 11, 5, 6, 7, 8, 1, 11, 12, 12, 9, 11, 9, 12, 10, 12, 2, 6, 12, 6, 12, 12, 7, 7, 6, 8, 1, 11, 10, 7, 9, 10, 7, 11, 12, 3, 10, 10, 5, 1, 11, 1, 10, 11, 11, 6, 6, 7, 4, 5, 3, 1, 12, 4, 7, 7, 12, 4, 1, 5, 7, 1, 9, 5, 10, 6, 7, 7, 12, 6, 10, 6, 10, 3, 9, 3, 10, 2, 2, 3, 9, 8, 4, 11, 7, 12, 12, 9, 10, 11, 1, 11, 10, 6, 4, 5, 2, 4, 5, 11, 3, 1, 5, 5, 8, 1, 12, 7, 11, 10, 12, 5, 11, 12, 6, 10, 7, 6, 7, 4, 6, 12, 12, 4, 11, 2, 9, 12, 6, 5, 2, 2, 12, 11, 8, 10, 12, 6, 8, 4, 1, 8, 2, 5, 12, 8, 11, 2, 11, 5, 11, 11, 12, 2, 12, 4, 4, 7, 7, 11, 12, 6, 6, 7, 7, 9, 2, 9, 12, 12, 3, 8, 1, 10, 5, 1, 5, 9, 10, 5, 4, 6, 2, 2, 10, 9, 3, 8, 2, 12, 4, 12, 8, 4, 3, 4, 4, 12, 3, 3, 9, 3, 6, 11, 12, 6, 7, 8, 10, 8, 5, 9, 7, 1, 11, 4, 12, 9, 10, 9, 5, 3, 1, 11, 4, 6, 5, 12, 2, 5, 10, 11, 9, 4, 10, 4, 12, 5, 2, 10, 11, 7, 5, 9, 9, 11, 7, 10, 9, 8, 11, 11, 10, 6, 12, 10, 6, 1, 12, 1, 7, 10, 12, 1, 6, 12, 7, 6, 2, 11, 9, 10, 9, 6, 7, 7, 2, 3, 11, 8, 5, 2, 11, 5, 12, 12, 4, 4, 7, 6, 5, 3, 12, 8, 12, 4, 8, 11, 11, 8, 4, 11, 2, 11, 10, 9, 6, 9, 4, 5, 4, 12, 4, 11, 6, 11, 5, 10, 12, 3, 8, 6, 4, 4, 6, 9, 12, 6, 3, 11, 4, 2, 10, 5, 11, 9, 7, 10, 4, 4, 6, 9, 3, 10, 5, 2, 10, 8, 10, 1, 4, 12, 5, 8, 9, 11, 6, 6, 10, 4, 4, 8, 8, 7, 9, 5, 12, 11, 10, 2, 6, 5, 11, 11, 3, 4, 7, 5, 11, 11, 1, 1, 7, 10, 8, 12, 8, 9, 7, 9, 12, 1, 3, 11, 4, 9, 4, 5, 11, 6, 10, 1, 11, 1, 11, 8, 12, 1, 9, 12, 4, 10, 3, 11, 6, 10, 10, 9, 11, 9, 4, 2, 12, 12, 9, 10, 5, 11, 10, 8, 11, 7, 9, 6, 10, 12, 2, 4, 12, 6, 6, 8, 5, 11, 6, 4, 3, 5, 9, 1, 9, 1, 4, 9, 2, 3, 4, 11, 9, 3, 10, 10, 12, 5, 8, 10, 12, 10, 1, 10, 2, 1, 10, 10, 9, 4, 12, 12, 2, 10, 12, 12, 12, 12, 3, 11, 11, 10, 5, 7, 7, 10, 10, 5, 11, 6, 1, 9, 12, 6, 8, 9, 3, 10, 4, 8, 10, 2, 5, 3, 4, 4, 4, 11, 3, 11, 10, 9, 2, 12, 11, 8, 6, 8, 12, 7, 9, 5, 11, 3, 8, 4, 2, 6, 10, 1, 1, 12, 1, 9, 10, 11, 11, 6, 12, 11, 12, 2, 1, 3, 9, 1, 5, 5, 10, 5, 10, 6, 7, 12, 9, 4, 11, 11, 8, 1, 7, 7, 7, 11, 5, 11, 10, 2, 5, 8, 8, 5, 3, 11, 1, 7, 4, 12, 9, 10, 11, 9, 3, 3, 12, 5, 8, 8, 4, 12, 11, 4, 10, 7, 12, 7, 10, 10, 2, 3, 1, 6, 12, 9, 4, 5, 12, 11, 3, 5, 7, 3, 2, 12, 7, 8, 5, 12, 2, 9, 4, 2, 12, 5, 4, 10, 5, 8, 7, 7, 10, 10, 12, 8, 11, 10, 11, 1, 5, 10, 12, 3, 4, 1, 1, 3, 8, 12, 3, 5, 11, 4, 1, 12, 11, 6, 1, 3, 12, 7, 5, 3, 1, 10, 8, 11, 12, 6, 11, 2, 6, 4, 11, 1, 10, 10, 12, 10, 6, 6, 5, 12, 11, 10, 9, 11, 12, 2, 6, 4, 11, 9, 6, 2, 11, 4, 3, 2, 10, 12, 8, 8, 11, 5, 7, 8, 10, 12, 9, 6, 10, 8, 9, 7, 6, 10, 9, 9, 11, 4, 6, 4, 9, 12, 7, 8, 8, 2, 12, 5, 7, 5, 1, 5, 8, 10, 7, 5, 9, 2, 6, 9, 7, 10, 2, 12, 11, 1, 12, 5, 10, 9, 11, 9, 6, 10, 9, 1, 4, 8, 7, 5, 1, 5, 12, 12, 3, 1, 11, 12, 3, 5, 11, 4, 12, 8, 5, 10, 12, 9, 5, 5, 9, 7, 11, 1, 5, 7, 10, 12, 6, 11, 11, 2, 8, 1, 7, 6, 2, 10, 4, 11, 12, 2, 6, 11, 1, 5, 2, 2, 4, 10, 10, 2, 11, 1, 8, 6, 10, 7, 11, 2, 7, 11, 10, 8, 5, 8, 11, 4, 10, 1, 9, 1, 6, 9, 12, 1, 6, 1, 8, 4, 10, 9, 9, 8, 12, 12, 9, 2, 8, 4, 9, 6, 12, 5, 11, 4, 12, 2, 11, 2, 9, 4, 3, 3, 6, 11, 12, 7, 7, 8, 6, 10, 9, 10, 10, 3, 12, 8, 1, 10, 6, 7, 4, 9, 8, 3, 3, 5, 1, 9, 4, 1, 6, 2, 2, 5, 1, 6, 9, 12, 6, 12, 1, 2, 11, 3, 5, 4, 1, 9, 6, 9, 10, 8, 10, 10, 2, 5, 11, 7, 11, 8, 12, 3, 12, 4, 7, 10, 12, 1, 11, 12, 9, 2, 10, 9, 1, 12, 11, 11, 12, 9, 6, 6, 7, 6, 7, 3, 11, 9, 10, 1, 4, 9, 12, 10, 5, 11, 8, 2, 10, 9, 7, 7, 3, 3, 5, 11, 5, 10, 10, 12, 6, 3, 3, 12, 10, 5, 9, 8, 7, 2, 12, 6, 8, 12, 3, 8, 11, 2, 3, 3, 6, 12, 9, 10, 11, 6, 10, 7, 5, 4, 7, 12, 4, 3, 9, 4, 9, 9, 7, 6, 7, 1, 11, 11, 12, 3, 12, 9, 3, 12, 4, 12, 6, 12, 12, 8, 11, 11, 4, 6, 11, 12, 10, 10, 3, 5, 5, 12, 3, 11, 10, 11, 3, 5, 5, 6, 12, 12, 7, 11, 11, 12, 11, 12, 10, 7, 4, 7, 10, 11, 5, 10, 9, 3, 7, 11, 11, 10, 12, 2, 11, 8, 3, 12, 12, 8, 7, 10, 12, 5, 7, 11, 11, 12, 8, 3, 4, 2, 11, 11, 11, 9, 2, 12, 7, 7, 2, 9, 1, 6, 12, 10, 5, 10, 12, 3, 1, 9, 10, 5, 9, 2, 11, 9, 11, 8, 10, 5, 12, 12, 10, 10, 6, 11, 9, 11, 6, 1, 9, 12, 4, 10, 2, 2, 12, 11, 7, 12, 4, 3, 11, 10, 12, 10, 10, 2, 9, 3, 11, 6, 9, 11, 4, 6, 12, 5, 10, 6, 1, 12, 8, 9, 6, 8, 11, 12, 7, 6, 3, 7, 10, 8, 10, 6, 9, 3, 8, 9, 10, 11, 10, 8, 11, 10, 5, 5, 8, 6, 11, 2, 3, 8, 3, 12, 10, 1, 3, 12, 10, 3, 11, 9, 3, 9, 10, 12, 12, 12, 7, 10, 8, 11, 11, 11, 12, 10, 2, 5, 5, 3, 4, 8, 8, 2, 11, 8, 4, 6, 9, 6, 10, 10, 11, 3, 5, 8, 11, 9, 9, 5, 10, 6, 11, 3, 12, 1, 8, 5, 4, 10, 10, 2, 12, 6, 12, 12, 10, 10, 7, 11, 4, 3, 2, 5, 6, 5, 6, 1, 8, 1, 8, 10, 11, 12, 6, 9, 11, 4, 3, 8, 11, 10, 6, 4, 4, 12, 8, 9, 10, 7, 9, 7, 10, 6, 2, 7, 11, 2, 8, 9, 5, 7, 3, 12, 11, 3, 5, 12, 3, 2, 9, 2, 10, 4, 9, 6, 3, 11, 12, 11, 5, 10, 1, 7, 11, 9, 9, 9, 3, 8, 3, 7, 12, 8, 4, 3, 10, 5, 12, 2, 10, 5, 10, 12, 11, 11, 4, 6, 4, 3, 8, 8, 5, 11, 4, 8, 1, 11, 12, 2, 11, 10, 4, 12, 11, 3, 10, 10, 9, 11, 5, 7, 9, 9, 10, 8, 11, 2, 5, 9, 10, 4, 1, 11, 8, 12, 8, 10, 7, 6, 10, 3, 12, 4, 12, 9, 11, 1, 1, 4, 6, 1, 12, 10, 12, 10, 12, 12, 12, 3, 6, 5, 3, 5, 8, 2, 11, 4, 4, 8, 11, 3, 11, 1, 11, 6, 12, 5, 8, 8, 4, 8, 1, 11, 12, 11, 9, 8, 11, 2, 11, 11, 11, 5, 1, 6, 3, 3, 12, 12, 9, 12, 5, 3, 10, 4, 2, 6, 3, 11, 9, 4, 9, 11, 10, 4, 1, 3, 8, 5, 6, 2, 10, 11, 4, 8, 6, 10, 9, 3, 10, 1, 3, 6, 5, 8, 6, 7, 8, 9, 11, 8, 9, 8, 10, 6, 4, 10, 12, 4, 12, 10, 12, 2, 8, 4, 3, 6, 5, 12, 10, 11, 11, 12, 11, 11, 4, 12, 12, 6, 9, 7, 11, 10, 5, 3, 11, 8, 1, 8, 12, 8, 6, 5, 10, 11, 12, 4, 12, 11, 4, 11, 11, 1, 11, 8, 11, 9, 5, 6, 8, 5, 11, 12, 3, 2, 9, 9, 10, 9, 12, 3, 7, 6, 10, 6, 10, 4, 11, 8, 5, 9, 7, 8, 9, 5, 4, 10, 9, 8, 12, 11, 2, 7, 9, 10, 4, 11, 2, 7, 10, 11, 9, 7, 10, 12, 9, 9, 4, 6, 11, 3, 4, 6, 11, 11, 6, 8, 3, 9, 5, 5, 6, 12, 3, 9, 2, 12, 6, 10, 5, 4, 10, 5, 8, 11, 9, 11, 6, 11, 8, 6, 3, 9, 9, 11, 9, 8, 11, 8, 6, 12, 9, 5, 2, 8, 2, 10, 7, 12, 11, 2, 1, 3, 12, 10, 1, 6, 9, 7, 6, 5, 9, 4, 1, 11, 8, 8, 10, 4, 11, 11, 10, 2, 11, 12, 10, 7, 1, 2, 10, 7, 9, 12, 11, 6, 11, 12, 6, 11, 9, 3, 11, 3, 8, 11, 10, 4, 1, 11, 10, 9, 8, 3, 3, 7, 12, 11, 8, 9, 10, 6, 7, 12, 6, 4, 11, 1, 11, 4, 9, 6, 3, 2, 6, 11, 9, 3, 5, 9, 5, 6, 1, 1, 7, 11, 3, 9, 12, 12, 5, 1, 3, 10, 11, 11, 5, 2, 1, 4, 10, 8, 7, 4, 9, 9, 12, 11, 11, 9, 7, 5, 4, 4, 12, 2, 6, 12, 10, 11, 6, 11, 8, 11, 3, 5, 2, 11, 5, 12, 2, 5, 3, 5, 11, 5, 7, 10, 7, 10, 10, 1, 11, 9, 5, 10, 10, 11, 9, 7, 7, 9, 6, 12, 12, 3, 8, 10, 4, 11, 5, 11, 1, 10, 12, 6, 10, 8, 11, 4, 10, 11, 9, 11, 6, 10, 12, 9, 10, 8, 11, 5, 7, 12, 11, 10, 4, 6, 11, 10, 12, 11, 3, 9, 11, 11, 10, 3, 2, 12, 3, 3, 3, 11, 12, 2, 9, 6, 3, 10, 8, 10, 10, 5, 4, 10, 3, 12, 11, 6, 11, 5, 9, 5, 11, 10, 3, 7, 10, 10, 11, 9, 11, 3, 11, 10, 7, 11, 12, 1, 12, 4, 7, 11, 4, 3, 6, 6, 5, 8, 8, 7, 2, 3, 1, 5, 6, 8, 6, 5, 5, 10, 5, 12, 9, 9, 1, 10, 5, 4, 4, 1, 9, 7, 10, 12, 11, 12, 5, 10, 2, 3, 2, 5, 12, 5, 8, 11, 1, 8, 6, 9, 10, 2, 12, 12, 10, 8, 8, 9, 7, 6, 5, 1, 8, 6, 12, 1, 3, 5, 12, 2, 12, 1, 10, 7, 7, 11, 7, 4, 9, 10, 10, 8, 4, 11, 11, 5, 2, 2, 6, 8, 12, 6, 8, 3, 2, 11, 12, 6, 6, 11, 4, 7, 10, 12, 1, 8, 10, 12, 11, 8, 4, 9, 6, 12, 12, 3, 12, 7, 4, 12, 5, 5, 4, 12, 11, 11, 7, 5, 1, 11, 2, 10, 6, 7, 5, 10, 12, 5, 11, 9, 11, 7, 4, 1, 4, 8, 5, 2, 6, 11, 1, 2, 9, 9, 12, 3, 4, 6, 12, 11, 3, 7, 8, 8, 7, 5, 1, 3, 11, 11, 9, 2, 11, 8, 10, 7, 12, 3, 12, 9, 5, 9, 3, 11, 9, 7, 4, 8, 4, 1, 9, 7, 6, 10, 11, 12, 9, 3, 4, 6, 6, 2, 7, 12, 9, 10, 8, 1, 6, 11, 7, 7, 10, 2, 10, 4, 12, 12, 4, 8, 12, 1, 8, 1, 9, 12, 9, 1, 6, 4, 6, 10, 3, 3, 9, 8, 8, 4, 1, 8, 7, 6, 6, 2, 7, 7, 8, 6, 11, 10, 10, 10, 4, 5, 5, 6, 7, 7, 3, 5, 9, 4, 5, 11, 6, 1, 9, 5, 10, 11, 5, 10, 1, 10, 11, 7, 1, 5, 12, 8, 10, 5, 11, 3, 11, 10, 12, 11, 1, 7, 11, 1, 11, 4, 6, 6, 9, 5, 5, 10, 9, 5, 12, 6, 8, 4, 3, 2, 8, 5, 1, 1, 5, 11, 12, 11, 3, 4, 12, 6, 5, 11, 7, 5, 4, 3, 3, 5, 1, 11, 5, 11, 12, 10, 5, 5, 4, 7, 7, 4, 4, 8, 6, 9, 10, 1, 10, 6, 8, 8, 8, 8, 11, 6, 7, 9, 8, 11, 12, 10, 10, 2, 2, 12, 11, 2, 9, 8, 12, 9, 5, 1, 11, 11, 6, 1, 6, 8, 4, 12, 8, 12, 10, 11, 11, 5, 7, 5, 4, 10, 7, 9, 4, 5, 7, 11, 5, 9, 11, 7, 10, 2, 1, 11, 9, 8, 7, 4, 8, 11, 11, 6, 9, 2, 12, 12, 1, 1, 8, 5, 9, 7, 7, 1, 11, 7, 10, 11, 6, 10, 9, 10, 5, 12, 12, 7, 8, 11, 12, 1, 3, 11, 12, 4, 4, 10, 10, 5, 6, 1, 9, 9, 12, 11, 7, 8, 6, 11, 10, 4, 9, 9, 12, 12, 1, 4, 9, 10, 10, 10, 5, 12, 5, 2, 12, 9, 11, 5, 7, 2, 1, 12, 9, 9, 9, 7, 2, 10, 10, 11, 4, 5, 8, 9, 2, 8, 11, 4, 12, 2, 2, 12, 11, 1, 12, 1, 12, 2, 12, 11, 11, 7, 9, 7, 1, 2, 6, 2, 2, 4, 3, 10, 3, 1, 10, 8, 2, 2, 11, 5, 6, 7, 11, 5, 11, 9, 10, 5, 11, 3, 8, 11, 11, 6, 5, 9, 6, 3, 7, 5, 6, 7, 8, 9, 3, 12, 10, 9, 4, 6, 11, 12, 11, 5, 4, 12, 6, 4, 12, 6, 9, 4, 1, 11, 3, 9, 1, 10, 6, 8, 9, 8, 11, 3, 10, 2, 8, 6, 12, 10, 9, 11, 7, 4, 10, 4, 12, 11, 8, 4, 9, 6, 11, 2, 2, 12, 12, 3, 9, 2, 12, 7, 7, 1, 9, 9, 12, 1, 3, 8, 8, 4, 9, 3, 1, 12, 11, 11, 12, 8, 5, 9, 9, 8, 6, 12, 3, 6, 9, 7, 10, 12, 6, 8, 3, 7, 3, 7, 9, 4, 8, 9, 11, 6, 3, 9, 11, 9, 9, 11, 11, 11, 5, 10, 3, 11, 12, 7, 2, 5, 9, 10, 7, 11, 5, 11, 2, 9, 6, 9, 2, 10, 5, 8, 12, 11, 12, 6, 11, 9, 9, 10, 2, 8, 4, 11, 4, 5, 8, 3, 11, 7, 4, 11, 9, 6, 2, 4, 6, 9, 11, 3, 5, 10, 6, 7, 2, 12, 1, 9, 10, 6, 11, 11, 12, 10, 4, 11, 12, 11, 7, 11, 6, 8, 5, 11, 8, 6, 9, 8, 8, 11, 3, 11, 3, 9, 9, 12, 9, 12, 5, 8, 12, 4, 4, 3, 3, 12, 11, 12, 6, 10, 5, 9, 11, 10, 3, 10, 8, 8, 9, 3, 6, 12, 5, 11, 11, 3, 3, 8, 3, 12, 4, 9, 6, 4, 11, 6, 11, 10, 7, 7, 7, 11, 12, 12, 6, 8, 3, 7, 3, 7, 12, 8, 11, 3, 6, 5, 11, 12, 11, 1, 11, 1, 8, 7, 8, 8, 12, 12, 10, 11, 6, 6, 7, 11, 8, 3, 7, 7, 11, 9, 10, 12, 11, 5, 11, 11, 9, 11, 9, 5, 11, 12, 4, 9, 8, 6, 1, 6, 9, 3, 7, 4, 12, 11, 7, 4, 8, 11, 9, 1, 11, 6, 9, 9, 10, 5, 9, 12, 8, 11, 1, 7, 12, 10, 3, 8, 8, 12, 5, 7, 6, 7, 2, 5, 3, 1, 9, 4, 3, 7, 2, 3, 7, 11, 1, 10, 11, 10, 11, 10, 7, 7, 11, 3, 11, 9, 11, 12, 12, 11, 10, 1, 3, 10, 5, 7, 5, 10, 4, 7, 7, 3, 8, 5, 1, 10, 4, 8, 1, 11, 12, 11, 3, 4, 3, 8, 10, 6, 5, 4, 3, 7, 12, 10, 7, 3, 11, 9, 2, 3, 10, 12, 3, 9, 4, 1, 12, 12, 11, 3, 7, 9, 11, 12, 7, 8, 7, 3, 7, 12, 3, 11, 7, 5, 8, 9, 7, 8, 5, 12, 10, 12, 11, 7, 2, 12, 8, 4, 3, 6, 3, 5, 9, 11, 12, 11, 8, 5, 6, 11, 8, 8, 11, 10, 3, 12, 5, 5, 5, 3, 9, 1, 6, 4, 12, 11, 11, 12, 5, 11, 7, 4, 3, 7, 10, 2, 5, 10, 10, 6, 9, 3, 3, 9, 6, 3, 10, 4, 3, 8, 3, 9, 3, 10, 5, 1, 5, 6, 4, 9, 10, 3, 11, 6, 7, 6, 10, 12, 7, 9, 3, 12, 4, 12, 12, 11, 12, 5, 7, 9, 11, 3, 11, 3, 12, 11, 3, 6, 10, 6, 4, 11, 2, 10, 2, 5, 3, 10, 12, 8, 1, 6, 9, 12, 3, 8, 3, 8, 2, 2, 10, 12, 2, 11, 5, 11, 9, 10, 1, 9, 12, 6, 7, 2, 5, 12, 6, 9, 5, 2, 12, 10, 3, 4, 12, 2, 8, 10, 11, 7, 9, 12, 2, 11, 11, 12, 10, 1, 5, 12, 4, 12, 5, 11, 11, 7, 5, 7, 10, 4, 6, 12, 9, 8, 8, 8, 8, 7, 5, 7, 9, 12, 9, 5, 12, 11, 12, 9, 8, 6, 3, 6, 6, 12, 3, 2, 1, 11, 10, 2, 1, 4, 2, 2, 6, 11, 10, 12, 12, 5, 1, 5, 12, 11, 5, 11, 1, 2, 1, 4, 3, 7, 9, 9, 1, 3, 7, 3, 4, 9, 4, 11, 4, 4, 9, 12, 10, 3, 11, 2, 12, 11, 7, 11, 6, 8, 10, 6, 7, 4, 6, 2, 2, 11, 10, 5, 8, 1, 9, 5, 11, 7, 11, 6, 11, 12, 12, 4, 3, 3, 10, 8, 9, 7, 7, 2, 9, 1, 6, 11, 7, 1, 7, 12, 8, 11, 2, 1, 3, 3, 6, 7, 12, 2, 11, 10, 9, 7, 1, 11, 7, 8, 12, 11, 10, 3, 12, 11, 11, 1, 3, 7, 6, 11, 10, 2, 9, 2, 7, 7, 11, 11, 7, 1, 11, 2, 11, 11, 10, 5, 3, 9, 1, 9, 12, 8, 3, 9, 12, 6, 10, 5, 1, 6, 8, 11, 9, 11, 8, 11, 6, 3, 1, 6, 1, 10, 7, 1, 11, 10, 11, 12, 9, 7, 3, 8, 10, 5, 11, 3, 10, 3, 11, 12, 6, 10, 11, 9, 11, 7, 7, 11, 5, 8, 9, 11, 6, 6, 1, 1, 8, 11, 4, 11, 7, 10, 8, 11, 2, 7, 8, 6, 11, 10, 10, 11, 7, 4, 11, 6, 9, 4, 5, 12, 3, 3, 11, 11, 1, 3, 10, 6, 11, 7, 6, 1, 12, 7, 5, 12, 11, 7, 12, 9, 2, 12, 7, 11, 12, 2, 8, 4, 11, 11, 9, 7, 10, 5, 1, 11, 11, 6, 11, 1, 6, 11, 5, 10, 12, 3, 11, 5, 12, 11, 8, 12, 3, 9, 3, 6, 11, 2, 2, 11, 10, 9, 8, 11, 3, 2, 4, 9, 8, 12, 11, 11, 1, 2, 12, 12, 2, 12, 2, 11, 10, 11, 8, 12, 8, 5, 6, 4, 12, 5, 4, 11, 3, 6, 4, 7, 12, 5, 6, 7, 11, 9, 4, 12, 11, 3, 1, 8, 9, 10, 1, 12, 11, 12, 10, 12, 9, 9, 3, 5, 10, 9, 7, 4, 1, 2, 11, 11, 5, 11, 11, 10, 6, 9, 10, 5, 12, 11, 7, 10, 7, 10, 10, 5, 2, 10, 5, 8, 7, 12, 10, 7, 11, 8, 10, 8, 9, 6, 12, 4, 9, 11, 12, 11, 8, 12, 11, 5, 6, 9, 6, 9, 6, 5, 2, 10, 11, 8, 7, 7, 7, 3, 4, 7, 10, 3, 3, 1, 12, 10, 11, 5, 6, 8, 10, 5, 8, 6, 5, 10, 9, 5, 11, 10, 3, 11, 5, 10, 5, 10, 4, 5, 1, 5, 11, 3, 8, 2, 10, 9, 4, 5, 7, 9, 9, 9, 7, 11, 4, 11, 12, 9, 7, 9, 8, 5, 3, 9, 8, 5, 10, 7, 7, 5, 11, 11, 10, 8, 11, 5, 10, 4, 6, 3, 12, 11, 9, 12, 2, 10, 3, 4, 12, 12, 10, 11, 9, 7, 12, 7, 11, 12, 9, 12, 2, 5, 4, 6, 7, 5, 7, 9, 4, 6, 3, 3, 8, 1, 11, 6, 12, 7, 9, 4, 7, 10, 9, 11, 12, 9, 2, 7, 3, 7, 1, 10, 9, 5, 11, 5, 11, 11, 11, 5, 11, 9, 5, 11, 6, 9, 3, 2, 10, 12, 6, 7, 6, 2, 11, 6, 12, 12, 6, 11, 9, 6, 2, 2, 8, 9, 2, 2, 11, 12, 2, 7, 10, 2, 1, 12, 3, 7, 6, 6, 11, 12, 3, 3, 9, 4, 10, 11, 12, 11, 7, 10, 1, 5, 4, 5, 6, 11, 9, 5, 8, 10, 3, 1, 9, 4, 9, 9, 12, 12, 8, 9, 5, 10, 11, 3, 11, 8, 11, 7, 6, 9, 3, 11, 3, 12, 11, 5, 11, 9, 11, 1, 9, 7, 9, 11, 7, 3, 1, 11, 6, 10, 11, 10, 6, 10, 9, 11, 10, 9, 7, 8, 5, 6, 10, 9, 12, 11, 12, 12, 9, 8, 10, 12, 10, 6, 8, 6, 9, 2, 7, 9, 6, 8, 10, 3, 9, 9, 1, 12, 5, 6, 11, 8, 5, 5, 9, 11, 4, 9, 4, 9, 8, 12, 4, 12, 1, 6, 10, 1, 2, 11, 12, 10, 10, 9, 12, 6, 7, 1, 9, 1, 9, 12, 11, 3, 5, 12, 5, 10, 8, 5, 12, 9, 10, 10, 6, 1, 1, 12, 10, 5, 7, 12, 5, 3, 7, 9, 4, 7, 4, 7, 9, 10, 2, 1, 5, 8, 11, 10, 2, 2, 10, 12, 6, 4, 11, 10, 10, 11, 5, 8, 9, 4, 6, 11, 7, 10, 11, 11, 11, 3, 9, 8, 6, 6, 5, 5, 5, 12, 9, 10, 9, 8, 9, 5, 10, 3, 7, 6, 7, 12, 12, 10, 10, 2, 4, 7, 6, 9, 6, 10, 9, 1, 9, 1, 9, 12, 4, 3, 1, 11, 2, 4, 7, 5, 7, 7, 9, 10, 4, 6, 12, 3, 7, 6, 6, 5, 3, 10, 7, 10, 12, 5, 12, 4, 12, 7, 6, 4, 11, 2, 5, 4, 9, 9, 2, 12, 5, 12, 10, 7, 8, 5, 6, 12, 11, 11, 3, 5, 8, 11, 2, 4, 3, 9, 8, 3, 11, 10, 11, 10, 7, 12, 5, 5, 11, 11, 4, 10, 1, 10, 10, 7, 12, 11, 3, 3, 12, 9, 12, 8, 8, 6, 10, 8, 3, 11, 12, 12, 5, 9, 12, 12, 3, 12, 12, 5, 7, 12, 8, 1, 5, 12, 1, 9, 9, 2, 1, 8, 10, 9, 8, 2, 10, 9, 11, 11, 11, 3, 3, 7, 1, 11, 8, 7, 10, 9, 11, 12, 1, 10, 10, 7, 9, 10, 3, 3, 2, 12, 10, 9, 11, 11, 3, 4, 1, 6, 10, 1, 1, 10, 8, 7, 5, 4, 12, 8, 1, 9, 10, 3, 10, 4, 3, 10, 3, 5, 2, 1, 2, 5, 12, 6, 7, 11, 4, 7, 11, 12, 9, 12, 5, 12, 5, 7, 4, 11, 9, 1, 4, 3, 9, 3, 1, 9, 3, 8, 11, 10, 8, 6, 1, 10, 9, 11, 6, 1, 12, 12, 11, 10, 4, 2, 12, 2, 9, 9, 8, 10, 3, 5, 9, 4, 1, 11, 3, 10, 11, 6, 7, 9, 11, 4, 1, 11, 7, 11, 4, 8, 5, 7, 10, 6, 12, 1, 12, 5, 6, 7, 12, 11, 6, 11, 11, 2, 10, 12, 4, 6, 11, 3, 3, 10, 5, 9, 11, 6, 1, 6, 12, 9, 5, 6, 6, 3, 10, 9, 6, 4, 11, 9, 12, 9, 2, 7, 12, 11, 7, 5, 5, 12, 12, 9, 8, 9, 5, 10, 11, 10, 12, 9, 10, 7, 10, 12, 12, 8, 4, 9, 3, 3, 1, 9, 9, 3, 4, 12, 11, 12, 8, 6, 9, 5, 8, 4, 11, 5, 8, 11, 9, 8, 9, 8, 1, 8, 1, 10, 10, 8, 6, 5, 10, 2, 10, 11, 3, 10, 4, 9, 10, 2, 7, 12, 6, 4, 10, 2, 10, 8, 11, 2, 5, 6, 12, 10, 12, 12, 3, 5, 11, 8, 6, 12, 3, 4, 7, 11, 3, 4, 5, 3, 12, 6, 6, 9, 3, 12, 11, 2, 7, 11, 1, 11, 10, 11, 9, 10, 8, 12, 8, 7, 11, 12, 9, 9, 10, 10, 3, 11, 10, 2, 10, 11, 8, 7, 5, 5, 12, 2, 8, 10, 6, 7, 5, 11, 1, 9, 3, 9, 1, 11, 7, 2, 7, 11, 8, 5, 4, 4, 12, 11, 6, 11, 2, 6, 10, 9, 4, 11, 9, 12, 2, 10, 4, 6, 11, 5, 11, 1, 11, 3, 6, 6, 6, 10, 9, 9, 8, 6, 11, 6, 7, 10, 12, 12, 12, 8, 12, 6, 11, 11, 5, 12, 11, 11, 2, 2, 12, 12, 12, 12, 6, 10, 6, 4, 6, 7, 5, 4, 5, 5, 12, 8, 8, 12, 11, 11, 10, 5, 6, 5, 7, 1, 8, 8, 11, 7, 10, 3, 2, 3, 9, 3, 11, 2, 7, 6, 11, 3, 5, 12, 6, 12, 1, 5, 9, 7, 2, 8, 2, 9, 12, 7, 10, 11, 9, 10, 8, 10, 10, 5, 2, 10, 6, 5, 1, 8, 11, 2, 5, 10, 9, 10, 10, 9, 4, 12, 12, 10, 7, 4, 12, 10, 10, 1, 11, 11, 3, 2, 7, 8, 1, 7, 9, 1, 3, 11, 7, 12, 10, 10, 3, 5, 7, 11, 11, 3, 3, 12, 5, 7, 11, 11, 10, 5, 8, 7, 3, 10, 2, 3, 8, 10, 7, 10, 10, 11, 9, 7, 11, 6, 11, 1, 10, 4, 12, 10, 5, 5, 6, 9, 6, 9, 1, 6, 3, 2, 6, 9, 9, 9, 10, 5, 11, 11, 1, 9, 9, 12, 9, 12, 6, 12, 2, 11, 5, 9, 4, 10, 2, 9, 7, 11, 9, 6, 12, 4, 4, 2, 12, 5, 7, 11, 7, 11, 3, 7, 11, 11, 9, 5, 10, 2, 12, 7, 5, 11, 12, 11, 7, 9, 11, 5, 6, 3, 3, 11, 2, 7, 3, 3, 8, 6, 10, 4, 11, 8, 4, 11, 6, 9, 2, 12, 8, 12, 3, 2, 10, 12, 2, 5, 7, 2, 1, 12, 10, 11, 2, 7, 11, 4, 9, 2, 5, 10, 2, 5, 7, 12, 3, 1, 10, 7, 11, 9, 10, 11, 12, 12, 7, 1, 5, 11, 9, 8, 3, 10, 10, 12, 12, 9, 1, 10, 1, 12, 8, 11, 5, 12, 4, 7, 11, 7, 7, 5, 9, 11, 12, 8, 2, 9, 11, 8, 12, 1, 9, 3, 1, 2, 7, 11, 9, 10, 2, 4, 11, 1, 10, 11, 5, 1, 3, 12, 6, 8, 9, 3, 2, 11, 9, 1, 7, 7, 7, 6, 1, 10, 11, 12, 11, 2, 5, 11, 6, 10, 6, 12, 10, 8, 6, 5, 7, 11, 12, 12, 9, 5, 12, 9, 11, 4, 5, 10, 11, 5, 7, 8, 11, 9, 7, 11, 2, 11, 8, 10, 7, 11, 9, 10, 9, 1, 11, 3, 6, 6, 12, 7, 5, 2, 9, 3, 5, 10, 8, 6, 7, 7, 1, 12, 7, 5, 3, 12, 10, 12, 6, 12, 10, 5, 11, 7, 9, 10, 11, 3, 11, 6, 3, 6, 12, 1, 6, 9, 7, 6, 4, 1, 5, 10, 10, 9, 11, 4, 4, 11, 8, 12, 10, 9, 6, 5, 11, 8, 7, 9, 10, 11, 12, 12, 12, 9, 4, 6, 8, 4, 10, 5, 11, 10, 5, 7, 5, 4, 10, 5, 9, 11, 11, 6, 1, 9, 11, 11, 12, 3, 12, 10, 8, 3, 5, 11, 7, 10, 2, 7, 11, 2, 6, 6, 11, 11, 12, 7, 4, 9, 8, 11, 6, 11, 2, 6, 11, 1, 11, 5, 8, 5, 6, 3, 5, 3, 1, 2, 11, 1, 5, 2, 6, 11, 6, 10, 9, 3, 11, 12, 8, 4, 4, 11, 9, 7, 5, 4, 8, 8, 2, 1, 3, 9, 2, 12, 11, 12, 2, 6, 6, 6, 8, 10, 9, 12, 3, 5, 4, 11, 12, 6, 7, 6, 8, 11, 11, 12, 12, 11, 5, 7, 8, 12, 9, 4, 7, 5, 11, 5, 3, 7, 9, 1, 8, 12, 11, 10, 10, 11, 11, 6, 10, 1, 11, 11, 10, 10, 8, 9, 7, 4, 8, 4, 12, 3, 11, 2, 7, 10, 2, 7, 12, 4, 9, 8, 11, 10, 5, 9, 12, 6, 6, 12, 2, 8, 7, 12, 11, 9, 6, 10, 11, 2, 9, 6, 11, 12, 5, 12, 2, 2, 11, 5, 4, 11, 11, 2, 11, 12, 10, 11, 5, 8, 12, 12, 9, 11, 12, 4, 5, 4, 12, 11, 7, 7, 4, 11, 3, 10, 8, 6, 3, 6, 8, 8, 9, 10, 7, 10, 3, 6, 6, 6, 11, 1, 7, 10, 4, 4, 11, 5, 11, 12, 11, 12, 11, 5, 11, 5, 10, 7, 9, 3, 2, 11, 2, 6, 3, 1, 7, 1, 12, 3, 11, 11, 11, 11, 12, 11, 10, 11, 7, 10, 11, 6, 4, 3, 11, 1, 4, 4, 3, 4, 1, 3, 11, 3, 10, 10, 7, 3, 1, 5, 1, 4, 12, 9, 4, 12, 7, 7, 11, 3, 11, 3, 2, 9, 10, 7, 10, 11, 9, 9, 5, 9, 2, 12, 12, 2, 7, 9, 7, 8, 6, 11, 12, 12, 11, 10, 2, 4, 7, 4, 5, 7, 11, 11, 3, 5, 12, 5, 2, 2, 8, 6, 3, 3, 10, 9, 5, 11, 6, 9, 11, 10, 10, 5, 9, 6, 11, 11, 8, 10, 11, 4, 12, 2, 8, 2, 4, 2, 2, 1, 10, 3, 12, 2, 8, 12, 6, 10, 10, 12, 9, 9, 7, 7, 7, 11, 3, 7, 5, 4, 8, 2, 12, 6, 10, 7, 9, 2, 9, 10, 7, 10, 9, 10, 11, 6, 5, 12, 6, 9, 11, 9, 11, 3, 12, 11, 9, 3, 1, 11, 10, 11, 2, 6, 10, 10, 6, 3, 11, 8, 10, 10, 12, 6, 12, 10, 12, 3, 2, 12, 11, 12, 6, 10, 5, 5, 10, 11, 12, 7, 12, 8, 12, 9, 3, 5, 11, 5, 4, 11, 12, 1, 7, 3, 6, 5, 11, 6, 12, 3, 4, 10, 5, 11, 12, 5, 10, 6, 9, 12, 11, 4, 12, 10, 11, 2, 10, 6, 11, 2, 1, 1, 10, 8, 9, 11, 7, 5, 11, 10, 2, 11, 11, 9, 9, 4, 10, 2, 9, 1, 9, 7, 5, 3, 6, 12, 9, 12, 4, 5, 5, 12, 12, 1, 9, 12, 7, 4, 11, 5, 6, 2, 11, 5, 10, 12, 3, 8, 10, 5, 7, 6, 10, 4, 12, 9, 5, 3, 11, 5, 10, 6, 1, 11, 5, 8, 8, 12, 10, 3, 5, 1, 9, 5, 11, 9, 11, 6, 11, 7, 3, 12, 6, 5, 11, 11, 2, 11, 6, 5, 5, 12, 6, 2, 10, 12, 7, 2, 1, 7, 4, 9, 1, 3, 9, 12, 5, 8, 9, 9, 10, 9, 5, 9, 5, 2, 9, 8, 11, 2, 6, 9, 9, 9, 2, 6, 1, 11, 12, 12, 5, 8, 9, 12, 11, 8, 6, 8, 10, 12, 12, 7, 11, 9, 1, 12, 10, 8, 10, 4, 12, 12, 5, 3, 11, 7, 7, 9, 7, 9, 11, 7, 5, 8, 3, 6, 7, 12, 5, 5, 1, 5, 1, 12, 3, 6, 5, 11, 8, 3, 10, 3, 5, 7, 11, 3, 12, 1, 12, 9, 1, 8, 10, 3, 11, 10, 4, 11, 12, 11, 4, 10, 2, 8, 7, 6, 10, 4, 6, 6, 5, 12, 8, 9, 10, 11, 5, 9, 10, 11, 12, 11, 4, 6, 8, 4, 7, 9, 1, 12, 3, 6, 11, 12, 5, 11, 5, 2, 3, 2, 10, 3, 5, 10, 5, 7, 3, 11, 1, 5, 8, 12, 5, 11, 11, 4, 9, 10, 9, 12, 11, 3, 3, 3, 10, 4, 8, 6, 10, 12, 9, 9, 8, 8, 4, 8, 3, 6, 9, 4, 9, 9, 2, 12, 5, 2, 2, 3, 6, 5, 5, 11, 6, 6, 5, 12, 11, 3, 4, 12, 9, 12, 1, 11, 5, 10, 7, 12, 11, 11, 12, 3, 3, 9, 7, 11, 6, 11, 9, 6, 11, 10, 7, 10, 1, 6, 10, 3, 9, 5, 4, 3, 10, 6, 10, 9, 11, 12, 2, 11, 6, 11, 11, 11, 9, 7, 12, 12, 12, 9, 10, 2, 10, 12, 11, 1, 11, 9, 5, 12, 12, 10, 4, 9, 12, 12, 4, 12, 9, 1, 11, 3, 9, 7, 2, 8, 9, 4, 11, 10, 11, 6, 12, 10, 9, 3, 11, 6, 8, 5, 1, 3, 7, 7, 9, 11, 7, 11, 4, 1, 6, 10, 10, 11, 11, 11, 11, 10, 11, 5, 7, 5, 9, 9, 10, 11, 9, 1, 9, 1, 7, 12, 3, 7, 11, 3, 5, 6, 10, 8, 3, 11, 7, 11, 6, 5, 4, 10, 5, 10, 4, 10, 9, 5, 6, 9, 11, 9, 6, 12, 12, 12, 5, 5, 11, 11, 9, 5, 5, 10, 1, 9, 10, 6, 7, 8, 8, 10, 1, 6, 9, 11, 1, 8, 11, 11, 6, 10, 8, 12, 8, 9, 7, 6, 5, 12, 3, 12, 11, 8, 8, 11, 11, 12, 12, 9, 6, 6, 6, 9, 11, 11, 10, 7, 3, 12, 8, 10, 9, 10, 10, 5, 12, 11, 8, 11, 8, 11, 7, 8, 11, 6, 3, 4, 9, 6, 11, 5, 10, 12, 3, 3, 8, 1, 10, 11, 1, 8, 7, 7, 9, 4, 10, 4, 7, 7, 11, 6, 12, 10, 6, 12, 12, 6, 11, 10, 6, 3, 7, 12, 6, 3, 1, 3, 3, 5, 12, 3, 5, 10, 9, 12, 4, 11, 10, 10, 4, 4, 10, 10, 1, 10, 12, 9, 9, 5, 10, 11, 12, 5, 7, 4, 4, 3, 10, 10, 11, 12, 8, 10, 12, 5, 7, 11, 12, 5, 9, 5, 12, 7, 1, 3, 12, 11, 12, 12, 11, 5, 9, 12, 5, 3, 5, 4, 2, 10, 11, 5, 5, 8, 12, 3, 5, 2, 8, 10, 12, 12, 9, 3, 5, 12, 9, 5, 1, 1, 9, 12, 12, 7, 6, 12, 4, 10, 11, 11, 2, 7, 5, 8, 6, 12, 10, 12, 6, 2, 8, 9, 1, 8, 9, 3, 8, 5, 11, 8, 6, 7, 10, 7, 12, 8, 8, 3, 10, 2, 9, 10, 7, 11, 10, 5, 8, 6, 1, 5, 9, 4, 6, 9, 4, 1, 4, 7, 7, 7, 9, 3, 5, 11, 4, 2, 10, 11, 6, 12, 11, 2, 6, 3, 11, 11, 5, 2, 9, 3, 12, 2, 11, 7, 8, 3, 2, 7, 2, 9, 1, 4, 4, 12, 3, 1, 7, 3, 7, 7, 9, 3, 11, 7, 5, 11, 8, 5, 5, 6, 10, 4, 7, 10, 10, 4, 12, 10, 8, 6, 6, 7, 3, 1, 12, 9, 6, 4, 9, 3, 6, 6, 3, 10, 12, 10, 2, 7, 12, 6, 4, 9, 5, 6, 7, 4, 5, 10, 10, 12, 12, 2, 12, 6, 3, 9, 4, 12, 10, 5, 5, 8, 10, 9, 7, 4, 11, 11, 4, 3, 2, 9, 10, 9, 1, 11, 5, 2, 5, 7, 12, 3, 10, 4, 12, 12, 3, 7, 8, 1, 2, 4, 12, 2, 1, 5, 1, 5, 2, 10, 12, 5, 11, 12, 1, 4, 1, 12, 10, 12, 12, 11, 7, 7, 11, 3, 2, 8, 8, 6, 12, 11, 3, 12, 9, 5, 2, 3, 12, 10, 4, 9, 3, 12, 7, 12, 4, 11, 12, 8, 12, 10, 12, 11, 11, 11, 8, 11, 7, 4, 12, 11, 4, 11, 7, 5, 11, 12, 10, 11, 4, 9, 12, 7, 4, 3, 4, 6, 12, 12, 1, 7, 2, 10, 5, 6, 11, 10, 5, 5, 9, 10, 2, 6, 12, 4, 12, 3, 6, 6, 12, 10, 8, 10, 11, 3, 9, 4, 9, 3, 2, 11, 12, 4, 3, 9, 9, 2, 5, 8, 11, 2, 1, 10, 11, 4, 2, 5, 9, 9, 9, 5, 1, 6, 8, 6, 3, 2, 1, 12, 10, 10, 6, 8, 4, 10, 7, 9, 6, 3, 11, 5, 12, 12, 10, 6, 11, 11, 12, 6, 10, 12, 1, 11, 8, 9, 11, 9, 10, 9, 12, 10, 9, 1, 7, 11, 3, 12, 10, 5, 10, 10, 11, 11, 3, 5, 4, 1, 12, 9, 5, 4, 4, 8, 10, 6, 6, 8, 9, 12, 9, 3, 12, 8, 8, 8, 4, 5, 6, 11, 6, 9, 9, 4, 10, 6, 8, 2, 4, 3, 11, 10, 10, 12, 9, 9, 1, 5, 10, 11, 11, 12, 12, 7, 2, 11, 5, 12, 11, 9, 10, 7, 1, 11, 5, 10, 10, 4, 10, 11, 8, 5, 6, 1, 10, 5, 2, 10, 9, 11, 8, 12, 7, 5, 12, 3, 12, 2, 11, 9, 10, 8, 1, 6, 5, 5, 10, 1, 10, 7, 6, 7, 5, 3, 8, 9, 9, 11, 8, 10, 12, 4, 11, 10, 7, 7, 10, 8, 12, 10, 10, 10, 8, 11, 5, 1, 12, 5, 1, 7, 12, 6, 6, 10, 9, 1, 10, 9, 11, 12, 5, 10, 10, 9, 1, 8, 8, 9, 2, 5, 8, 3, 3, 11, 9, 7, 7, 6, 10, 8, 9, 10, 11, 11, 9, 11, 5, 3, 3, 10, 4, 4, 1, 10, 7, 4, 6, 4, 11, 11, 1, 12, 11, 11, 10, 7, 12, 5, 12, 2, 2, 5, 12, 9, 5, 8, 6, 11, 4, 12, 1, 9, 7, 3, 1, 4, 3, 6, 11, 12, 4, 4, 10, 5, 1, 6, 11, 9, 1, 10, 12, 4, 2, 8, 9, 9, 11, 5, 1, 10, 10, 9, 11, 7, 8, 9, 7, 12, 11, 3, 5, 11, 12, 4, 10, 3, 11, 1, 2, 1, 11, 7, 1, 7, 6, 12, 1, 8, 7, 9, 4, 7, 1, 4, 9, 11, 11, 7, 12, 7, 10, 4, 3, 5, 10, 10, 3, 5, 7, 3, 8, 10, 12, 3, 12, 8, 6, 7, 8, 8, 11, 1, 10, 6, 12, 12, 12, 6, 12, 7, 2, 11, 12, 12, 5, 1, 9, 10, 3, 1, 11, 12, 6, 7, 7, 12, 12, 2, 11, 3, 5, 5, 7, 6, 3, 6, 6, 11, 3, 9, 12, 4, 9, 6, 12, 6, 2, 7, 7, 3, 2, 12, 9, 12, 5, 8, 11, 9, 1, 6, 3, 10, 9, 9, 12, 3, 11, 6, 11, 5, 7, 5, 10, 2, 8, 7, 4, 5, 3, 10, 4, 11, 12, 9, 6, 7, 2, 9, 11, 2, 10, 6, 4, 7, 8, 12, 10, 5, 7, 8, 3, 7, 12, 1, 12, 3, 11, 4, 8, 12, 10, 8, 9, 9, 3, 5, 9, 3, 5, 2, 11, 9, 9, 9, 4, 3, 9, 5, 6, 2, 12, 7, 9, 7, 12, 10, 11, 12, 11, 7, 9, 6, 11, 10, 9, 12, 3, 10, 11, 5, 10, 6, 7, 3, 12, 5, 10, 8, 3, 5, 11, 2, 10, 9, 6, 11, 1, 8, 12, 10, 5, 4, 5, 7, 12, 9, 11, 11, 5, 10, 1, 11, 3, 1, 5, 7, 2, 2, 2, 4, 8, 8, 9, 5, 12, 4, 11, 10, 5, 8, 7, 10, 4, 7, 11, 7, 1, 8, 12, 11, 11, 12, 1, 11, 6, 5, 9, 6, 1, 12, 3, 11, 11, 5, 3, 10, 11, 5, 7, 12, 2, 9, 6, 5, 10, 12, 4, 3, 2, 9, 5, 8, 7, 6, 4, 12, 3, 5, 8, 10, 3, 2, 5, 2, 3, 9, 11, 5, 10, 11, 12, 1, 12, 9, 4, 5, 5, 11, 5, 5, 12, 10, 1, 11, 3, 9, 10, 11, 4, 1, 3, 10, 3, 2, 7, 9, 11, 11, 5, 5, 9, 11, 5, 2, 12, 5, 12, 4, 10, 4, 12, 4, 10, 11, 11, 11, 11, 11, 10, 6, 11, 12, 12, 3, 11, 8, 3, 4, 3, 9, 11, 10, 12, 2, 12, 9, 11, 10, 8, 11, 12, 12, 5, 7, 2, 4, 3, 11, 6, 3, 11, 5, 7, 3, 8, 6, 12, 12, 11, 12, 11, 3, 11, 5, 9, 12, 3, 11, 5, 6, 5, 12, 3, 10, 10, 11, 9, 11, 7, 4, 1, 7, 11, 11, 8, 6, 12, 9, 12, 12, 11, 6, 9, 2, 9, 10, 2, 3, 1, 11, 7, 12, 11, 4, 11, 10, 9, 12, 12, 4, 9, 9, 11, 8, 11, 10, 9, 12, 10, 9, 7, 10, 9, 12, 10, 3, 12, 6, 8, 4, 12, 10, 6, 8, 10, 3, 5, 3, 7, 10, 7, 8, 11, 7, 9, 9, 11, 2, 6, 12, 10, 12, 4, 6, 6, 11, 9, 9, 10, 1, 5, 8, 12, 9, 8, 7, 9, 8, 11, 7, 2, 11, 3, 9, 5, 8, 12, 5, 12, 1, 1, 9, 9, 7, 10, 7, 11, 10, 2, 7, 5, 8, 2, 12, 7, 2, 7, 1, 2, 11, 3, 5, 11, 9, 5, 11, 1, 11, 10, 12, 5, 5, 12, 12, 12, 6, 11, 5, 11, 5, 10, 11, 11, 12, 5, 1, 5, 10, 3, 11, 3, 1, 11, 9, 6, 10, 4, 11, 8, 11, 2, 6, 11, 12, 7, 4, 9, 5, 5, 11, 3, 6, 12, 3, 4, 11, 10, 8, 10, 7, 12, 3, 1, 11, 5, 9, 1, 5, 9, 1, 8, 11, 7, 5, 2, 10, 10, 9, 6, 7, 3, 1, 7, 12, 5, 9, 7, 10, 12, 7, 10, 10, 5, 12, 11, 10, 5, 2, 11, 7, 12, 9, 12, 11, 11, 4, 5, 5, 2, 11, 10, 12, 3, 10, 1, 10, 2, 11, 4, 8, 5, 9, 4, 9, 11, 5, 7, 10, 12, 10, 8, 7, 6, 4, 11, 10, 11, 7, 9, 7, 12, 11, 12, 12, 12, 6, 3, 12, 11, 6, 1, 6, 11, 4, 2, 9, 12, 10, 5, 10, 7, 1, 10, 8, 9, 1, 12, 10, 1, 4, 8, 2, 3, 11, 3, 6, 11, 4, 8, 3, 5, 6, 7, 2, 4, 3, 7, 1, 11, 10, 3, 1, 8, 3, 9, 3, 11, 1, 7, 9, 10, 9, 12, 10, 2, 7, 11, 11, 9, 11, 3, 3, 10, 11, 7, 8, 6, 7, 11, 10, 10, 12, 5, 7, 8, 12, 10, 11, 3, 5, 12, 9, 11, 4, 5, 11, 12, 5, 10, 9, 1, 11, 9, 1, 9, 6, 3, 8, 2, 5, 1, 2, 6, 11, 2, 7, 7, 12, 10, 12, 1, 11, 7, 11, 11, 10, 5, 8, 4, 4, 4, 2, 7, 5, 8, 11, 11, 1, 8, 10, 4, 12, 3, 6, 7, 5, 7, 10, 10, 7, 12, 9, 9, 11, 10, 10, 12, 8, 1, 3, 1, 2, 4, 2, 9, 1, 12, 4, 6, 7, 12, 5, 11, 12, 11, 6, 10, 6, 9, 6, 12, 9, 12, 11, 8, 9, 4, 3, 10, 11, 8, 4, 5, 11, 7, 10, 7, 7, 9, 9, 6, 4, 12, 9, 10, 8, 11, 6, 5, 6, 6, 5, 9, 2, 6, 12, 11, 9, 3, 2, 9, 7, 5, 12, 11, 12, 7, 10, 1, 12, 10, 2, 6, 9, 9, 8, 12, 11, 11, 3, 8, 10, 6, 4, 6, 7, 11, 4, 6, 6, 12, 12, 6, 10, 9, 11, 9, 11, 11, 10, 6, 9, 7, 9, 3, 12, 12, 6, 4, 11, 10, 5, 11, 4, 8, 10, 11, 2, 9, 4, 6, 11, 4, 12, 4, 1, 8, 4, 10, 9, 9, 12, 11, 5, 8, 2, 4, 9, 7, 9, 5, 10, 1, 4, 8, 5, 10, 10, 3, 1, 10, 12, 3, 3, 6, 3, 11, 11, 9, 10, 2, 3, 11, 11, 12, 3, 7, 7, 10, 5, 3, 12, 9, 4, 8, 1, 8, 10, 3, 2, 3, 12, 1, 8, 7, 11, 6, 11, 7, 3, 12, 11, 11, 8, 12, 8, 4, 5, 12, 4, 12, 3, 1, 3, 5, 7, 2, 10, 11, 5, 10, 3, 10, 4, 8, 11, 12, 12, 12, 10, 11, 11, 6, 11, 12, 1, 5, 12, 10, 12, 5, 5, 3, 12, 10, 12, 7, 5, 9, 11, 7, 3, 3, 4, 10, 3, 8, 11, 6, 6, 8, 6, 8, 8, 11, 5, 10, 7, 5, 3, 11, 5, 10, 11, 2, 12, 11, 6, 2, 8, 5, 9, 12, 12, 6, 11, 12, 7, 1, 6, 8, 10, 3, 3, 1, 11, 8, 5, 11, 12, 10, 5, 7, 12, 2, 12, 7, 10, 7, 5, 10, 8, 6, 4, 6, 11, 7, 6, 6, 10, 10, 2, 4, 9, 8, 4, 1, 9, 11, 9, 9, 5, 7, 6, 12, 7, 5, 12, 10, 12, 11, 8, 9, 2, 12, 7, 10, 8, 11, 8, 8, 11, 1, 8, 2, 5, 9, 10, 6, 12, 1, 2, 5, 3, 9, 7, 9, 4, 1, 8, 2, 12, 5, 12, 2, 3, 8, 4, 6, 9, 8, 6, 11, 11, 10, 6, 5, 10, 2, 12, 12, 9, 1, 11, 10, 11, 11, 10, 11, 11, 5, 7, 4, 7, 11, 1, 10, 12, 11, 1, 4, 11, 12, 2, 8, 12, 8, 8, 2, 5, 11, 6, 9, 8, 9, 11, 3, 5, 10, 3, 9, 3, 4, 4, 6, 9, 11, 5, 1, 2, 12, 8, 1, 3, 12, 9, 10, 12, 9, 4, 10, 5, 10, 2, 7, 8, 10, 2, 12, 12, 5, 9, 11, 12, 10, 8, 10, 7, 8, 7, 12, 5, 11, 5, 11, 12, 1, 3, 6, 12, 12, 7, 7, 7, 12, 5, 3, 5, 7, 3, 5, 11, 6, 8, 11, 10, 2, 10, 11, 12, 11, 5, 5, 12, 11, 6, 6, 11, 10, 10, 12, 11, 10, 10, 12, 12, 7, 5, 6, 6, 6, 7, 9, 5, 9, 11, 9, 7, 11, 1, 10, 12, 5, 6, 3, 4, 3, 9, 11, 10, 6, 11, 10, 8, 11, 5, 12, 4, 11, 10, 7, 8, 4, 6, 1, 3, 9, 5, 12, 4, 12, 2, 2, 9, 11, 11, 9, 12, 10, 11, 2, 12, 4, 9, 7, 12, 4, 4, 7, 11, 7, 1, 5, 7, 2, 12, 5, 11, 3, 10, 10, 7, 3, 7, 11, 11, 6, 8, 9, 11, 11, 4, 8, 3, 12, 8, 1, 12, 6, 2, 12, 1, 10, 10, 4, 2, 9, 11, 5, 12, 10, 12, 8, 10, 9, 11, 4, 10, 11, 9, 11, 12, 2, 11, 6, 5, 8, 4, 3, 2, 7, 4, 9, 9, 8, 9, 11, 12, 11, 9, 9, 5, 1, 4, 10, 12, 11, 10, 6, 2, 7, 9, 9, 4, 6, 9, 11, 1, 4, 9, 11, 5, 6, 11, 4, 10, 4, 5, 8, 12, 12, 6, 2, 5, 11, 5, 6, 11, 12, 5, 10, 3, 9, 4, 7, 11, 9, 11, 6, 12, 12, 10, 8, 9, 11, 10, 7, 1, 9, 12, 10, 8, 12, 4, 8, 1, 10, 10, 9, 5, 3, 4, 3, 7, 7, 12, 12, 10, 10, 6, 4, 2, 3, 4, 1, 11, 7, 10, 11, 3, 9, 5, 3, 8, 12, 12, 12, 4, 11, 4, 12, 3, 9, 9, 9, 6, 10, 11, 3, 4, 10, 7, 9, 7, 12, 5, 9, 1, 12, 2, 12, 2, 6, 8, 6, 12, 11, 10, 10, 8, 4, 9, 6, 3, 9, 10, 5, 1, 12, 12, 11, 10, 5, 12, 9, 3, 8, 5, 10, 9, 4, 2, 1, 12, 5, 11, 5, 12, 6, 4, 5, 12, 12, 5, 8, 10, 1, 5, 11, 6, 6, 9, 3, 12, 2, 12, 9, 6, 8, 4, 12, 3, 5, 11, 3, 5, 5, 10, 7, 7, 9, 10, 6, 11, 11, 11, 9, 7, 8, 7, 11, 5, 3, 5, 12, 2, 3, 8, 9, 1, 8, 7, 6, 11, 11, 8, 2, 5, 10, 5, 4, 11, 12, 4, 12, 10, 4, 4, 1, 12, 2, 12, 11, 2, 3, 11, 12, 6, 4, 7, 9, 9, 11, 11, 6, 4, 3, 2, 1, 12, 3, 5, 9, 3, 6, 11, 12, 7, 7, 7, 10, 9, 11, 7, 3, 1, 5, 8, 10, 9, 11, 6, 3, 12, 4, 1, 9, 12, 7, 11, 10, 12, 5, 8, 8, 4, 10, 8, 8, 10, 10, 11, 11, 4, 12, 7, 3, 3, 1, 6, 10, 1, 3, 10, 11, 1, 5, 4, 9, 5, 7, 2, 9, 1, 12, 10, 3, 11, 11, 4, 5, 12, 11, 2, 12, 9, 11, 8, 10, 4, 4, 9, 7, 1, 12, 9, 9, 3, 5, 8, 5, 8, 7, 1, 12, 5, 10, 10, 10, 3, 11, 1, 11, 9, 9, 7, 7, 6, 8, 11, 5, 7, 5, 6, 6, 8, 6, 7, 11, 7, 12, 7, 4, 9, 9, 10, 10, 2, 7, 10, 11, 11, 3, 8, 12, 5, 5, 11, 4, 11, 8, 9, 10, 6, 11, 1, 12, 9, 3, 9, 8, 10, 3, 7, 3, 8, 10, 5, 8, 10, 12, 4, 4, 10, 7, 3, 7, 3, 12, 2, 8, 2, 11, 4, 11, 1, 6, 11, 11, 1, 2, 2, 8, 5, 9, 9, 11, 2, 10, 3, 2, 9, 12, 9, 8, 3, 2, 9, 7, 12, 1, 10, 6, 5, 9, 2, 11, 12, 11, 11, 8, 11, 9, 6, 9, 5, 7, 1, 7, 7, 6, 7, 8, 8, 7, 12, 9, 11, 12, 3, 7, 1, 11, 9, 12, 4, 10, 3, 5, 9, 10, 12, 12, 3, 12, 11, 4, 4, 9, 12, 3, 6, 10, 5, 11, 11, 9, 5, 10, 4, 11, 3, 3, 6, 5, 8, 3, 11, 2, 4, 12, 12, 9, 2, 11, 11, 6, 1, 9, 8, 12, 9, 9, 12, 10, 12, 12, 11, 11, 9, 10, 12, 12, 6, 10, 10, 1, 4, 7, 12, 12, 4, 3, 7, 1, 1, 3, 3, 8, 5, 9, 11, 7, 10, 8, 6, 6, 5, 5, 7, 5, 4, 7, 11, 12, 4, 6, 4, 1, 10, 10, 8, 10, 6, 4, 8, 12, 6, 9, 6, 8, 2, 3, 10, 12, 9, 11, 2, 2, 4, 4, 3, 12, 12, 4, 9, 4, 9, 8, 7, 11, 3, 9, 10, 12, 2, 7, 12, 3, 11, 10, 3, 11, 10, 2, 10, 10, 8, 11, 10, 12, 3, 7, 8, 6, 6, 5, 2, 2, 12, 9, 1, 1, 8, 11, 9, 12, 9, 8, 6, 10, 11, 7, 1, 10, 8, 12, 3, 7, 11, 6, 2, 6, 6, 12, 11, 11, 9, 11, 11, 9, 4, 12, 11, 12, 4, 8, 6, 1, 11, 2, 8, 4, 11, 1, 12, 5, 3, 9, 10, 10, 12, 4, 12, 6, 10, 12, 9, 11, 10, 5, 5, 3, 5, 10, 4, 7, 1, 11, 11, 12, 7, 6, 6, 12, 2, 10, 10, 5, 5, 8, 2, 2, 11, 7, 11, 3, 5, 10, 5, 2, 8, 3, 2, 3, 3, 5, 8, 11, 7, 12, 4, 9, 4, 5, 11, 5, 5, 4, 7, 10, 9, 12, 5, 5, 8, 12, 11, 7, 7, 12, 3, 4, 5, 6, 11, 1, 12, 12, 11, 6, 4, 2, 5, 9, 2, 11, 7, 6, 9, 11, 12, 4, 10, 10, 11, 10, 12, 3, 5, 4, 12, 1, 4, 12, 12, 1, 5, 8, 3, 10, 12, 5, 6, 12, 11, 5, 3, 11, 2, 12, 6, 1, 12, 1, 10, 11, 9, 5, 11, 7, 10, 11, 6, 6, 2, 8, 9, 9, 11, 6, 10, 7, 3, 5, 11, 3, 11, 3, 10, 8, 11, 11, 9, 11, 6, 11, 10, 6, 8, 12, 8, 11, 12, 1, 6, 12, 8, 6, 2, 6, 12, 9, 11, 4, 12, 3, 11, 7, 9, 6, 11, 10, 4, 10, 11, 10, 9, 11, 3, 10, 2, 11, 5, 6, 7, 6, 4, 3, 4, 9, 10, 3, 12, 7, 5, 12, 1, 10, 6, 12, 3, 5, 1, 4, 11, 12, 10, 12, 9, 6, 11, 10, 6, 4, 3, 9, 9, 3, 10, 2, 11, 9, 3, 8, 7, 8, 12, 3, 11, 8, 9, 8, 9, 3, 4, 12, 3, 5, 2, 4, 12, 10, 8, 2, 6, 11, 3, 11, 4, 11, 1, 11, 9, 8, 5, 1, 12, 10, 11, 11, 3, 11, 4, 11, 7, 6, 5, 1, 11, 12, 6, 3, 3, 6, 12, 10, 3, 6, 4, 8, 10, 11, 8, 11, 7, 10, 9, 7, 8, 1, 7, 10, 1, 6, 12, 5, 12, 10, 11, 9, 8, 7, 10, 8, 12, 2, 7, 11, 8, 2, 3, 1, 6, 11, 3, 12, 9, 6, 12, 4, 11, 4, 5, 8, 11, 5, 11, 6, 1, 8, 11, 7, 11, 5, 6, 2, 4, 6, 6, 4, 8, 11, 11, 4, 1, 4, 2, 5, 3, 5, 12, 9, 1, 9, 5, 5, 2, 4, 11, 10, 8, 5, 12, 8, 10, 6, 6, 8, 8, 1, 3, 5, 6, 9, 3, 4, 3, 12, 3, 10, 10, 5, 12, 11, 9, 7, 7, 11, 9, 9, 4, 2, 1, 12, 11, 12, 12, 12, 10, 10, 10, 6, 9, 10, 12, 12, 11, 2, 12, 3, 11, 12, 11, 6, 8, 8, 12, 1, 7, 10, 11, 3, 3, 7, 3, 7, 10, 11, 9, 5, 12, 7, 5, 6, 11, 9, 8, 5, 12, 8, 1, 4, 8, 6, 10, 11, 4, 9, 1, 1, 9, 5, 9, 9, 4, 11, 5, 5, 11, 10, 1, 11, 10, 7, 11, 2, 5, 11, 6, 7, 4, 8, 12, 4, 10, 11, 5, 6, 11, 2, 5, 12, 5, 10, 9, 5, 3, 10, 4, 10, 5, 7, 6, 6, 1, 7, 9, 3, 11, 11, 10, 4, 7, 4, 10, 11, 10, 8, 9, 10, 12, 11, 5, 7, 9, 12, 5, 12, 11, 8, 5, 10, 12, 4, 8, 7, 6, 10, 9, 4, 11, 12, 6, 10, 12, 12, 11, 8, 5, 3, 2, 11, 2, 9, 5, 11, 8, 11, 3, 2, 11, 2, 9, 12, 5, 5, 9, 9, 6, 11, 4, 2, 1, 3, 9, 11, 12, 1, 5, 12, 5, 9, 8, 9, 6, 10, 7, 11, 9, 12, 11, 11, 10, 4, 5, 9, 9, 4, 3, 1, 12, 10, 10, 6, 9, 10, 6, 5, 11, 12, 5, 5, 6, 12, 7, 8, 2, 1, 10, 3, 12, 9, 5, 7, 7, 12, 3, 11, 3, 10, 1, 3, 11, 6, 1, 12, 11, 8, 10, 12, 12, 6, 1, 3, 2, 9, 2, 9, 9, 9, 6, 12, 12, 12, 3, 11, 11, 8, 12, 3, 5, 7, 11, 12, 3, 7, 8, 6, 11, 9, 3, 10, 10, 3, 11, 11, 11, 9, 7, 1, 5, 7, 9, 7, 10, 5, 6, 11, 11, 6, 5, 12, 10, 12, 11, 11, 8, 12, 6, 8, 5, 11, 4, 9, 11, 10, 8, 7, 10, 9, 11, 4, 6, 10, 4, 5, 5, 1, 6, 1, 3, 6, 7, 7, 11, 9, 8, 5, 1, 10, 3, 5, 9, 11, 1, 11, 11, 7, 7, 1, 3, 8, 5, 10, 9, 5, 8, 4, 9, 1, 8, 7, 9, 6, 9, 3, 9, 10, 10, 9, 9, 7, 12, 5, 7, 12, 5, 10, 9, 3, 4, 3, 9, 9, 8, 5, 1, 4, 2, 9, 9, 6, 11, 12, 12, 3, 2, 4, 9, 12, 3, 7, 7, 3, 6, 5, 8, 2, 5, 3, 9, 10, 12, 11, 10, 11, 4, 7, 12, 9, 10, 1, 11, 6, 10, 6, 5, 6, 11, 11, 12, 3, 4, 10, 1, 10, 9, 1, 11, 9, 8, 6, 12, 10, 12, 3, 5, 12, 5, 9, 12, 5, 8, 3, 9, 3, 10, 5, 4, 8, 11, 9, 9, 4, 3, 3, 8, 10, 1, 2, 5, 7, 12, 11, 2, 3, 1, 8, 3, 3, 1, 2, 5, 1, 1, 2, 4, 11, 2, 1, 11, 11, 11, 11, 7, 12, 2, 12, 10, 11, 3, 9, 7, 11, 12, 8, 6, 9, 3, 9, 4, 3, 4, 10, 7, 1, 12, 1, 12, 3, 11, 10, 7, 6, 12, 2, 6, 11, 11, 3, 4, 9, 6, 4, 6, 6, 2, 5, 11, 9, 6, 7, 7, 7, 9, 8, 8, 5, 10, 12, 8, 8, 4, 6, 9, 4, 9, 10, 9, 2, 2, 12, 11, 6, 9, 10, 12, 2, 10, 11, 4, 5, 5, 6, 9, 7, 6, 10, 11, 7, 7, 10, 5, 6, 8, 1, 10, 12, 5, 4, 7, 2, 11, 8, 2, 8, 3, 12, 8, 4, 9, 8, 4, 10, 5, 7, 10, 7, 9, 8, 12, 11, 4, 9, 12, 6, 4, 6, 1, 9, 11, 9, 8, 7, 8, 9, 12, 12, 8, 6, 11, 11, 1, 12, 5, 10, 12, 7, 11, 9, 10, 10, 11, 8, 11, 9, 12, 11, 9, 5, 9, 5, 11, 11, 12, 6, 11, 11, 2, 1, 12, 11, 5, 12, 8, 11, 12, 2, 5, 7, 11, 3, 2, 8, 10, 1, 2, 5, 1, 11, 5, 1, 4, 3, 10, 12, 7, 6, 8, 10, 9, 9, 5, 8, 11, 3, 9, 4, 10, 7, 8, 11, 7, 11, 12, 8, 5, 8, 10, 4, 11, 9, 7, 6, 3, 9, 11, 9, 5, 9, 12, 10, 12, 7, 4, 3, 5, 12, 9, 8, 10, 7, 11, 11, 10, 3, 12, 11, 9, 11, 5, 5, 2, 4, 5, 11, 8, 9, 2, 7, 12, 2, 12, 6, 5, 11, 4, 3, 3, 5, 12, 1, 9, 9, 8, 11, 12, 9, 12, 11, 12, 3, 10, 12, 9, 2, 9, 3, 5, 12, 8, 1, 7, 1, 1, 6, 9, 1, 1, 11, 9, 10, 4, 2, 3, 11, 2, 9, 5, 11, 6, 12, 5, 7, 11, 10, 6, 8, 2, 3, 8, 7, 2, 3, 3, 10, 4, 10, 10, 11, 10, 11, 12, 7, 6, 2, 11, 11, 9, 6, 2, 6, 10, 4, 12, 2, 8, 6, 11, 10, 10, 9, 10, 3, 1, 5, 8, 12, 7, 10, 11, 12, 6, 10, 9, 11, 12, 5, 11, 1, 9, 7, 10, 9, 11, 12, 5, 4, 5, 12, 11, 12, 12, 1, 11, 12, 5, 12, 12, 8, 2, 12, 10, 5, 5, 3, 11, 3, 1, 10, 9, 5, 10, 2, 9, 11, 11, 11, 11, 4, 6, 11, 3, 12, 11, 5, 7, 7, 1, 8, 6, 8, 6, 4, 9, 6, 10, 6, 2, 9, 10, 5, 7, 6, 2, 8, 9, 3, 6, 10, 6, 11, 5, 12, 9, 1, 7, 5, 12, 2, 12, 11, 5, 6, 5, 9, 4, 11, 3, 6, 2, 12, 10, 10, 9, 4, 3, 2, 3, 8, 12, 3, 9, 2, 3, 5, 2, 11, 7, 5, 12, 7, 3, 10, 5, 3, 12, 6, 11, 11, 8, 7, 5, 3, 11, 3, 7, 7, 4, 1, 5, 3, 7, 9, 9, 6, 4, 12, 8, 12, 12, 12, 8, 1, 9, 7, 4, 10, 12, 5, 11, 2, 7, 5, 12, 8, 6, 11, 7, 11, 8, 10, 11, 12, 1, 11, 7, 10, 1, 10, 12, 8, 6, 10, 2, 12, 8, 1, 4, 5, 3, 7, 12, 5, 6, 7, 8, 12, 5, 6, 8, 11, 3, 12, 11, 10, 12, 3, 4, 1, 5, 7, 11, 2, 6, 6, 5, 8, 12, 4, 12, 7, 5, 11, 2, 3, 11, 1, 3, 6, 4, 9, 12, 10, 9, 3, 5, 11, 1, 6, 10, 3, 6, 9, 4, 3, 11, 9, 8, 6, 5, 12, 11, 12, 2, 12, 11, 12, 11, 12, 6, 1, 5, 4, 10, 11, 3, 11, 4, 9, 12, 1, 2, 10, 9, 8, 12, 9, 5, 9, 7, 3, 4, 12, 2, 12, 3, 12, 10, 5, 1, 10, 6, 6, 10, 3, 2, 8, 6, 5, 9, 9, 5, 6, 1, 7, 3, 9, 10, 5, 1, 12, 11, 7, 12, 4, 9, 6, 6, 6, 10, 8, 8, 11, 9, 10, 6, 3, 8, 10, 9, 5, 1, 2, 5, 7, 6, 6, 11, 9, 9, 3, 9, 6, 4, 4, 11, 6, 3, 8, 9, 11, 11, 1, 2, 11, 6, 11, 9, 11, 12, 11, 4, 9, 5, 6, 9, 12, 10, 10, 11, 10, 4, 11, 9, 9, 10, 8, 6, 12, 9, 6, 8, 1, 3, 11, 5, 4, 2, 12, 3, 1, 7, 4, 11, 12, 11, 4, 7, 7, 9, 6, 6, 3, 2, 12, 12, 9, 1, 4, 7, 2, 7, 12, 7, 10, 4, 8, 8, 7, 2, 12, 4, 11, 4, 9, 7, 4, 5, 1, 5, 9, 1, 12, 3, 9, 11, 10, 11, 5, 6, 9, 5, 12, 6, 10, 1, 8, 2, 5, 11, 4, 11, 10, 11, 6, 2, 7, 10, 4, 6, 4, 6, 4, 5, 4, 8, 12, 12, 2, 3, 6, 5, 10, 10, 8, 6, 10, 3, 4, 12, 12, 11, 2, 10, 11, 11, 1, 10, 12, 9, 11, 3, 1, 1, 11, 8, 1, 4, 10, 7, 7, 12, 7, 10, 2, 12, 7, 3, 9, 11, 8, 8, 10, 3, 1, 2, 1, 4, 11, 10, 4, 10, 12, 2, 5, 12, 8, 9, 7, 5, 11, 10, 2, 5, 10, 6, 11, 12, 7, 11, 9, 7, 8, 10, 2, 7, 6, 9, 9, 11, 1, 4, 12, 11, 1, 11, 9, 2, 11, 4, 3, 10, 4, 6, 11, 11, 3, 4, 6, 4, 6, 9, 11, 2, 10, 1, 6, 2, 8, 5, 4, 6, 8, 5, 11, 2, 6, 11, 11, 4, 9, 8, 9, 1, 1, 11, 12, 10, 11, 7, 11, 11, 10, 4, 3, 12, 11, 12, 9, 5, 11, 5, 6, 5, 6, 6, 5, 3, 3, 6, 4, 8, 11, 3, 12, 5, 3, 11, 3, 6, 1, 9, 5, 11, 5, 3, 4, 8, 3, 12, 5, 1, 2, 3, 2, 9, 5, 12, 5, 5, 11, 10, 10, 6, 2, 10, 6, 11, 9, 7, 11, 11, 2, 10, 10, 4, 4, 10, 1, 12, 12, 7, 8, 6, 4, 6, 12, 9, 11, 9, 11, 3, 4, 3, 12, 12, 6, 6, 3, 11, 1, 3, 2, 5, 10, 5, 3, 7, 9, 5, 10, 3, 5, 12, 7, 2, 10, 5, 10, 5, 10, 10, 8, 9, 7, 11, 2, 2, 4, 8, 11, 12, 3, 12, 6, 7, 5, 11, 6, 12, 10, 8, 11, 12, 5, 5, 8, 10, 7, 6, 10, 11, 12, 2, 1, 10, 12, 3, 11, 10, 6, 12, 3, 12, 2, 5, 1, 12, 4, 12, 11, 1, 10, 11, 8, 7, 3, 5, 12, 12, 6, 10, 4, 6, 12, 1, 5, 4, 5, 1, 1, 12, 9, 8, 4, 9, 11, 3, 10, 2, 10, 10, 11, 12, 11, 8, 2, 2, 12, 9, 11, 1, 9, 6, 5, 1, 10, 5, 6, 5, 5, 5, 12, 12, 11, 12, 7, 9, 1, 10, 11, 5, 7, 1, 9, 9, 12, 12, 4, 12, 4, 11, 12, 1, 3, 6, 12, 12, 11, 11, 12, 8, 8, 12, 10, 12, 6, 11, 8, 5, 6, 12, 11, 12, 11, 3, 12, 9, 2, 10, 3, 11, 10, 11, 7, 9, 5, 11, 7, 11, 3, 11, 8, 11, 1, 5, 6, 12, 11, 2, 6, 11, 5, 4, 12, 12, 2, 3, 1, 7, 9, 10, 6, 6, 5, 1, 11, 9, 8, 1, 11, 9, 9, 12, 5, 4, 3, 6, 11, 2, 6, 11, 3, 1, 12, 5, 9, 8, 11, 10, 4, 12, 12, 11, 5, 9, 7, 11, 8, 5, 11, 12, 10, 5, 1, 3, 2, 5, 7, 8, 3, 6, 9, 1, 2, 5, 11, 5, 9, 8, 4, 7, 4, 2, 11, 7, 6, 10, 4, 8, 12, 5, 2, 11, 11, 3, 10, 6, 9, 11, 11, 10, 3, 3, 6, 2, 6, 5, 3, 10, 5, 7, 6, 9, 4, 8, 10, 4, 11, 8, 6, 8, 10, 8, 3, 5, 2, 12, 11, 7, 10, 5, 10, 2, 9, 8, 1, 9, 9, 9, 12, 9, 5, 7, 7, 9, 7, 8, 7, 11, 6, 6, 2, 7, 2, 10, 3, 4, 7, 11, 8, 6, 10, 11, 8, 12, 11, 1, 5, 1, 10, 5, 10, 3, 6, 6, 12, 12, 11, 12, 9, 11, 7, 4, 7, 3, 10, 10, 8, 5, 9, 12, 8, 11, 2, 11, 12, 8, 9, 3, 9, 1, 8, 11, 11, 9, 11, 6, 11, 3, 1, 11, 9, 3, 10, 4, 11, 8, 5, 11, 5, 3, 9, 11, 10, 9, 6, 7, 3, 6, 12, 9, 12, 4, 7, 3, 7, 11, 3, 2, 8, 4, 1, 11, 12, 2, 9, 8, 12, 12, 9, 12, 11, 11, 1, 10, 5, 9, 5, 9, 3, 7, 2, 2, 7, 7, 8, 6, 12, 11, 10, 1, 6, 7, 12, 10, 3, 8, 7, 12, 10, 1, 9, 12, 1, 4, 10, 7, 3, 3, 12, 7, 8, 10, 10, 10, 5, 11, 10, 5, 1, 11, 9, 5, 11, 9, 8, 3, 5, 12, 1, 2, 7, 1, 12, 6, 8, 5, 3, 11, 6, 1, 9, 6, 2, 12, 5, 12, 12, 8, 12, 11, 11, 9, 7, 7, 11, 3, 12, 9, 10, 5, 5, 7, 11, 11, 9, 8, 5, 12, 9, 11, 6, 8, 7, 8, 9, 3, 10, 12, 2, 9, 10, 3, 4, 10, 11, 7, 12, 9, 10, 11, 6, 10, 11, 5, 12, 10, 1, 12, 10, 1, 3, 12, 6, 7, 5, 11, 7, 11, 12, 1, 10, 9, 9, 1, 9, 10, 11, 11, 10, 4, 1, 3, 1, 8, 7, 4, 9, 3, 12, 11, 7, 4, 5, 11, 11, 5, 9, 9, 5, 11, 6, 8, 11, 4, 11, 11, 8, 8, 9, 11, 3, 11, 12, 9, 5, 10, 12, 7, 11, 8, 5, 12, 8, 8, 7, 5, 8, 11, 8, 6, 9, 7, 1, 10, 2, 11, 11, 12, 7, 7, 4, 11, 10, 11, 7, 5, 3, 4, 11, 10, 10, 10, 6, 1, 10, 11, 8, 3, 8, 12, 8, 10, 6, 8, 12, 3, 8, 9, 11, 12, 7, 6, 10, 1, 10, 9, 4, 12, 8, 12, 7, 4, 10, 8, 6, 6, 6, 9, 10, 11, 12, 8, 11, 9, 11, 7, 11, 11, 3, 10, 10, 6, 8, 4, 9, 8, 4, 11, 5, 9, 4, 3, 8, 4, 6, 4, 9, 4, 11, 7, 10, 7, 11, 3, 2, 2, 12, 3, 11, 6, 10, 4, 12, 3, 7, 5, 9, 12, 10, 6, 12, 12, 3, 2, 9, 11, 5, 6, 5, 4, 10, 11, 6, 8, 5, 12, 3, 9, 1, 9, 7, 5, 10, 1, 11, 6, 1, 1, 3, 10, 5, 5, 9, 9, 3, 12, 6, 3, 8, 12, 7, 9, 9, 9, 5, 2, 9, 12, 6, 3, 9, 3, 6, 7, 4, 10, 5, 7, 10, 6, 8, 6, 3, 7, 11, 4, 7, 2, 2, 6, 7, 3, 11, 3, 7, 12, 5, 5, 11, 10, 10, 1, 5, 2, 10, 6, 8, 11, 5, 10, 10, 2, 6, 1, 10, 11, 6, 11, 1, 12, 11, 6, 11, 5, 7, 10, 9, 10, 5, 9, 5, 11, 11, 4, 11, 11, 5, 6, 11, 10, 10, 6, 7, 9, 5, 8, 11, 12, 5, 2, 10, 11, 7, 3, 9, 10, 7, 11, 2, 3, 5, 5, 8, 3, 10, 11, 9, 8, 12, 12, 10, 1, 10, 7, 7, 5, 10, 9, 9, 11, 2, 4, 2, 9, 12, 10, 8, 1, 10, 5, 8, 11, 7, 8, 5, 10, 7, 12, 3, 8, 11, 11, 4, 3, 1, 5, 1, 10, 11, 12, 9, 5, 3, 1, 10, 12, 5, 10, 12, 11, 12, 4, 8, 10, 5, 6, 12, 11, 2, 7, 12, 11, 8, 5, 5, 3, 5, 11, 11, 6, 9, 10, 8, 6, 12, 11, 5, 5, 10, 3, 11, 12, 6, 10, 3, 12, 3, 5, 9, 9, 7, 5, 2, 2, 7, 10, 3, 2, 2, 5, 4, 12, 7, 11, 12, 9, 10, 12, 12, 8, 1, 8, 4, 3, 7, 11, 10, 9, 5, 7, 11, 2, 3, 9, 6, 7, 12, 8, 3, 1, 12, 1, 1, 6, 12, 5, 6, 8, 9, 8, 8, 11, 3, 12, 10, 6, 12, 12, 4, 4, 9, 1, 11, 10, 11, 9, 1, 8, 5, 1, 2, 7, 2, 11, 4, 9, 1, 2, 5, 5, 8, 10, 9, 5, 11, 7, 4, 11, 8, 8, 10, 5, 12, 1, 10, 11, 6, 6, 5, 12, 3, 9, 2, 12, 5, 5, 2, 3, 6, 10, 1, 11, 9, 11, 3, 3, 8, 12, 3, 2, 12, 7, 4, 3, 3, 5, 10, 4, 11, 11, 6, 11, 7, 10, 6, 11, 1, 3, 1, 2, 7, 10, 1, 1, 12, 11, 10, 12, 2, 8, 10, 3, 8, 11, 6, 11, 11, 8, 10, 8, 1, 6, 10, 6, 10, 10, 8, 2, 11, 1, 2, 9, 6, 2, 3, 11, 7, 8, 8, 9, 3, 12, 11, 7, 5, 7, 11, 11, 9, 7, 12, 4, 12, 5, 11, 4, 1, 12, 10, 5, 9, 7, 4, 9, 12, 3, 7, 4, 1, 9, 9, 1, 5, 9, 11, 10, 12, 11, 9, 11, 1, 9, 6, 5, 7, 7, 4, 4, 10, 7, 4, 2, 5, 6, 7, 11, 10, 7, 10, 4, 5, 4, 3, 4, 6, 7, 6, 7, 11, 12, 1, 3, 9, 12, 6, 4, 7, 10, 12, 3, 11, 5, 11, 7, 12, 3, 11, 8, 9, 3, 11, 11, 4, 10, 8, 5, 6, 3, 11, 1, 7, 6, 10, 8, 12, 5, 8, 1, 11, 3, 11, 12, 3, 7, 12, 11, 10, 1, 12, 10, 5, 10, 12, 4, 1, 6, 4, 6, 8, 4, 11, 2, 11, 11, 9, 1, 7, 3, 2, 1, 5, 11, 7, 12, 10, 9, 9, 10, 3, 10, 12, 5, 10, 1, 10, 6, 12, 4, 12, 8, 9, 8, 12, 9, 6, 11, 5, 4, 3, 10, 9, 5, 12, 11, 11, 7, 6, 4, 8, 2, 5, 12, 12, 12, 10, 12, 8, 12, 3, 3, 11, 9, 5, 9, 9, 4, 7, 5, 4, 3, 12, 8, 7, 12, 3, 10, 6, 6, 9, 3, 2, 12, 7, 9, 10, 12, 4, 11, 9, 12, 3, 5, 3, 11, 10, 7, 1, 12, 12, 2, 7, 12, 12, 4, 10, 3, 4, 4, 8, 12, 6, 10, 5, 8, 4, 10, 12, 2, 2, 5, 11, 12, 6, 4, 6, 5, 10, 12, 10, 8, 7, 8, 11, 11, 6, 2, 11, 3, 6, 10, 12, 11, 9, 9, 9, 5, 9, 4, 6, 10, 1, 11, 2, 2, 9, 4, 1, 5, 12, 4, 8, 8, 11, 12, 11, 4, 2, 2, 2, 5, 12, 6, 12, 9, 11, 5, 12, 10, 11, 7, 1, 9, 1, 4, 9, 10, 8, 10, 6, 1, 9, 2, 7, 8, 7, 12, 12, 12, 4, 12, 9, 11, 10, 1, 10, 11, 12, 12, 7, 6, 12, 10, 9, 11, 3, 2, 11, 2, 11, 10, 5, 3, 12, 6, 8, 10, 9, 10, 6, 11, 1, 10, 2, 1, 6, 7, 5, 3, 11, 5, 10, 4, 4, 7, 12, 3, 11, 11, 9, 7, 5, 10, 4, 12, 2, 11, 7, 11, 7, 10, 12, 8, 12, 9, 8, 4, 10, 5, 12, 10, 12, 5, 6, 8, 12, 3, 12, 7, 11, 7, 6, 5, 2, 9, 7, 4, 11, 12, 3, 12, 7, 10, 5, 7, 8, 7, 8, 3, 1, 8, 4, 10, 3, 5, 11, 5, 5, 11, 8, 6, 12, 10, 5, 3, 3, 5, 10, 11, 10, 6, 11, 10, 9, 12, 3, 3, 9, 2, 11, 1, 2, 9, 1, 1, 5, 9, 8, 12, 2, 2, 6, 11, 1, 11, 11, 10, 9, 11, 3, 3, 10, 9, 7, 12, 11, 9, 2, 11, 11, 9, 5, 8, 11, 12, 10, 6, 8, 2, 11, 6, 3, 7, 4, 6, 11, 4, 6, 8, 4, 4, 2, 9, 2, 3, 5, 3, 10, 8, 5, 11, 10, 3, 8, 11, 11, 8, 12, 10, 10, 3, 4, 10, 7, 10, 11, 9, 4, 2, 5, 10, 4, 9, 1, 12, 11, 5, 9, 10, 11, 2, 7, 3, 11, 4, 7, 11, 12, 12, 7, 6, 8, 7, 11, 11, 10, 1, 4, 9, 7, 5, 3, 5, 11, 10, 9, 10, 11, 10, 4, 9, 9, 12, 9, 5, 1, 9, 9, 2, 4, 7, 11, 5, 9, 11, 9, 9, 12, 2, 9, 6, 6, 11, 12, 11, 2, 4, 9, 7, 12, 11, 2, 5, 12, 11, 11, 12, 10, 6, 5, 10, 12, 7, 2, 8, 12, 9, 8, 11, 12, 7, 1, 9, 9, 2, 3, 9, 4, 7, 10, 10, 6, 11, 12, 3, 10, 11, 10, 11, 7, 4, 12, 11, 11, 5, 7, 6, 2, 9, 11, 11, 3, 5, 6, 3, 3, 5, 1, 1, 1, 11, 11, 5, 11, 4]\n"
     ]
    }
   ],
   "source": [
    "# 2) CREACION DE UNA COLUMNA NUEVA CON EL MES DE LA VENTA\n",
    "## lista con el valor de mes en formato de numeros\n",
    "number_month = []\n",
    "for i in new_fecha:\n",
    "    a = i.month\n",
    "    number_month.append(a)\n",
    "    \n",
    "\n",
    "\n",
    "## lista que almacenar los meses de venta\n",
    "Sale_month = []\n",
    "Months = (\"Enero\", \"Febrero\", \"Marzo\", \"Abril\", \"Mayo\", \"Junio\", \"Julio\", \"Agosto\", \"Septiembre\", \"Octubre\", \"Noviembre\", \"Diciembre\")\n",
    "\n",
    "## se creara un ciclo para llenar la lista con los valores del mes en formato texto\n",
    "for i in number_month:\n",
    "    a = Months[i-1]\n",
    "    Sale_month.append(a)\n",
    "\n",
    "    "
   ]
  },
  {
   "cell_type": "code",
   "execution_count": 36,
   "id": "051d34fe",
   "metadata": {},
   "outputs": [],
   "source": [
    "# 3) creacion de una columna nueva con los años de ventas\n",
    "Sale_year = []\n",
    "\n",
    "for i in data['fecha_datetime']:\n",
    "    a = i.year\n",
    "    Sale_year.append(a)\n"
   ]
  },
  {
   "cell_type": "code",
   "execution_count": 38,
   "id": "2a5b534f",
   "metadata": {},
   "outputs": [],
   "source": [
    "# 4) creacion de una columna con el año y mes de venta\n",
    "year_month_sale = []\n",
    "for i in data['fecha_datetime']:\n",
    "    a  = i.strftime('%Y %m')\n",
    "    year_month_sale.append(a)"
   ]
  },
  {
   "cell_type": "code",
   "execution_count": null,
   "id": "523f834d",
   "metadata": {},
   "outputs": [],
   "source": []
  },
  {
   "cell_type": "markdown",
   "id": "0da0f29b",
   "metadata": {},
   "source": [
    "## se agregara en el dataframe las nuevas columnas y se eleminara alguna otra que sea redundante\n",
    "\n",
    "- se eliminara la columna de 'Fecha factura ya que contiene informacion redundante"
   ]
  },
  {
   "cell_type": "code",
   "execution_count": 39,
   "id": "925bdfcd",
   "metadata": {},
   "outputs": [],
   "source": [
    "data['fecha_datetime'] = new_fecha\n",
    "data['Sale_month'] = Sale_month\n",
    "data['Sale_year'] = Sale_year\n",
    "data['year_month_sale'] = year_month_sale"
   ]
  },
  {
   "cell_type": "code",
   "execution_count": 40,
   "id": "30a07a4a",
   "metadata": {},
   "outputs": [
    {
     "name": "stdout",
     "output_type": "stream",
     "text": [
      "<class 'pandas.core.frame.DataFrame'>\n",
      "Int64Index: 18566 entries, 0 to 25951\n",
      "Data columns (total 10 columns):\n",
      " #   Column            Non-Null Count  Dtype         \n",
      "---  ------            --------------  -----         \n",
      " 0   N° de factura     18566 non-null  object        \n",
      " 1   Fecha de factura  18566 non-null  object        \n",
      " 2   ID Cliente        18566 non-null  float64       \n",
      " 3   País              18566 non-null  object        \n",
      " 4   Cantidad          18566 non-null  int64         \n",
      " 5   New monto         18566 non-null  float64       \n",
      " 6   fecha_datetime    18566 non-null  datetime64[ns]\n",
      " 7   Sale_month        18566 non-null  object        \n",
      " 8   Sale_year         18566 non-null  int64         \n",
      " 9   year_month_sale   18566 non-null  object        \n",
      "dtypes: datetime64[ns](1), float64(2), int64(2), object(5)\n",
      "memory usage: 2.1+ MB\n"
     ]
    }
   ],
   "source": [
    "data.info()"
   ]
  },
  {
   "cell_type": "code",
   "execution_count": 41,
   "id": "cebf71d0",
   "metadata": {},
   "outputs": [
    {
     "data": {
      "text/plain": [
       "(18566, 10)"
      ]
     },
     "execution_count": 41,
     "metadata": {},
     "output_type": "execute_result"
    }
   ],
   "source": [
    "data.shape"
   ]
  },
  {
   "cell_type": "code",
   "execution_count": 42,
   "id": "e749bb52",
   "metadata": {},
   "outputs": [],
   "source": [
    "data.drop('Fecha de factura', axis=1, inplace=True)"
   ]
  },
  {
   "cell_type": "code",
   "execution_count": 43,
   "id": "98ac7d00",
   "metadata": {},
   "outputs": [
    {
     "name": "stdout",
     "output_type": "stream",
     "text": [
      "<class 'pandas.core.frame.DataFrame'>\n",
      "Int64Index: 18566 entries, 0 to 25951\n",
      "Data columns (total 9 columns):\n",
      " #   Column           Non-Null Count  Dtype         \n",
      "---  ------           --------------  -----         \n",
      " 0   N° de factura    18566 non-null  object        \n",
      " 1   ID Cliente       18566 non-null  float64       \n",
      " 2   País             18566 non-null  object        \n",
      " 3   Cantidad         18566 non-null  int64         \n",
      " 4   New monto        18566 non-null  float64       \n",
      " 5   fecha_datetime   18566 non-null  datetime64[ns]\n",
      " 6   Sale_month       18566 non-null  object        \n",
      " 7   Sale_year        18566 non-null  int64         \n",
      " 8   year_month_sale  18566 non-null  object        \n",
      "dtypes: datetime64[ns](1), float64(2), int64(2), object(4)\n",
      "memory usage: 1.9+ MB\n"
     ]
    }
   ],
   "source": [
    "data.info()"
   ]
  },
  {
   "cell_type": "code",
   "execution_count": 44,
   "id": "4bf04a1c",
   "metadata": {},
   "outputs": [
    {
     "name": "stdout",
     "output_type": "stream",
     "text": [
      "------------------------------------------------------------\n",
      "nuevo tamaño de dataset (18566, 9)\n"
     ]
    }
   ],
   "source": [
    "\n",
    "print('---'*20)\n",
    "print(f'nuevo tamaño de dataset {data.shape}')"
   ]
  },
  {
   "cell_type": "code",
   "execution_count": 45,
   "id": "75a8dbb4",
   "metadata": {},
   "outputs": [
    {
     "name": "stdout",
     "output_type": "stream",
     "text": [
      "columna N° de factura: tiene 18536 subniveles\n",
      "columna Sale_month: tiene 12 subniveles\n",
      "columna País: tiene 37 subniveles\n",
      "columna fecha_datetime: tiene 17286 subniveles\n",
      "columna Sale_year: tiene 2 subniveles\n",
      "columna year_month_sale: tiene 13 subniveles\n"
     ]
    }
   ],
   "source": [
    "category_columns = ['N° de factura','Sale_month','País', 'fecha_datetime', 'Sale_year', 'year_month_sale']\n",
    "## ver los subniveles que tienen las variables categoricas\n",
    "for col in category_columns:\n",
    "    print(f'columna {col}: tiene {data[col].nunique()} subniveles')\n"
   ]
  },
  {
   "cell_type": "markdown",
   "id": "ef07d0a2",
   "metadata": {},
   "source": [
    "# trabajo con variables categoricas \n",
    "puedo apreciar que no se presentan errors de escritura que puedan interferir con la intrepretacion de los datos\n",
    "\n",
    "- **ocurre que existen demasiados paises y no puedo apreciar bien que paises hay SERA OPTIMO VER CUANTOS PAISES COMPRAN QUIEN COMPRA MAS Y QUE HACER CON ESTOS PAISES QUE COMPRAN POCO**\n",
    "\n",
    "- **Las ventas de DICIEMBRE DEL 2022 influyen en las ventas del 2021**\n",
    "\n",
    "- ver como tratar estas ventas"
   ]
  },
  {
   "cell_type": "code",
   "execution_count": null,
   "id": "641635aa",
   "metadata": {},
   "outputs": [],
   "source": []
  },
  {
   "cell_type": "code",
   "execution_count": 46,
   "id": "d343630d",
   "metadata": {},
   "outputs": [
    {
     "data": {
      "text/plain": [
       "Text(0.5, 1.0, 'ventas por mes')"
      ]
     },
     "execution_count": 46,
     "metadata": {},
     "output_type": "execute_result"
    },
    {
     "data": {
      "image/png": "[encoded data removed]",
      "text/plain": [
       "<Figure size 1080x2160 with 5 Axes>"
      ]
     },
     "metadata": {
      "needs_background": "light"
     },
     "output_type": "display_data"
    }
   ],
   "source": [
    "fig, ax = plt.subplots(nrows=5, ncols=1, figsize=(15,30))\n",
    "fig.subplots_adjust(hspace=0.5)\n",
    "\n",
    "sns.countplot(data=data, y=data.País, ax=ax[0])\n",
    "ax[0].set_title('Pais')\n",
    "sns.countplot(data=data, x=data.Sale_month, ax=ax[1])\n",
    "ax[1].set_title('ventas por mes')\n",
    "sns.countplot(data=data, x=data.Sale_year, ax=ax[2])\n",
    "ax[2].set_title('Sale_year')\n",
    "sns.countplot(data=data, x=data.year_month_sale, ax=ax[3])\n",
    "ax[3].set_title('year_month_sale')\n",
    "sns.countplot(data=data, x=data.Sale_month, ax=ax[1])\n",
    "ax[1].set_title('ventas por mes')"
   ]
  },
  {
   "cell_type": "markdown",
   "id": "ca41b05d",
   "metadata": {},
   "source": [
    "## se agruparan los apises por continente para su mejor apreciasion"
   ]
  },
  {
   "cell_type": "code",
   "execution_count": 47,
   "id": "461160c8",
   "metadata": {},
   "outputs": [
    {
     "data": {
      "text/plain": [
       "9"
      ]
     },
     "execution_count": 47,
     "metadata": {},
     "output_type": "execute_result"
    }
   ],
   "source": [
    "(data.shape[1])"
   ]
  },
  {
   "cell_type": "code",
   "execution_count": 48,
   "id": "c42e52d2",
   "metadata": {},
   "outputs": [
    {
     "data": {
      "text/html": [
       "<div>\n",
       "<style scoped>\n",
       "    .dataframe tbody tr th:only-of-type {\n",
       "        vertical-align: middle;\n",
       "    }\n",
       "\n",
       "    .dataframe tbody tr th {\n",
       "        vertical-align: top;\n",
       "    }\n",
       "\n",
       "    .dataframe thead th {\n",
       "        text-align: right;\n",
       "    }\n",
       "</style>\n",
       "<table border=\"1\" class=\"dataframe\">\n",
       "  <thead>\n",
       "    <tr style=\"text-align: right;\">\n",
       "      <th></th>\n",
       "      <th>N° de factura</th>\n",
       "      <th>ID Cliente</th>\n",
       "      <th>País</th>\n",
       "      <th>Cantidad</th>\n",
       "      <th>New monto</th>\n",
       "      <th>fecha_datetime</th>\n",
       "      <th>Sale_month</th>\n",
       "      <th>Sale_year</th>\n",
       "      <th>year_month_sale</th>\n",
       "    </tr>\n",
       "  </thead>\n",
       "  <tbody>\n",
       "    <tr>\n",
       "      <th>0</th>\n",
       "      <td>548370</td>\n",
       "      <td>15528.0</td>\n",
       "      <td>United Kingdom</td>\n",
       "      <td>123</td>\n",
       "      <td>229.33</td>\n",
       "      <td>2021-03-30 16:14:00</td>\n",
       "      <td>Marzo</td>\n",
       "      <td>2021</td>\n",
       "      <td>2021 03</td>\n",
       "    </tr>\n",
       "    <tr>\n",
       "      <th>1</th>\n",
       "      <td>575767</td>\n",
       "      <td>17348.0</td>\n",
       "      <td>United Kingdom</td>\n",
       "      <td>163</td>\n",
       "      <td>209.73</td>\n",
       "      <td>2021-11-11 11:11:00</td>\n",
       "      <td>Noviembre</td>\n",
       "      <td>2021</td>\n",
       "      <td>2021 11</td>\n",
       "    </tr>\n",
       "    <tr>\n",
       "      <th>3</th>\n",
       "      <td>549106</td>\n",
       "      <td>17045.0</td>\n",
       "      <td>United Kingdom</td>\n",
       "      <td>1</td>\n",
       "      <td>39.95</td>\n",
       "      <td>2021-04-06 12:08:00</td>\n",
       "      <td>Abril</td>\n",
       "      <td>2021</td>\n",
       "      <td>2021 04</td>\n",
       "    </tr>\n",
       "    <tr>\n",
       "      <th>4</th>\n",
       "      <td>573112</td>\n",
       "      <td>16416.0</td>\n",
       "      <td>United Kingdom</td>\n",
       "      <td>357</td>\n",
       "      <td>344.83</td>\n",
       "      <td>2021-10-27 15:33:00</td>\n",
       "      <td>Octubre</td>\n",
       "      <td>2021</td>\n",
       "      <td>2021 10</td>\n",
       "    </tr>\n",
       "    <tr>\n",
       "      <th>5</th>\n",
       "      <td>576630</td>\n",
       "      <td>13816.0</td>\n",
       "      <td>Germany</td>\n",
       "      <td>91</td>\n",
       "      <td>199.98</td>\n",
       "      <td>2021-11-16 08:38:00</td>\n",
       "      <td>Noviembre</td>\n",
       "      <td>2021</td>\n",
       "      <td>2021 11</td>\n",
       "    </tr>\n",
       "  </tbody>\n",
       "</table>\n",
       "</div>"
      ],
      "text/plain": [
       "  N° de factura  ID Cliente            País  Cantidad  New monto  \\\n",
       "0        548370     15528.0  United Kingdom       123     229.33   \n",
       "1        575767     17348.0  United Kingdom       163     209.73   \n",
       "3        549106     17045.0  United Kingdom         1      39.95   \n",
       "4        573112     16416.0  United Kingdom       357     344.83   \n",
       "5        576630     13816.0         Germany        91     199.98   \n",
       "\n",
       "       fecha_datetime Sale_month  Sale_year year_month_sale  \n",
       "0 2021-03-30 16:14:00      Marzo       2021         2021 03  \n",
       "1 2021-11-11 11:11:00  Noviembre       2021         2021 11  \n",
       "3 2021-04-06 12:08:00      Abril       2021         2021 04  \n",
       "4 2021-10-27 15:33:00    Octubre       2021         2021 10  \n",
       "5 2021-11-16 08:38:00  Noviembre       2021         2021 11  "
      ]
     },
     "execution_count": 48,
     "metadata": {},
     "output_type": "execute_result"
    }
   ],
   "source": [
    "data.head()"
   ]
  },
  {
   "cell_type": "code",
   "execution_count": 49,
   "id": "6b3bcaaf",
   "metadata": {},
   "outputs": [
    {
     "name": "stdout",
     "output_type": "stream",
     "text": [
      "Counter({'United Kingdom': 16676, 'Germany': 457, 'France': 390, 'EIRE': 261, 'Belgium': 98, 'Netherlands': 95, 'Spain': 90, 'Portugal': 57, 'Australia': 57, 'Switzerland': 51, 'Finland': 41, 'Italy': 38, 'Sweden': 36, 'Norway': 36, 'Channel Islands': 26, 'Japan': 20, 'Poland': 19, 'Denmark': 18, 'Austria': 17, 'Cyprus': 16, 'Unspecified': 8, 'Singapore': 7, 'Iceland': 7, 'Canada': 6, 'Israel': 5, 'USA': 5, 'Malta': 5, 'Greece': 5, 'Lithuania': 4, 'European Community': 4, 'United Arab Emirates': 3, 'Czech Republic': 2, 'Bahrain': 2, 'Lebanon': 1, 'Brazil': 1, 'RSA': 1, 'Saudi Arabia': 1})\n"
     ]
    }
   ],
   "source": [
    "## crear un diccionario para facilitar la visualizacion de los diferentes paises\n",
    "## importo las librerias correspondientes\n",
    "import collections\n",
    "paises = np.array(data.País)\n",
    "diccionario_count = collections.Counter(paises)\n",
    "print(diccionario_count)"
   ]
  },
  {
   "cell_type": "code",
   "execution_count": 83,
   "id": "73305d2f",
   "metadata": {},
   "outputs": [],
   "source": [
    "# creare una lista con los paises encapsulados por continente\n",
    "europa = ['United Kingdom','Germany','France','EIRE','Belgium', 'Netherlands', 'Spain', 'Portugal', 'Australia', 'Switzerland', 'Finland', 'Italy', 'Sweden', 'Norway', 'Channel Islands', 'Poland', 'Denmark', 'Austria', 'Cyprus', 'Iceland', 'Malta', 'Greece', 'Lithuania', 'European Community','Czech Republic']\n",
    "asia = ['Japan','Singapore']\n",
    "medio_oriente = ['Israel','United Arab Emirates', 'Bahrain', 'Lebanon','Saudi Arabia']\n",
    "america = ['Canada', 'USA', 'Brazil']\n",
    "africa = ['RSA']"
   ]
  },
  {
   "cell_type": "code",
   "execution_count": 84,
   "id": "9b4d910b",
   "metadata": {},
   "outputs": [
    {
     "name": "stdout",
     "output_type": "stream",
     "text": [
      "36\n"
     ]
    }
   ],
   "source": [
    "# tengo 37 paises \n",
    "suma = (len(europa) + len(asia) + len(medio_oriente) + len(america) + len(africa))\n",
    "print(suma)"
   ]
  },
  {
   "cell_type": "code",
   "execution_count": 85,
   "id": "d9eb1280",
   "metadata": {},
   "outputs": [
    {
     "name": "stdout",
     "output_type": "stream",
     "text": [
      "18566\n"
     ]
    }
   ],
   "source": [
    "## creare una lista que almacenara el continente del pais correspondiente\n",
    "paises = np.array(data.País)\n",
    "sale_continente = []\n",
    "\n",
    "# creare un ciclo enel cual diferentes condicines le asignaran el valor del continente dependiedo del valor que\n",
    "## tenga el iterador\n",
    "\n",
    "for i in paises:\n",
    "\n",
    "    if i in europa:\n",
    "        sale_continente.append('Europa')\n",
    "        \n",
    "    elif i in asia:\n",
    "        sale_continente.append('Asia')\n",
    "        \n",
    "    elif i in america:\n",
    "        sale_continente.append('America')\n",
    "        \n",
    "    elif i in africa:\n",
    "        sale_continente.append('Africa')\n",
    "        \n",
    "    elif i in medio_oriente:\n",
    "        sale_continente.append('Medio oriente')\n",
    "    \n",
    "    else:\n",
    "        sale_continente.append(np.nan)\n",
    "\n",
    "print(len(sale_continente))"
   ]
  },
  {
   "cell_type": "code",
   "execution_count": 86,
   "id": "390a7bcb",
   "metadata": {},
   "outputs": [
    {
     "name": "stdout",
     "output_type": "stream",
     "text": [
      "Counter({'Europa': 18506, 'Asia': 27, 'Medio oriente': 12, 'America': 12, nan: 8, 'Africa': 1})\n"
     ]
    }
   ],
   "source": [
    "import collections\n",
    "\n",
    "diccionario_count = collections.Counter(sale_continente)\n",
    "print(diccionario_count)"
   ]
  },
  {
   "cell_type": "markdown",
   "id": "525b1226",
   "metadata": {},
   "source": [
    "# MUY BIENNNNN LO LOGRASTEEEEEE\n",
    "jader mi muchachonnn"
   ]
  },
  {
   "cell_type": "code",
   "execution_count": 87,
   "id": "419d0ac0",
   "metadata": {},
   "outputs": [],
   "source": [
    "data['sale_continente']= sale_continente"
   ]
  },
  {
   "cell_type": "code",
   "execution_count": 88,
   "id": "3069521e",
   "metadata": {},
   "outputs": [
    {
     "data": {
      "text/html": [
       "<div>\n",
       "<style scoped>\n",
       "    .dataframe tbody tr th:only-of-type {\n",
       "        vertical-align: middle;\n",
       "    }\n",
       "\n",
       "    .dataframe tbody tr th {\n",
       "        vertical-align: top;\n",
       "    }\n",
       "\n",
       "    .dataframe thead th {\n",
       "        text-align: right;\n",
       "    }\n",
       "</style>\n",
       "<table border=\"1\" class=\"dataframe\">\n",
       "  <thead>\n",
       "    <tr style=\"text-align: right;\">\n",
       "      <th></th>\n",
       "      <th>N° de factura</th>\n",
       "      <th>ID Cliente</th>\n",
       "      <th>País</th>\n",
       "      <th>Cantidad</th>\n",
       "      <th>New monto</th>\n",
       "      <th>fecha_datetime</th>\n",
       "      <th>Sale_month</th>\n",
       "      <th>Sale_year</th>\n",
       "      <th>year_month_sale</th>\n",
       "      <th>sale_continente</th>\n",
       "    </tr>\n",
       "  </thead>\n",
       "  <tbody>\n",
       "    <tr>\n",
       "      <th>0</th>\n",
       "      <td>548370</td>\n",
       "      <td>15528.0</td>\n",
       "      <td>United Kingdom</td>\n",
       "      <td>123</td>\n",
       "      <td>229.33</td>\n",
       "      <td>2021-03-30 16:14:00</td>\n",
       "      <td>Marzo</td>\n",
       "      <td>2021</td>\n",
       "      <td>2021 03</td>\n",
       "      <td>Europa</td>\n",
       "    </tr>\n",
       "    <tr>\n",
       "      <th>1</th>\n",
       "      <td>575767</td>\n",
       "      <td>17348.0</td>\n",
       "      <td>United Kingdom</td>\n",
       "      <td>163</td>\n",
       "      <td>209.73</td>\n",
       "      <td>2021-11-11 11:11:00</td>\n",
       "      <td>Noviembre</td>\n",
       "      <td>2021</td>\n",
       "      <td>2021 11</td>\n",
       "      <td>Europa</td>\n",
       "    </tr>\n",
       "    <tr>\n",
       "      <th>3</th>\n",
       "      <td>549106</td>\n",
       "      <td>17045.0</td>\n",
       "      <td>United Kingdom</td>\n",
       "      <td>1</td>\n",
       "      <td>39.95</td>\n",
       "      <td>2021-04-06 12:08:00</td>\n",
       "      <td>Abril</td>\n",
       "      <td>2021</td>\n",
       "      <td>2021 04</td>\n",
       "      <td>Europa</td>\n",
       "    </tr>\n",
       "    <tr>\n",
       "      <th>4</th>\n",
       "      <td>573112</td>\n",
       "      <td>16416.0</td>\n",
       "      <td>United Kingdom</td>\n",
       "      <td>357</td>\n",
       "      <td>344.83</td>\n",
       "      <td>2021-10-27 15:33:00</td>\n",
       "      <td>Octubre</td>\n",
       "      <td>2021</td>\n",
       "      <td>2021 10</td>\n",
       "      <td>Europa</td>\n",
       "    </tr>\n",
       "  </tbody>\n",
       "</table>\n",
       "</div>"
      ],
      "text/plain": [
       "  N° de factura  ID Cliente            País  Cantidad  New monto  \\\n",
       "0        548370     15528.0  United Kingdom       123     229.33   \n",
       "1        575767     17348.0  United Kingdom       163     209.73   \n",
       "3        549106     17045.0  United Kingdom         1      39.95   \n",
       "4        573112     16416.0  United Kingdom       357     344.83   \n",
       "\n",
       "       fecha_datetime Sale_month  Sale_year year_month_sale sale_continente  \n",
       "0 2021-03-30 16:14:00      Marzo       2021         2021 03          Europa  \n",
       "1 2021-11-11 11:11:00  Noviembre       2021         2021 11          Europa  \n",
       "3 2021-04-06 12:08:00      Abril       2021         2021 04          Europa  \n",
       "4 2021-10-27 15:33:00    Octubre       2021         2021 10          Europa  "
      ]
     },
     "execution_count": 88,
     "metadata": {},
     "output_type": "execute_result"
    }
   ],
   "source": [
    "data.head(4)"
   ]
  },
  {
   "cell_type": "code",
   "execution_count": 90,
   "id": "a210c068",
   "metadata": {},
   "outputs": [
    {
     "data": {
      "text/plain": [
       "<function matplotlib.pyplot.show(close=None, block=None)>"
      ]
     },
     "execution_count": 90,
     "metadata": {},
     "output_type": "execute_result"
    },
    {
     "data": {
      "image/png": "[encoded data removed]",
      "text/plain": [
       "<Figure size 432x288 with 1 Axes>"
      ]
     },
     "metadata": {
      "needs_background": "light"
     },
     "output_type": "display_data"
    }
   ],
   "source": [
    "sns.countplot(data=data, x='sale_continente')\n",
    "plt.show"
   ]
  },
  {
   "cell_type": "code",
   "execution_count": null,
   "id": "a5e5a704",
   "metadata": {},
   "outputs": [],
   "source": []
  }
 ],
 "metadata": {
  "kernelspec": {
   "display_name": "Python 3 (ipykernel)",
   "language": "python",
   "name": "python3"
  },
  "language_info": {
   "codemirror_mode": {
    "name": "ipython",
    "version": 3
   },
   "file_extension": ".py",
   "mimetype": "text/x-python",
   "name": "python",
   "nbconvert_exporter": "python",
   "pygments_lexer": "ipython3",
   "version": "3.9.12"
  }
 },
 "nbformat": 4,
 "nbformat_minor": 5
}
