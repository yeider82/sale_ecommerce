{
 "cells": [
  {
   "cell_type": "code",
   "execution_count": null,
   "id": "908af60e",
   "metadata": {},
   "outputs": [],
   "source": []
  },
  {
   "cell_type": "code",
   "execution_count": null,
   "id": "c9994b16",
   "metadata": {},
   "outputs": [],
   "source": []
  },
  {
   "cell_type": "code",
   "execution_count": null,
   "id": "5c2e6f09",
   "metadata": {},
   "outputs": [],
   "source": []
  },
  {
   "cell_type": "code",
   "execution_count": null,
   "id": "97596300",
   "metadata": {},
   "outputs": [],
   "source": []
  },
  {
   "cell_type": "code",
   "execution_count": null,
   "id": "1a857a06",
   "metadata": {},
   "outputs": [],
   "source": []
  },
  {
   "cell_type": "markdown",
   "id": "43f7a7c5",
   "metadata": {},
   "source": [
    "\n",
    "\n"
   ]
  },
  {
   "cell_type": "code",
   "execution_count": 52,
   "id": "2cbbd3be",
   "metadata": {},
   "outputs": [],
   "source": [
    "import pandas as pd \n",
    "import numpy as np\n",
    "import matplotlib.pyplot as plt\n",
    "import seaborn as sns\n",
    "from datetime import datetime"
   ]
  },
  {
   "cell_type": "code",
   "execution_count": 53,
   "id": "ee74df33",
   "metadata": {},
   "outputs": [],
   "source": [
    "original_data = pd.read_csv('./archive(1)/ventas-por-factura.csv')\n",
    "## buena practica crear una copia del dataframe a utilizar\n",
    "data = original_data.copy()"
   ]
  },
  {
   "cell_type": "markdown",
   "id": "f176b307",
   "metadata": {},
   "source": [
    "# Limpieza de datos\n",
    "## 1) Tratamiento general\n",
    "## 1.1) vistazo de los datos que tenemos"
   ]
  },
  {
   "cell_type": "code",
   "execution_count": 54,
   "id": "1e9db8b1",
   "metadata": {},
   "outputs": [
    {
     "data": {
      "text/html": [
       "<div>\n",
       "<style scoped>\n",
       "    .dataframe tbody tr th:only-of-type {\n",
       "        vertical-align: middle;\n",
       "    }\n",
       "\n",
       "    .dataframe tbody tr th {\n",
       "        vertical-align: top;\n",
       "    }\n",
       "\n",
       "    .dataframe thead th {\n",
       "        text-align: right;\n",
       "    }\n",
       "</style>\n",
       "<table border=\"1\" class=\"dataframe\">\n",
       "  <thead>\n",
       "    <tr style=\"text-align: right;\">\n",
       "      <th></th>\n",
       "      <th>N° de factura</th>\n",
       "      <th>Fecha de factura</th>\n",
       "      <th>ID Cliente</th>\n",
       "      <th>País</th>\n",
       "      <th>Cantidad</th>\n",
       "      <th>Monto</th>\n",
       "    </tr>\n",
       "  </thead>\n",
       "  <tbody>\n",
       "    <tr>\n",
       "      <th>0</th>\n",
       "      <td>548370</td>\n",
       "      <td>3/30/2021 16:14:00</td>\n",
       "      <td>15528.0</td>\n",
       "      <td>United Kingdom</td>\n",
       "      <td>123</td>\n",
       "      <td>229,33</td>\n",
       "    </tr>\n",
       "    <tr>\n",
       "      <th>1</th>\n",
       "      <td>575767</td>\n",
       "      <td>11/11/2021 11:11:00</td>\n",
       "      <td>17348.0</td>\n",
       "      <td>United Kingdom</td>\n",
       "      <td>163</td>\n",
       "      <td>209,73</td>\n",
       "    </tr>\n",
       "    <tr>\n",
       "      <th>2</th>\n",
       "      <td>C570727</td>\n",
       "      <td>10/12/2021 11:32:00</td>\n",
       "      <td>12471.0</td>\n",
       "      <td>Germany</td>\n",
       "      <td>-1</td>\n",
       "      <td>-1,45</td>\n",
       "    </tr>\n",
       "  </tbody>\n",
       "</table>\n",
       "</div>"
      ],
      "text/plain": [
       "  N° de factura     Fecha de factura  ID Cliente            País  Cantidad  \\\n",
       "0        548370   3/30/2021 16:14:00     15528.0  United Kingdom       123   \n",
       "1        575767  11/11/2021 11:11:00     17348.0  United Kingdom       163   \n",
       "2       C570727  10/12/2021 11:32:00     12471.0         Germany        -1   \n",
       "\n",
       "    Monto  \n",
       "0  229,33  \n",
       "1  209,73  \n",
       "2   -1,45  "
      ]
     },
     "execution_count": 54,
     "metadata": {},
     "output_type": "execute_result"
    }
   ],
   "source": [
    "data.head(3)"
   ]
  },
  {
   "cell_type": "code",
   "execution_count": 55,
   "id": "7a68e020",
   "metadata": {},
   "outputs": [
    {
     "name": "stdout",
     "output_type": "stream",
     "text": [
      "<class 'pandas.core.frame.DataFrame'>\n",
      "RangeIndex: 25953 entries, 0 to 25952\n",
      "Data columns (total 6 columns):\n",
      " #   Column            Non-Null Count  Dtype  \n",
      "---  ------            --------------  -----  \n",
      " 0   N° de factura     25953 non-null  object \n",
      " 1   Fecha de factura  25953 non-null  object \n",
      " 2   ID Cliente        22229 non-null  float64\n",
      " 3   País              25953 non-null  object \n",
      " 4   Cantidad          25953 non-null  int64  \n",
      " 5   Monto             25953 non-null  object \n",
      "dtypes: float64(1), int64(1), object(4)\n",
      "memory usage: 1.2+ MB\n"
     ]
    }
   ],
   "source": [
    "data.info()"
   ]
  },
  {
   "cell_type": "markdown",
   "id": "16a8dd28",
   "metadata": {},
   "source": [
    "**Obsevaciones**\n",
    "- Existen 2 datos numericos\n",
    "- Existen 4 datos categoricos\n",
    "- El valor monto trae un tipo de dato incorrecto (str)\n",
    "- La mayor cantidad de datos esta en el valor 'ID cliente'\n",
    "- El valor fecha por ahora no es un tipo de dato trabajable"
   ]
  },
  {
   "cell_type": "markdown",
   "id": "b48409c3",
   "metadata": {},
   "source": [
    "## 1.2) Valores nulos\n",
    "- El equipo decidio que estos datos se eliminaran para no afectar una futura exploracion y trabajo de datos\n"
   ]
  },
  {
   "cell_type": "code",
   "execution_count": 56,
   "id": "f1eae9b7",
   "metadata": {},
   "outputs": [
    {
     "name": "stdout",
     "output_type": "stream",
     "text": [
      "tamaño del dataset antes de borrar datos nulos (25953, 6)\n",
      "tamaño del dataset despues de borrar datos nulos (22229, 6)\n",
      "tamaño del dataset antes de borrar datos repetidos (22229, 6)\n",
      "tamaño del dataset despues de borrar datos repetidos (22221, 6)\n"
     ]
    }
   ],
   "source": [
    "print(f'tamaño del dataset antes de borrar datos nulos {data.shape}')\n",
    "data.dropna(inplace=True)\n",
    "print(f'tamaño del dataset despues de borrar datos nulos {data.shape}')\n",
    "\n",
    "print(f'tamaño del dataset antes de borrar datos repetidos {data.shape}')\n",
    "data.drop_duplicates(inplace=True)\n",
    "print(f'tamaño del dataset despues de borrar datos repetidos {data.shape}')"
   ]
  },
  {
   "cell_type": "markdown",
   "id": "2cba591e",
   "metadata": {},
   "source": [
    "## 1.3) Valores repetidos\n",
    "- El equipo decidio que los datos repetidos pueden afectar una futura exploracion y trabajo de los datos"
   ]
  },
  {
   "cell_type": "code",
   "execution_count": 57,
   "id": "601baf84",
   "metadata": {},
   "outputs": [
    {
     "name": "stdout",
     "output_type": "stream",
     "text": [
      "Tamaño del dataset antes de borrar los valores repetidos (22221, 6)\n",
      "Tamaño del dataset despues de borrar los valores repetidos (22221, 6)\n"
     ]
    }
   ],
   "source": [
    "print(f'Tamaño del dataset antes de borrar los valores repetidos {data.shape}')\n",
    "data.drop_duplicates(inplace=True)\n",
    "print(f'Tamaño del dataset despues de borrar los valores repetidos {data.shape}')"
   ]
  },
  {
   "cell_type": "markdown",
   "id": "e8209986",
   "metadata": {},
   "source": [
    "## 1.4) Conversion de datos\n",
    "- se decidio cambiar el formato de valores tales como: **'Monto'** y **'Fecha de factura'** para facilitar la manipulacion y trabajo con estos valores\n",
    "\n",
    "### tratamiento de monto"
   ]
  },
  {
   "cell_type": "code",
   "execution_count": 58,
   "id": "01d9888c",
   "metadata": {},
   "outputs": [
    {
     "name": "stdout",
     "output_type": "stream",
     "text": [
      "<class 'str'>\n",
      "<class 'float'>\n",
      "-_-_-_-_-_-_-_-_-_-_-_-_-_-_-_-_-_-_-_-_-_-_-_-_-_-_-_-_-_-_-_-_-_-_-_-_-_-_-_-_\n",
      "<class 'pandas.core.frame.DataFrame'>\n",
      "Int64Index: 22221 entries, 0 to 25951\n",
      "Data columns (total 7 columns):\n",
      " #   Column            Non-Null Count  Dtype  \n",
      "---  ------            --------------  -----  \n",
      " 0   N° de factura     22221 non-null  object \n",
      " 1   Fecha de factura  22221 non-null  object \n",
      " 2   ID Cliente        22221 non-null  float64\n",
      " 3   País              22221 non-null  object \n",
      " 4   Cantidad          22221 non-null  int64  \n",
      " 5   Monto             22221 non-null  object \n",
      " 6   Monto_float       22221 non-null  float64\n",
      "dtypes: float64(2), int64(1), object(4)\n",
      "memory usage: 1.4+ MB\n"
     ]
    }
   ],
   "source": [
    "## 1) creare una lista que guarde los nuevos datos numericos cambiado su formato de string cambiando ',' ṕor '.'\n",
    "str_monto = [i.replace(',','.') for i in data['Monto']]\n",
    "## veo el valor que tienen los datos de esta lista\n",
    "print(type(str_monto[10]))\n",
    "\n",
    "## 2) creare una lista que guardara los datos en formato float\n",
    "float_monto = [float(i) for i in str_monto]\n",
    "## veo el valor que tienen los datos de esta lista\n",
    "print(type(float_monto[10]))\n",
    "\n",
    "## 3) Agragare esta lista al set de datos\n",
    "data['Monto_float'] = float_monto\n",
    "## veo que se halla agregado la nueva columna y que tengqa el formato deseado\n",
    "print('-_-_'*20)\n",
    "data.info()"
   ]
  },
  {
   "cell_type": "markdown",
   "id": "1f5ea85a",
   "metadata": {},
   "source": [
    "### Tratamiento de Fecha de factura"
   ]
  },
  {
   "cell_type": "code",
   "execution_count": 59,
   "id": "639db8df",
   "metadata": {},
   "outputs": [
    {
     "name": "stdout",
     "output_type": "stream",
     "text": [
      "<class 'datetime.datetime'>\n"
     ]
    }
   ],
   "source": [
    "## 1) se creara una funcion que resiva los valores de fecha y los convierta en valores datatime para su manipulacion\n",
    "str_fecha = data['Fecha de factura']\n",
    "\n",
    "# funcion que recive una lista en donde el iterardo agarrara el formato de fecha y lo cambiara agragandolo en una \n",
    "# lista la cual el es retornada por la funcion\n",
    "def convertir_fecha(lista):\n",
    "    \n",
    "    fecha_convertida = []\n",
    "    \n",
    "    for i in lista:\n",
    "        x = datetime.strptime(i , '%m/%d/%Y %H:%M:%S')\n",
    "        fecha_convertida.append(x)\n",
    "        \n",
    "    return(fecha_convertida)\n",
    "\n",
    "fecha = convertir_fecha(str_fecha)\n",
    "\n",
    "print(type(fecha[0]))\n",
    "\n",
    "# se agragara la lista al dataframe\n",
    "data['Fecha'] = fecha"
   ]
  },
  {
   "cell_type": "code",
   "execution_count": 60,
   "id": "7534f5d8",
   "metadata": {},
   "outputs": [
    {
     "name": "stdout",
     "output_type": "stream",
     "text": [
      "<class 'pandas.core.frame.DataFrame'>\n",
      "Int64Index: 22221 entries, 0 to 25951\n",
      "Data columns (total 8 columns):\n",
      " #   Column            Non-Null Count  Dtype         \n",
      "---  ------            --------------  -----         \n",
      " 0   N° de factura     22221 non-null  object        \n",
      " 1   Fecha de factura  22221 non-null  object        \n",
      " 2   ID Cliente        22221 non-null  float64       \n",
      " 3   País              22221 non-null  object        \n",
      " 4   Cantidad          22221 non-null  int64         \n",
      " 5   Monto             22221 non-null  object        \n",
      " 6   Monto_float       22221 non-null  float64       \n",
      " 7   Fecha             22221 non-null  datetime64[ns]\n",
      "dtypes: datetime64[ns](1), float64(2), int64(1), object(4)\n",
      "memory usage: 1.5+ MB\n"
     ]
    }
   ],
   "source": [
    "data.info()"
   ]
  },
  {
   "cell_type": "code",
   "execution_count": 61,
   "id": "2b1dc036",
   "metadata": {},
   "outputs": [
    {
     "data": {
      "text/plain": [
       "(22221, 8)"
      ]
     },
     "execution_count": 61,
     "metadata": {},
     "output_type": "execute_result"
    }
   ],
   "source": [
    "data.shape"
   ]
  },
  {
   "cell_type": "markdown",
   "id": "b3442bc6",
   "metadata": {},
   "source": [
    "**Observaciones** \n",
    "- la cantidad de columnas valores a aunmentado de 6 a 8\n",
    "- con las nuevas columnas agragadas otras han pasado a ser columnas irrelevantes o que contienen informacion repetida\n",
    "\n",
    "#### se eliminaran las columnas Monto y Fecha de factura"
   ]
  },
  {
   "cell_type": "code",
   "execution_count": 62,
   "id": "b3907b85",
   "metadata": {},
   "outputs": [
    {
     "name": "stdout",
     "output_type": "stream",
     "text": [
      "Antes de borrar la columna monto (22221, 8)\n",
      "Despues de borrar la columna monto (22221, 7)\n"
     ]
    }
   ],
   "source": [
    "## eliminacion de la columna monto\n",
    "print(f'Antes de borrar la columna monto {data.shape}')\n",
    "data.drop('Monto', axis=1, inplace=True)\n",
    "print(f'Despues de borrar la columna monto {data.shape}')\n"
   ]
  },
  {
   "cell_type": "code",
   "execution_count": 63,
   "id": "67aaadb0",
   "metadata": {},
   "outputs": [
    {
     "name": "stdout",
     "output_type": "stream",
     "text": [
      "Antes de borrar la columna Fecha de factura (22221, 7)\n",
      "Despues de borrar la columna Fecha de factura (22221, 6)\n"
     ]
    }
   ],
   "source": [
    "## Eliminacion de la columna Fecha de factura\n",
    "print(f'Antes de borrar la columna Fecha de factura {data.shape}')\n",
    "data.drop('Fecha de factura', axis=1, inplace=True)\n",
    "print(f'Despues de borrar la columna Fecha de factura {data.shape}')"
   ]
  },
  {
   "cell_type": "code",
   "execution_count": 64,
   "id": "07f50a3b",
   "metadata": {},
   "outputs": [
    {
     "name": "stdout",
     "output_type": "stream",
     "text": [
      "<class 'pandas.core.frame.DataFrame'>\n",
      "Int64Index: 22221 entries, 0 to 25951\n",
      "Data columns (total 6 columns):\n",
      " #   Column         Non-Null Count  Dtype         \n",
      "---  ------         --------------  -----         \n",
      " 0   N° de factura  22221 non-null  object        \n",
      " 1   ID Cliente     22221 non-null  float64       \n",
      " 2   País           22221 non-null  object        \n",
      " 3   Cantidad       22221 non-null  int64         \n",
      " 4   Monto_float    22221 non-null  float64       \n",
      " 5   Fecha          22221 non-null  datetime64[ns]\n",
      "dtypes: datetime64[ns](1), float64(2), int64(1), object(2)\n",
      "memory usage: 1.2+ MB\n"
     ]
    }
   ],
   "source": [
    "## obsevo como quedan los datos\n",
    "data.info()"
   ]
  },
  {
   "cell_type": "markdown",
   "id": "bf5a765f",
   "metadata": {},
   "source": [
    "# 2) Datos numericos"
   ]
  },
  {
   "cell_type": "code",
   "execution_count": 65,
   "id": "407d892f",
   "metadata": {},
   "outputs": [
    {
     "data": {
      "text/html": [
       "<div>\n",
       "<style scoped>\n",
       "    .dataframe tbody tr th:only-of-type {\n",
       "        vertical-align: middle;\n",
       "    }\n",
       "\n",
       "    .dataframe tbody tr th {\n",
       "        vertical-align: top;\n",
       "    }\n",
       "\n",
       "    .dataframe thead th {\n",
       "        text-align: right;\n",
       "    }\n",
       "</style>\n",
       "<table border=\"1\" class=\"dataframe\">\n",
       "  <thead>\n",
       "    <tr style=\"text-align: right;\">\n",
       "      <th></th>\n",
       "      <th>ID Cliente</th>\n",
       "      <th>Cantidad</th>\n",
       "      <th>Monto_float</th>\n",
       "    </tr>\n",
       "  </thead>\n",
       "  <tbody>\n",
       "    <tr>\n",
       "      <th>count</th>\n",
       "      <td>22221.000000</td>\n",
       "      <td>22221.000000</td>\n",
       "      <td>22221.000000</td>\n",
       "    </tr>\n",
       "    <tr>\n",
       "      <th>mean</th>\n",
       "      <td>15238.398317</td>\n",
       "      <td>220.822105</td>\n",
       "      <td>373.523505</td>\n",
       "    </tr>\n",
       "    <tr>\n",
       "      <th>std</th>\n",
       "      <td>1732.987098</td>\n",
       "      <td>1169.306198</td>\n",
       "      <td>2016.999501</td>\n",
       "    </tr>\n",
       "    <tr>\n",
       "      <th>min</th>\n",
       "      <td>12346.000000</td>\n",
       "      <td>-80995.000000</td>\n",
       "      <td>-168469.600000</td>\n",
       "    </tr>\n",
       "    <tr>\n",
       "      <th>25%</th>\n",
       "      <td>13755.000000</td>\n",
       "      <td>30.000000</td>\n",
       "      <td>87.440000</td>\n",
       "    </tr>\n",
       "    <tr>\n",
       "      <th>50%</th>\n",
       "      <td>15136.000000</td>\n",
       "      <td>120.000000</td>\n",
       "      <td>240.680000</td>\n",
       "    </tr>\n",
       "    <tr>\n",
       "      <th>75%</th>\n",
       "      <td>16746.000000</td>\n",
       "      <td>254.000000</td>\n",
       "      <td>417.620000</td>\n",
       "    </tr>\n",
       "    <tr>\n",
       "      <th>max</th>\n",
       "      <td>18287.000000</td>\n",
       "      <td>80995.000000</td>\n",
       "      <td>168469.600000</td>\n",
       "    </tr>\n",
       "  </tbody>\n",
       "</table>\n",
       "</div>"
      ],
      "text/plain": [
       "         ID Cliente      Cantidad    Monto_float\n",
       "count  22221.000000  22221.000000   22221.000000\n",
       "mean   15238.398317    220.822105     373.523505\n",
       "std     1732.987098   1169.306198    2016.999501\n",
       "min    12346.000000 -80995.000000 -168469.600000\n",
       "25%    13755.000000     30.000000      87.440000\n",
       "50%    15136.000000    120.000000     240.680000\n",
       "75%    16746.000000    254.000000     417.620000\n",
       "max    18287.000000  80995.000000  168469.600000"
      ]
     },
     "execution_count": 65,
     "metadata": {},
     "output_type": "execute_result"
    }
   ],
   "source": [
    "data.describe()"
   ]
  },
  {
   "cell_type": "markdown",
   "id": "f2a3886a",
   "metadata": {},
   "source": [
    "## 2.1 Distribucion de datos numericos"
   ]
  },
  {
   "cell_type": "code",
   "execution_count": 66,
   "id": "1c682a19",
   "metadata": {},
   "outputs": [
    {
     "data": {
      "image/png": "[encoded data removed]",
      "text/plain": [
       "<Figure size 720x1440 with 3 Axes>"
      ]
     },
     "metadata": {
      "needs_background": "light"
     },
     "output_type": "display_data"
    }
   ],
   "source": [
    "\n",
    "## vere como se comportan los datos en un boxplot\n",
    "valores_numericos = ['ID Cliente', 'Cantidad', 'Monto_float']\n",
    "\n",
    "fig, ax = plt.subplots(nrows=len(valores_numericos), ncols=1, figsize = (10,20))\n",
    "fig.subplots_adjust(hspace=0.3)\n",
    "\n",
    "for i, col in enumerate(valores_numericos):\n",
    "    sns.boxplot(data=data, x=col, ax=ax[i])\n",
    "    ax[i].set_title(col)"
   ]
  },
  {
   "cell_type": "markdown",
   "id": "31deb6a3",
   "metadata": {},
   "source": [
    "**Observaciones**\n",
    "- Hay presencia de valores negativso en el monto y la cantidad\n",
    "## 2.2) Manejo de valores negativos"
   ]
  },
  {
   "cell_type": "code",
   "execution_count": 67,
   "id": "4006f9e1",
   "metadata": {},
   "outputs": [
    {
     "name": "stdout",
     "output_type": "stream",
     "text": [
      "Cantidad de datos antes de borrar los valores negativos en monto_float: (22221, 6)\n",
      "Cantidad de datos despues de borrar los valores negativos en monto_float: (18562, 6)\n"
     ]
    }
   ],
   "source": [
    "## se eliminaran los valores negativos\n",
    "print(f'Cantidad de datos antes de borrar los valores negativos en monto_float: {data.shape}')\n",
    "data = data[data['Monto_float'] > 0]\n",
    "print(f'Cantidad de datos despues de borrar los valores negativos en monto_float: {data.shape}')"
   ]
  },
  {
   "cell_type": "code",
   "execution_count": 68,
   "id": "927c3582",
   "metadata": {},
   "outputs": [
    {
     "name": "stdout",
     "output_type": "stream",
     "text": [
      "Cantidad de datos antes de borrar los valores negativos en Cantidad: (18562, 6)\n",
      "Cantidad de datos despues de borrar los valores negativos en Cantidad: (18562, 6)\n"
     ]
    }
   ],
   "source": [
    "print(f'Cantidad de datos antes de borrar los valores negativos en Cantidad: {data.shape}')\n",
    "data = data[data['Cantidad'] > 0]\n",
    "print(f'Cantidad de datos despues de borrar los valores negativos en Cantidad: {data.shape}')"
   ]
  },
  {
   "cell_type": "markdown",
   "id": "e45f52d0",
   "metadata": {},
   "source": [
    "### Cantidad de datos"
   ]
  },
  {
   "cell_type": "code",
   "execution_count": 69,
   "id": "ba54a116",
   "metadata": {},
   "outputs": [
    {
     "data": {
      "text/plain": [
       "(18562, 6)"
      ]
     },
     "execution_count": 69,
     "metadata": {},
     "output_type": "execute_result"
    }
   ],
   "source": [
    "data.shape"
   ]
  },
  {
   "cell_type": "markdown",
   "id": "be085b74",
   "metadata": {},
   "source": [
    "# 3) Datos categoricos\n",
    "## 3.2) Que datos categoricos tengo "
   ]
  },
  {
   "cell_type": "code",
   "execution_count": 70,
   "id": "827d145e",
   "metadata": {},
   "outputs": [
    {
     "name": "stdout",
     "output_type": "stream",
     "text": [
      "<class 'pandas.core.frame.DataFrame'>\n",
      "Int64Index: 18562 entries, 0 to 25951\n",
      "Data columns (total 6 columns):\n",
      " #   Column         Non-Null Count  Dtype         \n",
      "---  ------         --------------  -----         \n",
      " 0   N° de factura  18562 non-null  object        \n",
      " 1   ID Cliente     18562 non-null  float64       \n",
      " 2   País           18562 non-null  object        \n",
      " 3   Cantidad       18562 non-null  int64         \n",
      " 4   Monto_float    18562 non-null  float64       \n",
      " 5   Fecha          18562 non-null  datetime64[ns]\n",
      "dtypes: datetime64[ns](1), float64(2), int64(1), object(2)\n",
      "memory usage: 1015.1+ KB\n"
     ]
    }
   ],
   "source": [
    "data.info()"
   ]
  },
  {
   "cell_type": "code",
   "execution_count": 71,
   "id": "cc9b3709",
   "metadata": {},
   "outputs": [
    {
     "name": "stdout",
     "output_type": "stream",
     "text": [
      "columna N° de factura: tiene 18532 subniveles\n",
      "columna Fecha: tiene 17282 subniveles\n",
      "columna País: tiene 37 subniveles\n"
     ]
    }
   ],
   "source": [
    "category_columns = ['N° de factura','Fecha','País']\n",
    "## ver los subniveles que tienen las variables categoricas\n",
    "for col in category_columns:\n",
    "    print(f'columna {col}: tiene {data[col].nunique()} subniveles')"
   ]
  },
  {
   "cell_type": "code",
   "execution_count": 72,
   "id": "5896fb0b",
   "metadata": {},
   "outputs": [
    {
     "data": {
      "text/plain": [
       "<AxesSubplot:xlabel='País', ylabel='count'>"
      ]
     },
     "execution_count": 72,
     "metadata": {},
     "output_type": "execute_result"
    },
    {
     "data": {
      "image/png": "[encoded data removed]",
      "text/plain": [
       "<Figure size 432x288 with 1 Axes>"
      ]
     },
     "metadata": {
      "needs_background": "light"
     },
     "output_type": "display_data"
    }
   ],
   "source": [
    "sns.countplot(data=data,x='País')"
   ]
  },
  {
   "cell_type": "code",
   "execution_count": 73,
   "id": "44c65a13",
   "metadata": {},
   "outputs": [
    {
     "name": "stdout",
     "output_type": "stream",
     "text": [
      "{'United Kingdom', 'Iceland', 'Greece', 'Israel', 'Canada', 'Unspecified', 'Austria', 'Channel Islands', 'Belgium', 'Poland', 'RSA', 'Portugal', 'Saudi Arabia', 'Czech Republic', 'Germany', 'Sweden', 'Norway', 'France', 'EIRE', 'Singapore', 'Spain', 'Cyprus', 'Japan', 'Finland', 'Netherlands', 'United Arab Emirates', 'Australia', 'Malta', 'Lithuania', 'European Community', 'Italy', 'Denmark', 'Lebanon', 'Brazil', 'Bahrain', 'USA', 'Switzerland'}\n",
      "37\n"
     ]
    }
   ],
   "source": [
    "## se veran que diferentes paises existen\n",
    "set_paises = set(data['País'])\n",
    "print(set_paises)\n",
    "print(len(set_paises))"
   ]
  },
  {
   "cell_type": "markdown",
   "id": "444a6222",
   "metadata": {},
   "source": [
    "**Observaciones**\n",
    "- No se observan errores de escritura que en los datos categoricos\n",
    "- los datos categoricos tiene demasiados subniveles, los cules interferirar con la visualizacion de estos\n",
    "- se obta por agrupar las fechas en meses / dias / años\n",
    "- se decide agrupar los paises por continentes\n",
    "- la columna facutura la dejaremos en remojo hasta decidir que hacer con ellas"
   ]
  },
  {
   "cell_type": "code",
   "execution_count": 74,
   "id": "3472705f",
   "metadata": {},
   "outputs": [
    {
     "name": "stdout",
     "output_type": "stream",
     "text": [
      "{'United Kingdom', 'Iceland', 'Greece', 'Israel', 'Canada', 'Unspecified', 'Austria', 'Channel Islands', 'Belgium', 'Poland', 'RSA', 'Portugal', 'Saudi Arabia', 'Czech Republic', 'Germany', 'Sweden', 'Norway', 'France', 'EIRE', 'Singapore', 'Spain', 'Cyprus', 'Japan', 'Finland', 'Netherlands', 'United Arab Emirates', 'Australia', 'Malta', 'Lithuania', 'European Community', 'Italy', 'Denmark', 'Lebanon', 'Brazil', 'Bahrain', 'USA', 'Switzerland'}\n",
      "37\n"
     ]
    }
   ],
   "source": [
    "## se veran que diferentes paises existen\n",
    "set_paises = set(data['País'])\n",
    "print(set_paises)\n",
    "print(len(set_paises))"
   ]
  },
  {
   "cell_type": "markdown",
   "id": "6083fe85",
   "metadata": {},
   "source": [
    "## 3.2) Agrupacion de datos categoricos"
   ]
  },
  {
   "cell_type": "code",
   "execution_count": 75,
   "id": "a05dfd3e",
   "metadata": {},
   "outputs": [],
   "source": [
    "## agruparemos los paises en continenete para facilitar su visualizacion\n",
    "\n",
    "# creare una lista con los paises encapsulados por continente\n",
    "europa = ['United Kingdom','Germany','France','EIRE','Belgium', 'Netherlands', 'Spain', 'Portugal', 'Australia', 'Switzerland', 'Finland', 'Italy', 'Sweden', 'Norway', 'Channel Islands', 'Poland', 'Denmark', 'Austria', 'Cyprus', 'Iceland', 'Malta', 'Greece', 'Lithuania', 'European Community','Czech Republic']\n",
    "asia = ['Japan','Singapore']\n",
    "medio_oriente = ['Israel','United Arab Emirates', 'Bahrain', 'Lebanon','Saudi Arabia']\n",
    "america = ['Canada', 'USA', 'Brazil']\n",
    "africa = ['RSA']"
   ]
  },
  {
   "cell_type": "code",
   "execution_count": 77,
   "id": "b1e0dfa5",
   "metadata": {},
   "outputs": [],
   "source": [
    "## creare una lista que almacenara el continente del pais correspondiente\n",
    "paises = np.array(data.País)\n",
    "sale_continente = []\n",
    "\n",
    "# creare un ciclo en el cual diferentes condiciones le asignaran el valor del continente dependiedo del valor que\n",
    "## tenga el iterador\n",
    "\n",
    "for i in paises:\n",
    "\n",
    "    if i in europa:\n",
    "        sale_continente.append('Europa')\n",
    "        \n",
    "    elif i in asia:\n",
    "        sale_continente.append('Asia')\n",
    "        \n",
    "    elif i in america:\n",
    "        sale_continente.append('America')\n",
    "        \n",
    "    elif i in africa:\n",
    "        sale_continente.append('Africa')\n",
    "        \n",
    "    elif i in medio_oriente:\n",
    "        sale_continente.append('Medio oriente')\n",
    "    \n",
    "    else:\n",
    "        sale_continente.append(np.nan)\n"
   ]
  },
  {
   "cell_type": "code",
   "execution_count": 78,
   "id": "aa6f15ab",
   "metadata": {},
   "outputs": [],
   "source": [
    "## se adjuntara en el dataframe el la nueva listas con paises\n",
    "data['Continente'] = sale_continente"
   ]
  },
  {
   "cell_type": "code",
   "execution_count": 79,
   "id": "bfbf728b",
   "metadata": {},
   "outputs": [
    {
     "name": "stdout",
     "output_type": "stream",
     "text": [
      "<class 'pandas.core.frame.DataFrame'>\n",
      "Int64Index: 18562 entries, 0 to 25951\n",
      "Data columns (total 7 columns):\n",
      " #   Column         Non-Null Count  Dtype         \n",
      "---  ------         --------------  -----         \n",
      " 0   N° de factura  18562 non-null  object        \n",
      " 1   ID Cliente     18562 non-null  float64       \n",
      " 2   País           18562 non-null  object        \n",
      " 3   Cantidad       18562 non-null  int64         \n",
      " 4   Monto_float    18562 non-null  float64       \n",
      " 5   Fecha          18562 non-null  datetime64[ns]\n",
      " 6   Continente     18554 non-null  object        \n",
      "dtypes: datetime64[ns](1), float64(2), int64(1), object(3)\n",
      "memory usage: 1.1+ MB\n"
     ]
    }
   ],
   "source": [
    "data.info()"
   ]
  },
  {
   "cell_type": "markdown",
   "id": "9f26a92d",
   "metadata": {},
   "source": [
    "## 3.3 creacion de la columna mes, dia y año"
   ]
  },
  {
   "cell_type": "code",
   "execution_count": 80,
   "id": "2c63bd51",
   "metadata": {},
   "outputs": [],
   "source": [
    "## columna venta por mes\n",
    "# tuppla con los diferentes meses\n",
    "all_months = (\"Enero\", \"Febrero\", \"Marzo\", \"Abril\", \"Mayo\", \"Junio\", \"Julio\", \"Agosto\", \"Septiembre\", \"Octubre\", \"Noviembre\", \"Diciembre\")\n",
    "\n",
    "# lista contodos los meses en formato numerico\n",
    "list_months = [i.month for i in data['Fecha']]\n",
    "\n",
    "## funcion que convierte los numeros en meses\n",
    "def convertidor_meses(lista):\n",
    "    \n",
    "    months = []\n",
    "    \n",
    "    for i in lista:\n",
    "        a = all_months[i-1]\n",
    "        months.append(a)\n",
    "        \n",
    "    return months\n",
    "\n",
    "months = convertidor_meses(list_months)\n",
    "\n",
    "data['sale_month'] = months"
   ]
  },
  {
   "cell_type": "code",
   "execution_count": 81,
   "id": "7deef62c",
   "metadata": {},
   "outputs": [
    {
     "name": "stdout",
     "output_type": "stream",
     "text": [
      "<class 'pandas.core.frame.DataFrame'>\n",
      "Int64Index: 18562 entries, 0 to 25951\n",
      "Data columns (total 8 columns):\n",
      " #   Column         Non-Null Count  Dtype         \n",
      "---  ------         --------------  -----         \n",
      " 0   N° de factura  18562 non-null  object        \n",
      " 1   ID Cliente     18562 non-null  float64       \n",
      " 2   País           18562 non-null  object        \n",
      " 3   Cantidad       18562 non-null  int64         \n",
      " 4   Monto_float    18562 non-null  float64       \n",
      " 5   Fecha          18562 non-null  datetime64[ns]\n",
      " 6   Continente     18554 non-null  object        \n",
      " 7   sale_month     18562 non-null  object        \n",
      "dtypes: datetime64[ns](1), float64(2), int64(1), object(4)\n",
      "memory usage: 1.3+ MB\n"
     ]
    }
   ],
   "source": [
    "data.info()"
   ]
  },
  {
   "cell_type": "code",
   "execution_count": 82,
   "id": "842aabaa",
   "metadata": {},
   "outputs": [],
   "source": [
    "## Columna venta por dia \n",
    "day_sale = [i.day for i in data['Fecha']]\n",
    "data['Day_sale'] = day_sale"
   ]
  },
  {
   "cell_type": "code",
   "execution_count": 83,
   "id": "50dc8162",
   "metadata": {},
   "outputs": [],
   "source": [
    "## columna venta por año \n",
    "year_sale = [i.year for i in data['Fecha']]\n",
    "data['Year_sale'] = year_sale"
   ]
  },
  {
   "cell_type": "code",
   "execution_count": 84,
   "id": "73a91669",
   "metadata": {},
   "outputs": [],
   "source": [
    "## columna venta mes_años\n",
    "\n",
    "year_month_sale = []\n",
    "for i in data['Fecha']:\n",
    "    a  = i.strftime('%Y %m')\n",
    "    year_month_sale.append(a)\n",
    "data['month_year'] = year_month_sale"
   ]
  },
  {
   "cell_type": "code",
   "execution_count": 85,
   "id": "2560f091",
   "metadata": {},
   "outputs": [
    {
     "name": "stdout",
     "output_type": "stream",
     "text": [
      "<class 'pandas.core.frame.DataFrame'>\n",
      "Int64Index: 18562 entries, 0 to 25951\n",
      "Data columns (total 11 columns):\n",
      " #   Column         Non-Null Count  Dtype         \n",
      "---  ------         --------------  -----         \n",
      " 0   N° de factura  18562 non-null  object        \n",
      " 1   ID Cliente     18562 non-null  float64       \n",
      " 2   País           18562 non-null  object        \n",
      " 3   Cantidad       18562 non-null  int64         \n",
      " 4   Monto_float    18562 non-null  float64       \n",
      " 5   Fecha          18562 non-null  datetime64[ns]\n",
      " 6   Continente     18554 non-null  object        \n",
      " 7   sale_month     18562 non-null  object        \n",
      " 8   Day_sale       18562 non-null  int64         \n",
      " 9   Year_sale      18562 non-null  int64         \n",
      " 10  month_year     18562 non-null  object        \n",
      "dtypes: datetime64[ns](1), float64(2), int64(3), object(5)\n",
      "memory usage: 1.7+ MB\n"
     ]
    }
   ],
   "source": [
    "data.info()"
   ]
  },
  {
   "cell_type": "markdown",
   "id": "06070c60",
   "metadata": {},
   "source": [
    "## 3.4) creacion de columna dentro de reino unido fuera de reino unido"
   ]
  },
  {
   "cell_type": "code",
   "execution_count": 86,
   "id": "b4b8dae1",
   "metadata": {},
   "outputs": [],
   "source": [
    "# creara una funcion que proporcionara una lista con 0 si la venta fue dentro del reino unido\n",
    "# y 1 si fue fuera de este pais\n",
    "\n",
    "def in_or_on(lista):\n",
    "    \n",
    "    out_kingdom = []\n",
    "\n",
    "    for i in lista:\n",
    "        if i == 'United Kingdom':\n",
    "            a = 0\n",
    "            out_kingdom.append(a)\n",
    "        else:\n",
    "            a = 1\n",
    "            out_kingdom.append(a)\n",
    "    return(out_kingdom)\n",
    "\n",
    "out_kingdom = in_or_on(data.País)"
   ]
  },
  {
   "cell_type": "code",
   "execution_count": 87,
   "id": "b7182e9b",
   "metadata": {},
   "outputs": [
    {
     "data": {
      "text/html": [
       "<div>\n",
       "<style scoped>\n",
       "    .dataframe tbody tr th:only-of-type {\n",
       "        vertical-align: middle;\n",
       "    }\n",
       "\n",
       "    .dataframe tbody tr th {\n",
       "        vertical-align: top;\n",
       "    }\n",
       "\n",
       "    .dataframe thead th {\n",
       "        text-align: right;\n",
       "    }\n",
       "</style>\n",
       "<table border=\"1\" class=\"dataframe\">\n",
       "  <thead>\n",
       "    <tr style=\"text-align: right;\">\n",
       "      <th></th>\n",
       "      <th>N° de factura</th>\n",
       "      <th>ID Cliente</th>\n",
       "      <th>País</th>\n",
       "      <th>Cantidad</th>\n",
       "      <th>Monto_float</th>\n",
       "      <th>Fecha</th>\n",
       "      <th>Continente</th>\n",
       "      <th>sale_month</th>\n",
       "      <th>Day_sale</th>\n",
       "      <th>Year_sale</th>\n",
       "      <th>month_year</th>\n",
       "      <th>Out_kingdom</th>\n",
       "    </tr>\n",
       "  </thead>\n",
       "  <tbody>\n",
       "    <tr>\n",
       "      <th>0</th>\n",
       "      <td>548370</td>\n",
       "      <td>15528.0</td>\n",
       "      <td>United Kingdom</td>\n",
       "      <td>123</td>\n",
       "      <td>229.33</td>\n",
       "      <td>2021-03-30 16:14:00</td>\n",
       "      <td>Europa</td>\n",
       "      <td>Marzo</td>\n",
       "      <td>30</td>\n",
       "      <td>2021</td>\n",
       "      <td>2021 03</td>\n",
       "      <td>0</td>\n",
       "    </tr>\n",
       "    <tr>\n",
       "      <th>1</th>\n",
       "      <td>575767</td>\n",
       "      <td>17348.0</td>\n",
       "      <td>United Kingdom</td>\n",
       "      <td>163</td>\n",
       "      <td>209.73</td>\n",
       "      <td>2021-11-11 11:11:00</td>\n",
       "      <td>Europa</td>\n",
       "      <td>Noviembre</td>\n",
       "      <td>11</td>\n",
       "      <td>2021</td>\n",
       "      <td>2021 11</td>\n",
       "      <td>0</td>\n",
       "    </tr>\n",
       "    <tr>\n",
       "      <th>3</th>\n",
       "      <td>549106</td>\n",
       "      <td>17045.0</td>\n",
       "      <td>United Kingdom</td>\n",
       "      <td>1</td>\n",
       "      <td>39.95</td>\n",
       "      <td>2021-04-06 12:08:00</td>\n",
       "      <td>Europa</td>\n",
       "      <td>Abril</td>\n",
       "      <td>6</td>\n",
       "      <td>2021</td>\n",
       "      <td>2021 04</td>\n",
       "      <td>0</td>\n",
       "    </tr>\n",
       "  </tbody>\n",
       "</table>\n",
       "</div>"
      ],
      "text/plain": [
       "  N° de factura  ID Cliente            País  Cantidad  Monto_float  \\\n",
       "0        548370     15528.0  United Kingdom       123       229.33   \n",
       "1        575767     17348.0  United Kingdom       163       209.73   \n",
       "3        549106     17045.0  United Kingdom         1        39.95   \n",
       "\n",
       "                Fecha Continente sale_month  Day_sale  Year_sale month_year  \\\n",
       "0 2021-03-30 16:14:00     Europa      Marzo        30       2021    2021 03   \n",
       "1 2021-11-11 11:11:00     Europa  Noviembre        11       2021    2021 11   \n",
       "3 2021-04-06 12:08:00     Europa      Abril         6       2021    2021 04   \n",
       "\n",
       "   Out_kingdom  \n",
       "0            0  \n",
       "1            0  \n",
       "3            0  "
      ]
     },
     "execution_count": 87,
     "metadata": {},
     "output_type": "execute_result"
    }
   ],
   "source": [
    "## agrego la nueva lista como columna la dataset\n",
    "data['Out_kingdom'] = out_kingdom\n",
    "data.head(3)"
   ]
  },
  {
   "cell_type": "markdown",
   "id": "342d9164",
   "metadata": {},
   "source": [
    "## 3.5) creacion de cantidad de pedidos\n",
    "- se creara una columna que agrupe la cantidad de pedidos en intervalos definidos por el equipo"
   ]
  },
  {
   "cell_type": "code",
   "execution_count": 88,
   "id": "5985d9a3",
   "metadata": {},
   "outputs": [],
   "source": [
    "\n",
    "def segmentacion_cantidad(lista):\n",
    "    \n",
    "    segmentacion = []\n",
    "\n",
    "    for i in lista:\n",
    "\n",
    "        if i < 100:\n",
    "            segmentacion.append('x<100')\n",
    "\n",
    "        elif i > 100 and i < 301:\n",
    "            segmentacion.append('100<=x<=300')\n",
    "\n",
    "        elif i > 300 and i < 601:\n",
    "            segmentacion.append('300<=x<=600')\n",
    "\n",
    "        elif i > 600 and i < 901:\n",
    "            segmentacion.append('600<=x<=900')\n",
    "\n",
    "        elif i > 900 and i < 1001:\n",
    "            segmentacion.append('900<=x<=1000')\n",
    "\n",
    "        elif i > 1000 and i < 3001:\n",
    "            segmentacion.append('1000<=x<=3000')\n",
    "\n",
    "        else :\n",
    "            segmentacion.append('X > 3000')\n",
    "\n",
    "    return(segmentacion)\n",
    "\n",
    "agrupamiento = segmentacion_cantidad(data['Cantidad'])\n"
   ]
  },
  {
   "cell_type": "code",
   "execution_count": 89,
   "id": "07daa806",
   "metadata": {},
   "outputs": [],
   "source": [
    "# agregare el array con los datos agrupados al dataframe\n",
    "data['Volumen_venta'] = agrupamiento"
   ]
  },
  {
   "cell_type": "code",
   "execution_count": null,
   "id": "8a27851b",
   "metadata": {},
   "outputs": [],
   "source": []
  },
  {
   "cell_type": "code",
   "execution_count": 90,
   "id": "7794ed9d",
   "metadata": {},
   "outputs": [
    {
     "name": "stdout",
     "output_type": "stream",
     "text": [
      "<class 'pandas.core.frame.DataFrame'>\n",
      "Int64Index: 18562 entries, 0 to 25951\n",
      "Data columns (total 13 columns):\n",
      " #   Column         Non-Null Count  Dtype         \n",
      "---  ------         --------------  -----         \n",
      " 0   N° de factura  18562 non-null  object        \n",
      " 1   ID Cliente     18562 non-null  float64       \n",
      " 2   País           18562 non-null  object        \n",
      " 3   Cantidad       18562 non-null  int64         \n",
      " 4   Monto_float    18562 non-null  float64       \n",
      " 5   Fecha          18562 non-null  datetime64[ns]\n",
      " 6   Continente     18554 non-null  object        \n",
      " 7   sale_month     18562 non-null  object        \n",
      " 8   Day_sale       18562 non-null  int64         \n",
      " 9   Year_sale      18562 non-null  int64         \n",
      " 10  month_year     18562 non-null  object        \n",
      " 11  Out_kingdom    18562 non-null  int64         \n",
      " 12  Volumen_venta  18562 non-null  object        \n",
      "dtypes: datetime64[ns](1), float64(2), int64(4), object(6)\n",
      "memory usage: 2.0+ MB\n"
     ]
    }
   ],
   "source": [
    "data.info()"
   ]
  },
  {
   "cell_type": "code",
   "execution_count": null,
   "id": "cb536ae3",
   "metadata": {},
   "outputs": [],
   "source": []
  },
  {
   "cell_type": "markdown",
   "id": "732ecaf3",
   "metadata": {},
   "source": [
    "## 3.6 Visualizacion de variables categoricas\n"
   ]
  },
  {
   "cell_type": "code",
   "execution_count": 91,
   "id": "b74dcb26",
   "metadata": {},
   "outputs": [
    {
     "data": {
      "image/png": "[encoded data removed]",
      "text/plain": [
       "<Figure size 720x1440 with 8 Axes>"
      ]
     },
     "metadata": {
      "needs_background": "light"
     },
     "output_type": "display_data"
    }
   ],
   "source": [
    "## creare una lista con las veriables categoricas que visualizare\n",
    "categoricas = ['Year_sale', 'Day_sale', 'sale_month', 'Continente', 'País', 'month_year', 'Out_kingdom', 'Volumen_venta']\n",
    "\n",
    "## crear el area donde se dispondran las imagenes \n",
    "fig, ax = plt.subplots(nrows=len(categoricas), ncols=1, figsize=(10,20))\n",
    "fig.subplots_adjust(hspace=1)\n",
    "\n",
    "for i, col in enumerate(categoricas):\n",
    "    sns.countplot(data=data, x=col, ax=ax[i])\n",
    "    ax[i].set_title(col)\n",
    "    ax[i].set_xticklabels(ax[i].get_xticklabels(),rotation=30)"
   ]
  },
  {
   "cell_type": "code",
   "execution_count": null,
   "id": "0c5e0925",
   "metadata": {},
   "outputs": [],
   "source": []
  },
  {
   "cell_type": "code",
   "execution_count": 92,
   "id": "5fdca085",
   "metadata": {},
   "outputs": [
    {
     "name": "stdout",
     "output_type": "stream",
     "text": [
      "<class 'pandas.core.frame.DataFrame'>\n",
      "Int64Index: 18562 entries, 0 to 25951\n",
      "Data columns (total 13 columns):\n",
      " #   Column         Non-Null Count  Dtype         \n",
      "---  ------         --------------  -----         \n",
      " 0   N° de factura  18562 non-null  object        \n",
      " 1   ID Cliente     18562 non-null  float64       \n",
      " 2   País           18562 non-null  object        \n",
      " 3   Cantidad       18562 non-null  int64         \n",
      " 4   Monto_float    18562 non-null  float64       \n",
      " 5   Fecha          18562 non-null  datetime64[ns]\n",
      " 6   Continente     18554 non-null  object        \n",
      " 7   sale_month     18562 non-null  object        \n",
      " 8   Day_sale       18562 non-null  int64         \n",
      " 9   Year_sale      18562 non-null  int64         \n",
      " 10  month_year     18562 non-null  object        \n",
      " 11  Out_kingdom    18562 non-null  int64         \n",
      " 12  Volumen_venta  18562 non-null  object        \n",
      "dtypes: datetime64[ns](1), float64(2), int64(4), object(6)\n",
      "memory usage: 2.0+ MB\n"
     ]
    }
   ],
   "source": [
    "data.info()"
   ]
  },
  {
   "cell_type": "markdown",
   "id": "9991573f",
   "metadata": {},
   "source": [
    "## Estandarizacion de las etiquetas de las columnas"
   ]
  },
  {
   "cell_type": "code",
   "execution_count": 93,
   "id": "75fbae7d",
   "metadata": {},
   "outputs": [
    {
     "data": {
      "text/plain": [
       "Index(['N° de factura', 'ID Cliente', 'País', 'Cantidad', 'Monto_float',\n",
       "       'Fecha', 'Continente', 'sale_month', 'Day_sale', 'Year_sale',\n",
       "       'month_year', 'Out_kingdom', 'Volumen_venta'],\n",
       "      dtype='object')"
      ]
     },
     "execution_count": 93,
     "metadata": {},
     "output_type": "execute_result"
    }
   ],
   "source": [
    "data.columns"
   ]
  },
  {
   "cell_type": "code",
   "execution_count": 94,
   "id": "5aa53bbc",
   "metadata": {},
   "outputs": [],
   "source": [
    "data.columns = ['N_factura','ID_Cliente','País','Cantidad','Monto','Fecha','Continente','Mes','Dia','Año','Periodo','Out_kingdom','Volumen_cantidad']"
   ]
  },
  {
   "cell_type": "code",
   "execution_count": 95,
   "id": "eb8eab2d",
   "metadata": {},
   "outputs": [
    {
     "name": "stdout",
     "output_type": "stream",
     "text": [
      "<class 'pandas.core.frame.DataFrame'>\n",
      "Int64Index: 18562 entries, 0 to 25951\n",
      "Data columns (total 13 columns):\n",
      " #   Column            Non-Null Count  Dtype         \n",
      "---  ------            --------------  -----         \n",
      " 0   N_factura         18562 non-null  object        \n",
      " 1   ID_Cliente        18562 non-null  float64       \n",
      " 2   País              18562 non-null  object        \n",
      " 3   Cantidad          18562 non-null  int64         \n",
      " 4   Monto             18562 non-null  float64       \n",
      " 5   Fecha             18562 non-null  datetime64[ns]\n",
      " 6   Continente        18554 non-null  object        \n",
      " 7   Mes               18562 non-null  object        \n",
      " 8   Dia               18562 non-null  int64         \n",
      " 9   Año               18562 non-null  int64         \n",
      " 10  Periodo           18562 non-null  object        \n",
      " 11  Out_kingdom       18562 non-null  int64         \n",
      " 12  Volumen_cantidad  18562 non-null  object        \n",
      "dtypes: datetime64[ns](1), float64(2), int64(4), object(6)\n",
      "memory usage: 2.0+ MB\n"
     ]
    }
   ],
   "source": [
    "data.info()"
   ]
  },
  {
   "cell_type": "code",
   "execution_count": 96,
   "id": "a97adb5b",
   "metadata": {},
   "outputs": [
    {
     "data": {
      "text/plain": [
       "(18562, 13)"
      ]
     },
     "execution_count": 96,
     "metadata": {},
     "output_type": "execute_result"
    }
   ],
   "source": [
    "data.shape"
   ]
  },
  {
   "cell_type": "markdown",
   "id": "4c37ff2e",
   "metadata": {},
   "source": [
    "## Se concluye con la limpieza de los datos"
   ]
  },
  {
   "cell_type": "markdown",
   "id": "625c7f3c",
   "metadata": {},
   "source": [
    "### OBSERVACIONES\n",
    "- 1) el dataframe inicio con: **25953** filas y **6** columnas, despues de la limpieza termino con **18562** filas y **13 columnas**\n",
    "- 2) los datos numericos tienen valores fuera de lo comun como ventas mayores a **150000** dolares y pedidos por mas de **80000** unidades\n",
    "- 3) tiene una amplia gama de clientes pero los principales se encuentran en europa siendo su mejor comprador **el reino unido**\n",
    "- 4) las ventas registradas son de dos años finales de **2020** y todo el **2021**\n",
    "- 5) los datos numericos presentaban rangos negativos los cuales se eliminaron\n",
    "- 6) se modificaron columnas tale como **monto**, **fecha** y **paises** ya que era apropiado cambiarles el tipo de datos y eliminarlas por informacion redundante\n",
    "- 7) por el momento no es posible realizar algo con los datos de las facturas de ventas\n",
    "- 8) al agrupar los datos por continente **se evidencia que faltan 8 datos los cuales corresponden a los valores nulos de los paises que no fueron identificados no se eliminan ya que estos ayudaran a dar luz en la venta que se hizo fuera de united kingdom**\n",
    "- 9) Se cambio el nombre de las columnas"
   ]
  },
  {
   "cell_type": "code",
   "execution_count": 97,
   "id": "db2f3d07",
   "metadata": {},
   "outputs": [],
   "source": [
    "data.to_csv('Data_clean')"
   ]
  },
  {
   "cell_type": "code",
   "execution_count": 98,
   "id": "93864101",
   "metadata": {},
   "outputs": [
    {
     "name": "stdout",
     "output_type": "stream",
     "text": [
      "<class 'pandas.core.frame.DataFrame'>\n",
      "RangeIndex: 18562 entries, 0 to 18561\n",
      "Data columns (total 14 columns):\n",
      " #   Column            Non-Null Count  Dtype  \n",
      "---  ------            --------------  -----  \n",
      " 0   Unnamed: 0        18562 non-null  int64  \n",
      " 1   N_factura         18562 non-null  int64  \n",
      " 2   ID_Cliente        18562 non-null  float64\n",
      " 3   País              18562 non-null  object \n",
      " 4   Cantidad          18562 non-null  int64  \n",
      " 5   Monto             18562 non-null  float64\n",
      " 6   Fecha             18562 non-null  object \n",
      " 7   Continente        18554 non-null  object \n",
      " 8   Mes               18562 non-null  object \n",
      " 9   Dia               18562 non-null  int64  \n",
      " 10  Año               18562 non-null  int64  \n",
      " 11  Periodo           18562 non-null  object \n",
      " 12  Out_kingdom       18562 non-null  int64  \n",
      " 13  Volumen_cantidad  18562 non-null  object \n",
      "dtypes: float64(2), int64(6), object(6)\n",
      "memory usage: 2.0+ MB\n"
     ]
    }
   ],
   "source": [
    "datos = pd.read_csv('./Data_clean')\n",
    "datos.info()"
   ]
  },
  {
   "cell_type": "code",
   "execution_count": null,
   "id": "60b9755f",
   "metadata": {},
   "outputs": [],
   "source": []
  },
  {
   "cell_type": "code",
   "execution_count": null,
   "id": "81c201e7",
   "metadata": {},
   "outputs": [],
   "source": []
  },
  {
   "cell_type": "code",
   "execution_count": null,
   "id": "f11e6127",
   "metadata": {},
   "outputs": [],
   "source": []
  },
  {
   "cell_type": "code",
   "execution_count": null,
   "id": "83130942",
   "metadata": {},
   "outputs": [],
   "source": []
  }
 ],
 "metadata": {
  "kernelspec": {
   "display_name": "Python 3 (ipykernel)",
   "language": "python",
   "name": "python3"
  },
  "language_info": {
   "codemirror_mode": {
    "name": "ipython",
    "version": 3
   },
   "file_extension": ".py",
   "mimetype": "text/x-python",
   "name": "python",
   "nbconvert_exporter": "python",
   "pygments_lexer": "ipython3",
   "version": "3.9.12"
  }
 },
 "nbformat": 4,
 "nbformat_minor": 5
}
