{
 "cells": [
  {
   "cell_type": "code",
   "execution_count": 1,
   "id": "41484d28",
   "metadata": {},
   "outputs": [],
   "source": [
    "import pandas as pd\n",
    "import numpy as np\n",
    "import matplotlib.pyplot as plt\n",
    "import seaborn as sns"
   ]
  },
  {
   "cell_type": "code",
   "execution_count": 16,
   "id": "8f9e83ab",
   "metadata": {},
   "outputs": [
    {
     "data": {
      "text/html": [
       "<div>\n",
       "<style scoped>\n",
       "    .dataframe tbody tr th:only-of-type {\n",
       "        vertical-align: middle;\n",
       "    }\n",
       "\n",
       "    .dataframe tbody tr th {\n",
       "        vertical-align: top;\n",
       "    }\n",
       "\n",
       "    .dataframe thead th {\n",
       "        text-align: right;\n",
       "    }\n",
       "</style>\n",
       "<table border=\"1\" class=\"dataframe\">\n",
       "  <thead>\n",
       "    <tr style=\"text-align: right;\">\n",
       "      <th></th>\n",
       "      <th>Unnamed: 0</th>\n",
       "      <th>N_factura</th>\n",
       "      <th>ID_Cliente</th>\n",
       "      <th>País</th>\n",
       "      <th>Cantidad</th>\n",
       "      <th>Monto</th>\n",
       "      <th>Fecha</th>\n",
       "      <th>Continente</th>\n",
       "      <th>Mes</th>\n",
       "      <th>Dia</th>\n",
       "      <th>Año</th>\n",
       "      <th>Periodo</th>\n",
       "      <th>Out_kingdom</th>\n",
       "      <th>Volumen_cantidad</th>\n",
       "    </tr>\n",
       "  </thead>\n",
       "  <tbody>\n",
       "    <tr>\n",
       "      <th>0</th>\n",
       "      <td>0</td>\n",
       "      <td>548370</td>\n",
       "      <td>15528.0</td>\n",
       "      <td>United Kingdom</td>\n",
       "      <td>123</td>\n",
       "      <td>229.33</td>\n",
       "      <td>2021-03-30 16:14:00</td>\n",
       "      <td>Europa</td>\n",
       "      <td>Marzo</td>\n",
       "      <td>30</td>\n",
       "      <td>2021</td>\n",
       "      <td>2021 03</td>\n",
       "      <td>0</td>\n",
       "      <td>100&lt;=x&lt;=200</td>\n",
       "    </tr>\n",
       "    <tr>\n",
       "      <th>1</th>\n",
       "      <td>1</td>\n",
       "      <td>575767</td>\n",
       "      <td>17348.0</td>\n",
       "      <td>United Kingdom</td>\n",
       "      <td>163</td>\n",
       "      <td>209.73</td>\n",
       "      <td>2021-11-11 11:11:00</td>\n",
       "      <td>Europa</td>\n",
       "      <td>Noviembre</td>\n",
       "      <td>11</td>\n",
       "      <td>2021</td>\n",
       "      <td>2021 11</td>\n",
       "      <td>0</td>\n",
       "      <td>100&lt;=x&lt;=200</td>\n",
       "    </tr>\n",
       "    <tr>\n",
       "      <th>2</th>\n",
       "      <td>3</td>\n",
       "      <td>549106</td>\n",
       "      <td>17045.0</td>\n",
       "      <td>United Kingdom</td>\n",
       "      <td>1</td>\n",
       "      <td>39.95</td>\n",
       "      <td>2021-04-06 12:08:00</td>\n",
       "      <td>Europa</td>\n",
       "      <td>Abril</td>\n",
       "      <td>6</td>\n",
       "      <td>2021</td>\n",
       "      <td>2021 04</td>\n",
       "      <td>0</td>\n",
       "      <td>x&lt;50</td>\n",
       "    </tr>\n",
       "    <tr>\n",
       "      <th>3</th>\n",
       "      <td>4</td>\n",
       "      <td>573112</td>\n",
       "      <td>16416.0</td>\n",
       "      <td>United Kingdom</td>\n",
       "      <td>357</td>\n",
       "      <td>344.83</td>\n",
       "      <td>2021-10-27 15:33:00</td>\n",
       "      <td>Europa</td>\n",
       "      <td>Octubre</td>\n",
       "      <td>27</td>\n",
       "      <td>2021</td>\n",
       "      <td>2021 10</td>\n",
       "      <td>0</td>\n",
       "      <td>300&lt;=x&lt;=400</td>\n",
       "    </tr>\n",
       "    <tr>\n",
       "      <th>4</th>\n",
       "      <td>5</td>\n",
       "      <td>576630</td>\n",
       "      <td>13816.0</td>\n",
       "      <td>Germany</td>\n",
       "      <td>91</td>\n",
       "      <td>199.98</td>\n",
       "      <td>2021-11-16 08:38:00</td>\n",
       "      <td>Europa</td>\n",
       "      <td>Noviembre</td>\n",
       "      <td>16</td>\n",
       "      <td>2021</td>\n",
       "      <td>2021 11</td>\n",
       "      <td>1</td>\n",
       "      <td>50&lt;=x&lt;=100</td>\n",
       "    </tr>\n",
       "  </tbody>\n",
       "</table>\n",
       "</div>"
      ],
      "text/plain": [
       "   Unnamed: 0  N_factura  ID_Cliente            País  Cantidad   Monto  \\\n",
       "0           0     548370     15528.0  United Kingdom       123  229.33   \n",
       "1           1     575767     17348.0  United Kingdom       163  209.73   \n",
       "2           3     549106     17045.0  United Kingdom         1   39.95   \n",
       "3           4     573112     16416.0  United Kingdom       357  344.83   \n",
       "4           5     576630     13816.0         Germany        91  199.98   \n",
       "\n",
       "                 Fecha Continente        Mes  Dia   Año  Periodo  Out_kingdom  \\\n",
       "0  2021-03-30 16:14:00     Europa      Marzo   30  2021  2021 03            0   \n",
       "1  2021-11-11 11:11:00     Europa  Noviembre   11  2021  2021 11            0   \n",
       "2  2021-04-06 12:08:00     Europa      Abril    6  2021  2021 04            0   \n",
       "3  2021-10-27 15:33:00     Europa    Octubre   27  2021  2021 10            0   \n",
       "4  2021-11-16 08:38:00     Europa  Noviembre   16  2021  2021 11            1   \n",
       "\n",
       "  Volumen_cantidad  \n",
       "0      100<=x<=200  \n",
       "1      100<=x<=200  \n",
       "2             x<50  \n",
       "3      300<=x<=400  \n",
       "4       50<=x<=100  "
      ]
     },
     "execution_count": 16,
     "metadata": {},
     "output_type": "execute_result"
    }
   ],
   "source": [
    "original_data = pd.read_csv('./Data_clean')\n",
    "original_data.head(5)"
   ]
  },
  {
   "cell_type": "code",
   "execution_count": 3,
   "id": "dc350703",
   "metadata": {},
   "outputs": [
    {
     "name": "stdout",
     "output_type": "stream",
     "text": [
      "<class 'pandas.core.frame.DataFrame'>\n",
      "RangeIndex: 18562 entries, 0 to 18561\n",
      "Data columns (total 14 columns):\n",
      " #   Column            Non-Null Count  Dtype  \n",
      "---  ------            --------------  -----  \n",
      " 0   Unnamed: 0        18562 non-null  int64  \n",
      " 1   N_factura         18562 non-null  int64  \n",
      " 2   ID_Cliente        18562 non-null  float64\n",
      " 3   País              18562 non-null  object \n",
      " 4   Cantidad          18562 non-null  int64  \n",
      " 5   Monto             18562 non-null  float64\n",
      " 6   Fecha             18562 non-null  object \n",
      " 7   Continente        18554 non-null  object \n",
      " 8   Mes               18562 non-null  object \n",
      " 9   Dia               18562 non-null  int64  \n",
      " 10  Año               18562 non-null  int64  \n",
      " 11  Periodo           18562 non-null  object \n",
      " 12  Out_kingdom       18562 non-null  int64  \n",
      " 13  Volumen_cantidad  18562 non-null  object \n",
      "dtypes: float64(2), int64(6), object(6)\n",
      "memory usage: 2.0+ MB\n"
     ]
    }
   ],
   "source": [
    "data = original_data.copy()\n",
    "data.info()"
   ]
  },
  {
   "cell_type": "markdown",
   "id": "0f6be458",
   "metadata": {},
   "source": [
    "## 1) ¿Cuanto se vende en promedio por mes?\n",
    "\n",
    "- **Esto lo puedo mejorar creando diccionarios donde el la llave sea el periodo y el valor el  promedio**"
   ]
  },
  {
   "cell_type": "code",
   "execution_count": 93,
   "id": "3ccc09eb",
   "metadata": {},
   "outputs": [],
   "source": [
    "# creare un array que guarde los periodos de venta    \n",
    "periodos = data['Periodo'].value_counts().reset_index(name='cantidad')\n",
    "lista_periodos = periodos['index']\n",
    "\n",
    "# la funcion calcula el promedio vendido dependiendo del periodo mediante una logica\n",
    "def calcular_promedio_periodo(lista):\n",
    "\n",
    "    promedio_periodo = []\n",
    "    \n",
    "    for i in lista_periodos:\n",
    "        # este array es una pequeña tabla donde solo tienen los datos que corresponden con i\n",
    "        array = lista[lista['Periodo'] == i]\n",
    "        valor_promedio_periodo = array['Monto'].mean()\n",
    "        \n",
    "        promedio_periodo.append(valor_promedio_periodo)\n",
    "        \n",
    "    return(promedio_periodo)\n",
    "\n",
    "promedio_periodos = calcular_promedio_periodo(data)\n",
    "\n",
    "# organizaremos en nivel ascendente los periodos\n",
    "indices_periodos = np.argsort(lista_periodos)\n",
    "# crearemos lista que sigan este orden para no perder la relacion\n",
    "periodos = [lista_periodos[i] for i in indices_periodos]\n",
    "promedio = [promedio_periodos[i] for i in indices_periodos]"
   ]
  },
  {
   "cell_type": "code",
   "execution_count": null,
   "id": "d8d55408",
   "metadata": {},
   "outputs": [],
   "source": []
  },
  {
   "cell_type": "code",
   "execution_count": null,
   "id": "6004e065",
   "metadata": {},
   "outputs": [],
   "source": []
  },
  {
   "cell_type": "code",
   "execution_count": 135,
   "id": "e68ba996",
   "metadata": {},
   "outputs": [
    {
     "data": {
      "image/png": "[encoded data removed]",
      "text/plain": [
       "<Figure size 504x504 with 1 Axes>"
      ]
     },
     "metadata": {
      "needs_background": "light"
     },
     "output_type": "display_data"
    }
   ],
   "source": [
    "fig, ax = plt.subplots( figsize=(7,7))\n",
    "fig.subplots_adjust(hspace=0.5)\n",
    "\n",
    "sns.lineplot(x=periodos, y=promedio)\n",
    "ax.set_title('calculo')\n",
    "ax.tick_params(axis='x', rotation=30);\n",
    "#ax.set_xticklabels(ax.get_xticklabels(),rotation=30)\n",
    "#plt.show()\n"
   ]
  },
  {
   "cell_type": "code",
   "execution_count": null,
   "id": "1fc089b9",
   "metadata": {},
   "outputs": [],
   "source": []
  },
  {
   "cell_type": "code",
   "execution_count": null,
   "id": "663f14c8",
   "metadata": {},
   "outputs": [],
   "source": []
  },
  {
   "cell_type": "code",
   "execution_count": null,
   "id": "e78af76a",
   "metadata": {},
   "outputs": [],
   "source": []
  },
  {
   "cell_type": "code",
   "execution_count": null,
   "id": "7b0b2ce3",
   "metadata": {},
   "outputs": [],
   "source": []
  },
  {
   "cell_type": "code",
   "execution_count": null,
   "id": "04da5f0d",
   "metadata": {},
   "outputs": [],
   "source": []
  },
  {
   "cell_type": "markdown",
   "id": "f122464f",
   "metadata": {},
   "source": [
    "## 1.1) Cuanto se vende en promedio por mes FUERA de reino unido"
   ]
  },
  {
   "cell_type": "code",
   "execution_count": 136,
   "id": "c35c7b18",
   "metadata": {},
   "outputs": [],
   "source": [
    "# separo un dataframe con ventas fuera de reino unido\n",
    "Out_kingdom = data[data['Out_kingdom'] == 1]\n",
    "\n",
    "# creo una lista de los periodos de venta\n",
    "periodos = out_kingdom.Periodo.value_counts().reset_index(name='cantidad')\n",
    "lista_periodos = periodos['index']\n",
    "\n",
    "# funcion que calcula el promedio dependiendo de el periodo \n",
    "def calcular_promedio(lista):\n",
    "    promedio_periodo = []\n",
    "    \n",
    "    for i in lista_periodos:\n",
    "        minidf = lista[lista['Periodo'] == i]\n",
    "        promedio = minidf.Monto.mean()\n",
    "        promedio_periodo.append(promedio)\n",
    "        \n",
    "    return(promedio_periodo)\n",
    "\n",
    "lista_promedio = calcular_promedio(Out_kingdom)\n",
    "\n",
    "# organizare el periodo en orden\n",
    "indices_periodo = np.argsort(lista_periodos)\n",
    "# organizo las lista en orden ascendente de los periodos\n",
    "periodos = [lista_periodos[i] for i in indices_periodo]\n",
    "promedio = [lista_promedio[i] for i in indices_periodo]"
   ]
  },
  {
   "cell_type": "code",
   "execution_count": null,
   "id": "84798d3e",
   "metadata": {},
   "outputs": [],
   "source": []
  },
  {
   "cell_type": "code",
   "execution_count": null,
   "id": "4d61c39a",
   "metadata": {},
   "outputs": [],
   "source": []
  },
  {
   "cell_type": "code",
   "execution_count": null,
   "id": "51a0ac35",
   "metadata": {},
   "outputs": [],
   "source": []
  },
  {
   "cell_type": "code",
   "execution_count": 139,
   "id": "2be62044",
   "metadata": {},
   "outputs": [
    {
     "data": {
      "image/png": "[encoded data removed]",
      "text/plain": [
       "<Figure size 504x504 with 1 Axes>"
      ]
     },
     "metadata": {
      "needs_background": "light"
     },
     "output_type": "display_data"
    }
   ],
   "source": [
    "fig, ax = plt.subplots( figsize=(7,7))\n",
    "fig.subplots_adjust(hspace=0.5)\n",
    "\n",
    "sns.lineplot(x=periodos, y=promedio)\n",
    "ax.set_title('calculo')\n",
    "ax.tick_params(axis='x', rotation=30);"
   ]
  },
  {
   "cell_type": "markdown",
   "id": "3990c74f",
   "metadata": {},
   "source": [
    "## 1.2) Cuanto se vende en promedio por mes DENTRO de reino unido"
   ]
  },
  {
   "cell_type": "code",
   "execution_count": 107,
   "id": "2952e9c3",
   "metadata": {},
   "outputs": [],
   "source": [
    "# separo un dataframe con ventas fuera de reino unido\n",
    "Out_kingdom = data[data['Out_kingdom'] == 0]\n",
    "\n",
    "# creo una lista de los periodos de venta\n",
    "periodos = out_kingdom.Periodo.value_counts().reset_index(name='cantidad')\n",
    "lista_periodos = periodos['index']\n",
    "\n",
    "# funcion que calcula el promedio dependiendo de el periodo \n",
    "def calcular_promedio(lista):\n",
    "    promedio_periodo = []\n",
    "    \n",
    "    for i in lista_periodos:\n",
    "        minidf = lista[lista['Periodo'] == i]\n",
    "        promedio = minidf.Monto.mean()\n",
    "        promedio_periodo.append(promedio)\n",
    "        \n",
    "    return(promedio_periodo)\n",
    "\n",
    "lista_promedio = calcular_promedio(Out_kingdom)\n",
    "\n",
    "# organizare el periodo en orden\n",
    "indices_periodo = np.argsort(lista_periodos)\n",
    "# organizo las lista en orden ascendente de los periodos\n",
    "periodos = [lista_periodos[i] for i in indices_periodo]\n",
    "promedio = [lista_promedio[i] for i in indices_periodo]"
   ]
  },
  {
   "cell_type": "code",
   "execution_count": 134,
   "id": "2678a451",
   "metadata": {},
   "outputs": [
    {
     "data": {
      "image/png": "[encoded data removed]",
      "text/plain": [
       "<Figure size 504x504 with 1 Axes>"
      ]
     },
     "metadata": {
      "needs_background": "light"
     },
     "output_type": "display_data"
    }
   ],
   "source": [
    "fig, ax = plt.subplots( figsize=(7,7))\n",
    "fig.subplots_adjust(hspace=0.5)\n",
    "\n",
    "sns.lineplot(x=periodos, y=promedio)\n",
    "ax.set_title('calculo')\n",
    "ax.tick_params(axis='x', rotation=30);\n",
    "#ax.set_xticklabels(ax.get_xticklabels(),rotation=30)\n",
    "#plt.show()"
   ]
  },
  {
   "cell_type": "markdown",
   "id": "79ae7a15",
   "metadata": {},
   "source": [
    "## 2) ¿Cual es el promedio de articulos cada mes?\n"
   ]
  },
  {
   "cell_type": "code",
   "execution_count": 6,
   "id": "a339bc15",
   "metadata": {},
   "outputs": [],
   "source": [
    "## creare una funcion que me calcule la cantidad PROMEDIO de articulos dependiendo de la fecha\n",
    "def calcular_promedio_productos(lista):\n",
    "    periodo_tabla = data.Periodo.value_counts().reset_index(name='fecha')\n",
    "    periodo = periodo_tabla['index']\n",
    "    \n",
    "    promedio_cantidad_valor = []\n",
    "    \n",
    "    for i in periodo:\n",
    "        tabla_periodo = lista[lista['Periodo'] == i]\n",
    "        promedio_cantidad = tabla_periodo.Cantidad.mean()\n",
    "    \n",
    "        promedio_cantidad_valor.append(promedio_cantidad)\n",
    "        \n",
    "    return(promedio_cantidad_valor)\n",
    "\n",
    "promedio_productos = calcular_promedio_productos(data)"
   ]
  },
  {
   "cell_type": "code",
   "execution_count": 7,
   "id": "e6f8d430",
   "metadata": {},
   "outputs": [
    {
     "data": {
      "text/plain": [
       "<AxesSubplot:xlabel='index'>"
      ]
     },
     "execution_count": 7,
     "metadata": {},
     "output_type": "execute_result"
    },
    {
     "data": {
      "image/png": "[encoded data removed]",
      "text/plain": [
       "<Figure size 432x288 with 1 Axes>"
      ]
     },
     "metadata": {
      "needs_background": "light"
     },
     "output_type": "display_data"
    }
   ],
   "source": [
    "sns.barplot(x=lista_periodos, y=promedio_productos)"
   ]
  },
  {
   "cell_type": "markdown",
   "id": "9c972c71",
   "metadata": {},
   "source": [
    "# 2.1) cual es el promedio de articulos DENTRO de reino unido\n"
   ]
  },
  {
   "cell_type": "code",
   "execution_count": 131,
   "id": "d793c1ab",
   "metadata": {},
   "outputs": [],
   "source": [
    "# separo un dataframe con ventas fuera de reino unido\n",
    "Out_kingdom = data[data['Out_kingdom'] == 0]\n",
    "\n",
    "# creo una lista de los periodos de venta\n",
    "periodos = out_kingdom.Periodo.value_counts().reset_index(name='cantidad')\n",
    "lista_periodos = periodos['index']\n",
    "\n",
    "# funcion que calcula el promedio dependiendo de el periodo \n",
    "def calcular_promedio(lista):\n",
    "    promedio_cantidad = []\n",
    "    \n",
    "    for i in lista_periodos:\n",
    "        minidf = lista[lista['Periodo'] == i]\n",
    "        cantidad = minidf.Cantidad.mean()\n",
    "        promedio_cantidad.append(cantidad)\n",
    "        \n",
    "    return(promedio_cantidad)\n",
    "\n",
    "lista_cantidad = calcular_promedio(Out_kingdom)\n",
    "\n",
    "# organizare el periodo en orden\n",
    "indices_periodo = np.argsort(lista_periodos)\n",
    "# organizo las lista en orden ascendente de los periodos\n",
    "periodos = [lista_periodos[i] for i in indices_periodo]\n",
    "cantidad = [lista_cantidad[i] for i in indices_periodo]"
   ]
  },
  {
   "cell_type": "code",
   "execution_count": 114,
   "id": "17763c2e",
   "metadata": {},
   "outputs": [
    {
     "data": {
      "image/png": "[encoded data removed]",
      "text/plain": [
       "<Figure size 504x504 with 1 Axes>"
      ]
     },
     "metadata": {
      "needs_background": "light"
     },
     "output_type": "display_data"
    }
   ],
   "source": [
    "fig, ax = plt.subplots( figsize=(7,7))\n",
    "fig.subplots_adjust(hspace=0.5)\n",
    "\n",
    "sns.barplot(x=periodos, y=cantidad)\n",
    "ax.set_title('calculo')\n",
    "ax.tick_params(axis='x', rotation=30);"
   ]
  },
  {
   "cell_type": "markdown",
   "id": "6750d089",
   "metadata": {},
   "source": [
    "## 2.2) Cual es el promdio de articulos vendidos FUERA de reino unido\n"
   ]
  },
  {
   "cell_type": "code",
   "execution_count": 115,
   "id": "e23493a1",
   "metadata": {},
   "outputs": [],
   "source": [
    "# separo un dataframe con ventas fuera de reino unido\n",
    "Out_kingdom = data[data['Out_kingdom'] == 1]\n",
    "\n",
    "# creo una lista de los periodos de venta\n",
    "periodos = out_kingdom.Periodo.value_counts().reset_index(name='cantidad')\n",
    "lista_periodos = periodos['index']\n",
    "\n",
    "# funcion que calcula el promedio dependiendo de el periodo \n",
    "def calcular_promedio(lista):\n",
    "    promedio_cantidad = []\n",
    "    \n",
    "    for i in lista_periodos:\n",
    "        minidf = lista[lista['Periodo'] == i]\n",
    "        cantidad = minidf.Cantidad.mean()\n",
    "        promedio_cantidad.append(cantidad)\n",
    "        \n",
    "    return(promedio_cantidad)\n",
    "\n",
    "lista_cantidad = calcular_promedio(Out_kingdom)\n",
    "\n",
    "# organizare el periodo en orden\n",
    "indices_periodo = np.argsort(lista_periodos)\n",
    "# organizo las lista en orden ascendente de los periodos\n",
    "periodos = [lista_periodos[i] for i in indices_periodo]\n",
    "cantidad = [lista_cantidad[i] for i in indices_periodo]"
   ]
  },
  {
   "cell_type": "code",
   "execution_count": 116,
   "id": "fcd659c8",
   "metadata": {},
   "outputs": [
    {
     "data": {
      "image/png": "[encoded data removed]",
      "text/plain": [
       "<Figure size 504x504 with 1 Axes>"
      ]
     },
     "metadata": {
      "needs_background": "light"
     },
     "output_type": "display_data"
    }
   ],
   "source": [
    "fig, ax = plt.subplots( figsize=(7,7))\n",
    "fig.subplots_adjust(hspace=0.5)\n",
    "\n",
    "sns.barplot(x=periodos, y=cantidad)\n",
    "ax.set_title('calculo')\n",
    "ax.tick_params(axis='x', rotation=30);"
   ]
  },
  {
   "cell_type": "markdown",
   "id": "a02ff0c6",
   "metadata": {},
   "source": [
    "## 3) cuantas ventas hubo en  durante los periodos ?"
   ]
  },
  {
   "cell_type": "code",
   "execution_count": 165,
   "id": "3d1e2bda",
   "metadata": {},
   "outputs": [],
   "source": [
    "## contare la cantidad de facturas emitidas en un periodo seleccionado\n",
    "\n",
    "# lista de los periodos\n",
    "lista_periodos = data['Periodo'].value_counts().reset_index(name='cantidad')\n",
    "lista_periodos = lista_periodos['index']\n",
    "\n",
    "# funcion que cuneta la cantidad de facturas emitidas en un periodo seleccionado\n",
    "def cantidad_facturas(data):\n",
    "    \n",
    "    lista_cantidad = []\n",
    "    \n",
    "    for i in lista_periodos:\n",
    "        mini_df = data[data['Periodo'] == i]\n",
    "        cantidad_f = len(mini_df['N_factura'])\n",
    "        \n",
    "        lista_cantidad.append(cantidad_f)\n",
    "    \n",
    "    return lista_cantidad\n",
    "\n",
    "lista_cantidad = cantidad_facturas(data)\n",
    "\n",
    "# organizare de menos a mayor los periodos y guardare sus indices para no perder la relacion con la cantidad de\n",
    "# facturas\n",
    "\n",
    "lista_indices = np.argsort(lista_periodos)\n",
    "\n",
    "periodos = [lista_periodos[i] for i in lista_indices]\n",
    "cantidad = [lista_cantidad[i] for i in lista_indices]\n"
   ]
  },
  {
   "cell_type": "code",
   "execution_count": 166,
   "id": "5d6a3374",
   "metadata": {},
   "outputs": [
    {
     "data": {
      "image/png": "[encoded data removed]",
      "text/plain": [
       "<Figure size 504x504 with 1 Axes>"
      ]
     },
     "metadata": {
      "needs_background": "light"
     },
     "output_type": "display_data"
    }
   ],
   "source": [
    "fig, ax = plt.subplots(figsize=(7,7))\n",
    "fig.subplots_adjust(hspace=0.5)\n",
    "\n",
    "sns.barplot(x=periodos, y=cantidad)\n",
    "ax.tick_params(axis='x', rotation=30);"
   ]
  },
  {
   "cell_type": "code",
   "execution_count": null,
   "id": "6b03f618",
   "metadata": {},
   "outputs": [],
   "source": []
  },
  {
   "cell_type": "markdown",
   "id": "9947602c",
   "metadata": {},
   "source": [
    "## 3.1)cantidad de ventas echas FUERA de reino unido\n"
   ]
  },
  {
   "cell_type": "code",
   "execution_count": 188,
   "id": "929f71d4",
   "metadata": {},
   "outputs": [
    {
     "name": "stdout",
     "output_type": "stream",
     "text": [
      "1889\n"
     ]
    }
   ],
   "source": [
    "# separo un dataframe con ventas fuera de reino unido\n",
    "Out_kingdom = data[data['Out_kingdom'] == 1]\n",
    "\n",
    "# creo una lista de los periodos de venta\n",
    "periodos = out_kingdom.Periodo.value_counts().reset_index(name='cantidad')\n",
    "lista_periodos = periodos['index']\n",
    "\n",
    "# funcion que calcula el promedio dependiendo de el periodo \n",
    "def cantidad_facturas(data):\n",
    "    \n",
    "    lista_cantidad = []\n",
    "    \n",
    "    for i in lista_periodos:\n",
    "        mini_df = data[data['Periodo'] == i]\n",
    "        cantidad_f = len(mini_df['N_factura'])\n",
    "        \n",
    "        lista_cantidad.append(cantidad_f)\n",
    "    \n",
    "    return lista_cantidad\n",
    "\n",
    "lista_cantidad = cantidad_facturas(Out_kingdom)\n",
    "\n",
    "# organizare el periodo en orden\n",
    "indices_periodo = np.argsort(lista_periodos)\n",
    "# organizo las lista en orden ascendente de los periodos\n",
    "periodos = [lista_periodos[i] for i in indices_periodo]\n",
    "cantidad = [lista_cantidad[i] for i in indices_periodo]\n",
    "\n",
    "y= sum(cantidad)\n",
    "print(y)"
   ]
  },
  {
   "cell_type": "code",
   "execution_count": 196,
   "id": "d1c38214",
   "metadata": {},
   "outputs": [
    {
     "data": {
      "text/plain": [
       "<seaborn.axisgrid.FacetGrid at 0x7efc103b5190>"
      ]
     },
     "execution_count": 196,
     "metadata": {},
     "output_type": "execute_result"
    },
    {
     "data": {
      "image/png": "[encoded data removed]",
      "text/plain": [
       "<Figure size 360x360 with 1 Axes>"
      ]
     },
     "metadata": {
      "needs_background": "light"
     },
     "output_type": "display_data"
    }
   ],
   "source": [
    "Out_kingdom = data[data['Out_kingdom'] == 1]\n",
    "sns.displot(data=Out_kingdom, x='Monto', kind='kde', palette='dark')"
   ]
  },
  {
   "cell_type": "code",
   "execution_count": 189,
   "id": "40687e7b",
   "metadata": {},
   "outputs": [
    {
     "data": {
      "image/png": "[encoded data removed]",
      "text/plain": [
       "<Figure size 504x504 with 1 Axes>"
      ]
     },
     "metadata": {
      "needs_background": "light"
     },
     "output_type": "display_data"
    }
   ],
   "source": [
    "fig, ax = plt.subplots(figsize=(7,7))\n",
    "fig.subplots_adjust(hspace=0.5)\n",
    "\n",
    "sns.barplot(x=periodos, y=cantidad)\n",
    "ax.tick_params(axis='x', rotation=30);"
   ]
  },
  {
   "cell_type": "markdown",
   "id": "e5032a36",
   "metadata": {},
   "source": [
    "## 3.2) cantidad de ventas echas DENTRO de reino unido"
   ]
  },
  {
   "cell_type": "code",
   "execution_count": 190,
   "id": "4aa5f531",
   "metadata": {},
   "outputs": [],
   "source": [
    "# separo un dataframe con ventas dentro de reino unido\n",
    "Out_kingdom = data[data['Out_kingdom'] == 0]\n",
    "\n",
    "# creo una lista de los periodos de venta\n",
    "periodos = out_kingdom.Periodo.value_counts().reset_index(name='cantidad')\n",
    "lista_periodos = periodos['index']\n",
    "\n",
    "# funcion que calcula el promedio dependiendo de el periodo \n",
    "def cantidad_facturas(data):\n",
    "    \n",
    "    lista_cantidad = []\n",
    "    \n",
    "    for i in lista_periodos:\n",
    "        mini_df = data[data['Periodo'] == i]\n",
    "        cantidad_f = len(mini_df['N_factura'])\n",
    "        \n",
    "        lista_cantidad.append(cantidad_f)\n",
    "    \n",
    "    return lista_cantidad\n",
    "\n",
    "lista_cantidad = cantidad_facturas(Out_kingdom)\n",
    "\n",
    "# organizare el periodo en orden\n",
    "indices_periodo = np.argsort(lista_periodos)\n",
    "# organizo las lista en orden ascendente de los periodos\n",
    "periodos = [lista_periodos[i] for i in indices_periodo]\n",
    "cantidad = [lista_cantidad[i] for i in indices_periodo]"
   ]
  },
  {
   "cell_type": "code",
   "execution_count": 191,
   "id": "87d7fa70",
   "metadata": {},
   "outputs": [
    {
     "name": "stdout",
     "output_type": "stream",
     "text": [
      "16673\n"
     ]
    }
   ],
   "source": [
    "x= sum(cantidad)\n",
    "print(x)"
   ]
  },
  {
   "cell_type": "code",
   "execution_count": 192,
   "id": "852bdfcf",
   "metadata": {},
   "outputs": [
    {
     "data": {
      "image/png": "[encoded data removed]",
      "text/plain": [
       "<Figure size 504x504 with 1 Axes>"
      ]
     },
     "metadata": {
      "needs_background": "light"
     },
     "output_type": "display_data"
    }
   ],
   "source": [
    "fig, ax = plt.subplots(figsize=(7,7))\n",
    "fig.subplots_adjust(hspace=0.5)\n",
    "\n",
    "sns.barplot(x=periodos, y=cantidad)\n",
    "ax.tick_params(axis='x', rotation=30);"
   ]
  },
  {
   "cell_type": "code",
   "execution_count": 193,
   "id": "15e527e6",
   "metadata": {},
   "outputs": [
    {
     "data": {
      "text/plain": [
       "18562"
      ]
     },
     "execution_count": 193,
     "metadata": {},
     "output_type": "execute_result"
    }
   ],
   "source": []
  },
  {
   "cell_type": "markdown",
   "id": "5d6da4e5",
   "metadata": {},
   "source": []
  },
  {
   "cell_type": "code",
   "execution_count": 186,
   "id": "69bc1adf",
   "metadata": {},
   "outputs": [
    {
     "data": {
      "text/html": [
       "<div>\n",
       "<style scoped>\n",
       "    .dataframe tbody tr th:only-of-type {\n",
       "        vertical-align: middle;\n",
       "    }\n",
       "\n",
       "    .dataframe tbody tr th {\n",
       "        vertical-align: top;\n",
       "    }\n",
       "\n",
       "    .dataframe thead th {\n",
       "        text-align: right;\n",
       "    }\n",
       "</style>\n",
       "<table border=\"1\" class=\"dataframe\">\n",
       "  <thead>\n",
       "    <tr style=\"text-align: right;\">\n",
       "      <th></th>\n",
       "      <th>Unnamed: 0</th>\n",
       "      <th>N_factura</th>\n",
       "      <th>ID_Cliente</th>\n",
       "      <th>País</th>\n",
       "      <th>Cantidad</th>\n",
       "      <th>Monto</th>\n",
       "      <th>Fecha</th>\n",
       "      <th>Continente</th>\n",
       "      <th>Mes</th>\n",
       "      <th>Dia</th>\n",
       "      <th>Año</th>\n",
       "      <th>Periodo</th>\n",
       "      <th>Out_kingdom</th>\n",
       "      <th>Volumen_cantidad</th>\n",
       "    </tr>\n",
       "  </thead>\n",
       "  <tbody>\n",
       "    <tr>\n",
       "      <th>0</th>\n",
       "      <td>0</td>\n",
       "      <td>548370</td>\n",
       "      <td>15528.0</td>\n",
       "      <td>United Kingdom</td>\n",
       "      <td>123</td>\n",
       "      <td>229.33</td>\n",
       "      <td>2021-03-30 16:14:00</td>\n",
       "      <td>Europa</td>\n",
       "      <td>Marzo</td>\n",
       "      <td>30</td>\n",
       "      <td>2021</td>\n",
       "      <td>2021 03</td>\n",
       "      <td>0</td>\n",
       "      <td>100&lt;=x&lt;=200</td>\n",
       "    </tr>\n",
       "    <tr>\n",
       "      <th>1</th>\n",
       "      <td>1</td>\n",
       "      <td>575767</td>\n",
       "      <td>17348.0</td>\n",
       "      <td>United Kingdom</td>\n",
       "      <td>163</td>\n",
       "      <td>209.73</td>\n",
       "      <td>2021-11-11 11:11:00</td>\n",
       "      <td>Europa</td>\n",
       "      <td>Noviembre</td>\n",
       "      <td>11</td>\n",
       "      <td>2021</td>\n",
       "      <td>2021 11</td>\n",
       "      <td>0</td>\n",
       "      <td>100&lt;=x&lt;=200</td>\n",
       "    </tr>\n",
       "    <tr>\n",
       "      <th>2</th>\n",
       "      <td>3</td>\n",
       "      <td>549106</td>\n",
       "      <td>17045.0</td>\n",
       "      <td>United Kingdom</td>\n",
       "      <td>1</td>\n",
       "      <td>39.95</td>\n",
       "      <td>2021-04-06 12:08:00</td>\n",
       "      <td>Europa</td>\n",
       "      <td>Abril</td>\n",
       "      <td>6</td>\n",
       "      <td>2021</td>\n",
       "      <td>2021 04</td>\n",
       "      <td>0</td>\n",
       "      <td>x&lt;50</td>\n",
       "    </tr>\n",
       "    <tr>\n",
       "      <th>3</th>\n",
       "      <td>4</td>\n",
       "      <td>573112</td>\n",
       "      <td>16416.0</td>\n",
       "      <td>United Kingdom</td>\n",
       "      <td>357</td>\n",
       "      <td>344.83</td>\n",
       "      <td>2021-10-27 15:33:00</td>\n",
       "      <td>Europa</td>\n",
       "      <td>Octubre</td>\n",
       "      <td>27</td>\n",
       "      <td>2021</td>\n",
       "      <td>2021 10</td>\n",
       "      <td>0</td>\n",
       "      <td>300&lt;=x&lt;=400</td>\n",
       "    </tr>\n",
       "    <tr>\n",
       "      <th>4</th>\n",
       "      <td>5</td>\n",
       "      <td>576630</td>\n",
       "      <td>13816.0</td>\n",
       "      <td>Germany</td>\n",
       "      <td>91</td>\n",
       "      <td>199.98</td>\n",
       "      <td>2021-11-16 08:38:00</td>\n",
       "      <td>Europa</td>\n",
       "      <td>Noviembre</td>\n",
       "      <td>16</td>\n",
       "      <td>2021</td>\n",
       "      <td>2021 11</td>\n",
       "      <td>1</td>\n",
       "      <td>50&lt;=x&lt;=100</td>\n",
       "    </tr>\n",
       "    <tr>\n",
       "      <th>5</th>\n",
       "      <td>6</td>\n",
       "      <td>538125</td>\n",
       "      <td>18225.0</td>\n",
       "      <td>United Kingdom</td>\n",
       "      <td>16</td>\n",
       "      <td>30.00</td>\n",
       "      <td>2020-12-09 15:46:00</td>\n",
       "      <td>Europa</td>\n",
       "      <td>Diciembre</td>\n",
       "      <td>9</td>\n",
       "      <td>2020</td>\n",
       "      <td>2020 12</td>\n",
       "      <td>0</td>\n",
       "      <td>x&lt;50</td>\n",
       "    </tr>\n",
       "    <tr>\n",
       "      <th>6</th>\n",
       "      <td>7</td>\n",
       "      <td>544354</td>\n",
       "      <td>13489.0</td>\n",
       "      <td>United Kingdom</td>\n",
       "      <td>64</td>\n",
       "      <td>77.28</td>\n",
       "      <td>2021-02-18 10:42:00</td>\n",
       "      <td>Europa</td>\n",
       "      <td>Febrero</td>\n",
       "      <td>18</td>\n",
       "      <td>2021</td>\n",
       "      <td>2021 02</td>\n",
       "      <td>0</td>\n",
       "      <td>50&lt;=x&lt;=100</td>\n",
       "    </tr>\n",
       "    <tr>\n",
       "      <th>7</th>\n",
       "      <td>8</td>\n",
       "      <td>546369</td>\n",
       "      <td>15513.0</td>\n",
       "      <td>United Kingdom</td>\n",
       "      <td>10</td>\n",
       "      <td>67.50</td>\n",
       "      <td>2021-03-11 11:41:00</td>\n",
       "      <td>Europa</td>\n",
       "      <td>Marzo</td>\n",
       "      <td>11</td>\n",
       "      <td>2021</td>\n",
       "      <td>2021 03</td>\n",
       "      <td>0</td>\n",
       "      <td>x&lt;50</td>\n",
       "    </tr>\n",
       "    <tr>\n",
       "      <th>8</th>\n",
       "      <td>9</td>\n",
       "      <td>570651</td>\n",
       "      <td>14911.0</td>\n",
       "      <td>EIRE</td>\n",
       "      <td>86</td>\n",
       "      <td>321.35</td>\n",
       "      <td>2021-10-11 13:34:00</td>\n",
       "      <td>Europa</td>\n",
       "      <td>Octubre</td>\n",
       "      <td>11</td>\n",
       "      <td>2021</td>\n",
       "      <td>2021 10</td>\n",
       "      <td>1</td>\n",
       "      <td>50&lt;=x&lt;=100</td>\n",
       "    </tr>\n",
       "    <tr>\n",
       "      <th>9</th>\n",
       "      <td>13</td>\n",
       "      <td>575581</td>\n",
       "      <td>12659.0</td>\n",
       "      <td>France</td>\n",
       "      <td>105</td>\n",
       "      <td>91.68</td>\n",
       "      <td>2021-11-10 11:53:00</td>\n",
       "      <td>Europa</td>\n",
       "      <td>Noviembre</td>\n",
       "      <td>10</td>\n",
       "      <td>2021</td>\n",
       "      <td>2021 11</td>\n",
       "      <td>1</td>\n",
       "      <td>100&lt;=x&lt;=200</td>\n",
       "    </tr>\n",
       "  </tbody>\n",
       "</table>\n",
       "</div>"
      ],
      "text/plain": [
       "   Unnamed: 0  N_factura  ID_Cliente            País  Cantidad   Monto  \\\n",
       "0           0     548370     15528.0  United Kingdom       123  229.33   \n",
       "1           1     575767     17348.0  United Kingdom       163  209.73   \n",
       "2           3     549106     17045.0  United Kingdom         1   39.95   \n",
       "3           4     573112     16416.0  United Kingdom       357  344.83   \n",
       "4           5     576630     13816.0         Germany        91  199.98   \n",
       "5           6     538125     18225.0  United Kingdom        16   30.00   \n",
       "6           7     544354     13489.0  United Kingdom        64   77.28   \n",
       "7           8     546369     15513.0  United Kingdom        10   67.50   \n",
       "8           9     570651     14911.0            EIRE        86  321.35   \n",
       "9          13     575581     12659.0          France       105   91.68   \n",
       "\n",
       "                 Fecha Continente        Mes  Dia   Año  Periodo  Out_kingdom  \\\n",
       "0  2021-03-30 16:14:00     Europa      Marzo   30  2021  2021 03            0   \n",
       "1  2021-11-11 11:11:00     Europa  Noviembre   11  2021  2021 11            0   \n",
       "2  2021-04-06 12:08:00     Europa      Abril    6  2021  2021 04            0   \n",
       "3  2021-10-27 15:33:00     Europa    Octubre   27  2021  2021 10            0   \n",
       "4  2021-11-16 08:38:00     Europa  Noviembre   16  2021  2021 11            1   \n",
       "5  2020-12-09 15:46:00     Europa  Diciembre    9  2020  2020 12            0   \n",
       "6  2021-02-18 10:42:00     Europa    Febrero   18  2021  2021 02            0   \n",
       "7  2021-03-11 11:41:00     Europa      Marzo   11  2021  2021 03            0   \n",
       "8  2021-10-11 13:34:00     Europa    Octubre   11  2021  2021 10            1   \n",
       "9  2021-11-10 11:53:00     Europa  Noviembre   10  2021  2021 11            1   \n",
       "\n",
       "  Volumen_cantidad  \n",
       "0      100<=x<=200  \n",
       "1      100<=x<=200  \n",
       "2             x<50  \n",
       "3      300<=x<=400  \n",
       "4       50<=x<=100  \n",
       "5             x<50  \n",
       "6       50<=x<=100  \n",
       "7             x<50  \n",
       "8       50<=x<=100  \n",
       "9      100<=x<=200  "
      ]
     },
     "execution_count": 186,
     "metadata": {},
     "output_type": "execute_result"
    }
   ],
   "source": [
    "data.head(10)"
   ]
  },
  {
   "cell_type": "code",
   "execution_count": null,
   "id": "c183ad0c",
   "metadata": {},
   "outputs": [],
   "source": []
  },
  {
   "cell_type": "markdown",
   "id": "48ac99e2",
   "metadata": {},
   "source": [
    "## 4) cuanto gasta en promedio un cliente (2021)\n",
    "\n",
    "- **Valor promedio de compra (VCP).** Se refiere al valor promedio de compra que cada cliente realizan en tu negocio. Se calcula dividiendo el total ingresado durante el último año entre el número de compras realizadas para todos los clientes."
   ]
  },
  {
   "cell_type": "code",
   "execution_count": 9,
   "id": "7768c6ec",
   "metadata": {},
   "outputs": [
    {
     "name": "stdout",
     "output_type": "stream",
     "text": [
      "485.9095629625309\n"
     ]
    }
   ],
   "source": [
    "# total de ventas\n",
    "tabla_2021 = data[data['Año'] > 2020]\n",
    "ventas = tabla_2021['Monto']\n",
    "total_ventas = sum(ventas)\n",
    "\n",
    "# cantidad de clientes\n",
    "total_compra = tabla_2021.shape[0]\n",
    "\n",
    "vcp = total_ventas / total_compra\n",
    "print(vcp)"
   ]
  },
  {
   "cell_type": "markdown",
   "id": "d76455ba",
   "metadata": {},
   "source": [
    "**El promedio de compras de un cliente es de 485.90**"
   ]
  },
  {
   "cell_type": "markdown",
   "id": "de2239b6",
   "metadata": {},
   "source": [
    "## 5) tasa de frecuencia de compras\n",
    "\n",
    "-   Tasa de frecuencia de compra (TFC). Se refiere al número de pedidos en en el periodo escogido. Se divide el número total de compras realizadas entre el total de clientes.\n",
    "\n"
   ]
  },
  {
   "cell_type": "code",
   "execution_count": 10,
   "id": "1943fcee",
   "metadata": {},
   "outputs": [
    {
     "name": "stdout",
     "output_type": "stream",
     "text": [
      "4.067551552500593\n"
     ]
    }
   ],
   "source": [
    "## total de compras realizadas\n",
    "compras_2021 = data[data['Año'] > 2020]\n",
    "total_compras = compras_2021.shape[0]\n",
    "\n",
    "## cantidad de clientes\n",
    "total_clientes = compras_2021['ID_Cliente']\n",
    "total_clientes = set(total_clientes)\n",
    "\n",
    "## calcula de TFC\n",
    "tfc = total_compras / len(total_clientes)\n",
    "\n",
    "print(tfc)"
   ]
  },
  {
   "cell_type": "markdown",
   "id": "c9321f6b",
   "metadata": {},
   "source": [
    "**el numero de pedidos que hace un cliente en el periodo 2021 es de 4.06 pedidos**"
   ]
  },
  {
   "cell_type": "markdown",
   "id": "966d2397",
   "metadata": {},
   "source": [
    "## VALOR PROMEDIO DEL CLIENTE // COSTUMMER VALUE\n",
    "\n",
    "Ahora, multiplica el VPC por el TFC para obtener el Valor Promedio de Cliente o Customer Value (CV) = VCP x TFC"
   ]
  },
  {
   "cell_type": "code",
   "execution_count": 11,
   "id": "a2a4a6b4",
   "metadata": {},
   "outputs": [
    {
     "name": "stdout",
     "output_type": "stream",
     "text": [
      "1976.462197203127\n"
     ]
    }
   ],
   "source": [
    "vc = vcp * tfc\n",
    "print(vc)"
   ]
  },
  {
   "cell_type": "markdown",
   "id": "8322fd09",
   "metadata": {},
   "source": [
    "**El valor promedio de un cliente es de 1976.46**"
   ]
  },
  {
   "cell_type": "markdown",
   "id": "abc96bdd",
   "metadata": {},
   "source": [
    "## ¿Cantidad de articulos vendidos?\n"
   ]
  },
  {
   "cell_type": "code",
   "execution_count": 197,
   "id": "4390c4fc",
   "metadata": {},
   "outputs": [
    {
     "data": {
      "image/png": "[encoded data removed]",
      "text/plain": [
       "<Figure size 504x504 with 1 Axes>"
      ]
     },
     "metadata": {
      "needs_background": "light"
     },
     "output_type": "display_data"
    }
   ],
   "source": [
    "fig, ax = plt.subplots(figsize=(7,7))\n",
    "fig.subplots_adjust(hspace=0.5)\n",
    "\n",
    "sns.countplot(data=data, x='Volumen_cantidad')\n",
    "ax.tick_params(axis='x', rotation=30);\n",
    "\n"
   ]
  },
  {
   "cell_type": "markdown",
   "id": "ace790dc",
   "metadata": {},
   "source": [
    "# promedio de compra por paises"
   ]
  },
  {
   "cell_type": "code",
   "execution_count": 205,
   "id": "44156a7e",
   "metadata": {},
   "outputs": [],
   "source": [
    "\n",
    "# creo una lista de los periodos de venta\n",
    "paises = data.País.value_counts().reset_index(name='cantidad')\n",
    "lista_paises = paises['index']\n",
    "\n",
    "# funcion que calcula el promedio dependiendo de el periodo \n",
    "def promedio_pais(data):\n",
    "    \n",
    "    lista_promedio = []\n",
    "    \n",
    "    for i in lista_paises:\n",
    "        mini_df = data[data['País'] == i]\n",
    "        promedio_pais =  mini_df['Monto'].mean()\n",
    "        \n",
    "        lista_promedio.append(promedio_pais)\n",
    "    \n",
    "    return(lista_promedio)\n",
    "\n",
    "lista_promedio = promedio_pais(data)\n",
    "\n"
   ]
  },
  {
   "cell_type": "code",
   "execution_count": 209,
   "id": "2499e128",
   "metadata": {},
   "outputs": [
    {
     "data": {
      "image/png": "[encoded data removed]",
      "text/plain": [
       "<Figure size 504x504 with 1 Axes>"
      ]
     },
     "metadata": {
      "needs_background": "light"
     },
     "output_type": "display_data"
    }
   ],
   "source": [
    "fig, ax = plt.subplots(figsize=(7,7))\n",
    "fig.subplots_adjust(hspace=0.5)\n",
    "\n",
    "sns.barplot(y=lista_paises, x=lista_promedio)\n",
    "ax.tick_params(axis='x', rotation=1);\n",
    "\n"
   ]
  },
  {
   "cell_type": "code",
   "execution_count": null,
   "id": "48feda80",
   "metadata": {},
   "outputs": [],
   "source": []
  },
  {
   "cell_type": "markdown",
   "id": "d507f7c1",
   "metadata": {},
   "source": [
    "## calculo de la MEDIANA"
   ]
  },
  {
   "cell_type": "code",
   "execution_count": 333,
   "id": "4865666f",
   "metadata": {},
   "outputs": [],
   "source": [
    "from statistics import median\n",
    "\n",
    "#creo una lista de los paises\n",
    "paises = data.País.value_counts().reset_index(name='cantidad')\n",
    "lista_paises = paises['index']\n",
    "\n",
    "def calculo_mediana(data):\n",
    "    \n",
    "    mediana = []\n",
    "    \n",
    "    for i in lista_paises:\n",
    "        \n",
    "        mini_d = data[data['País'] == i]\n",
    "        valor=median(mini_d['Monto'])\n",
    "        \n",
    "        mediana.append(valor)\n",
    "    \n",
    "    return(mediana)\n",
    "lista_medianas = calculo_mediana(data)   \n",
    "\n"
   ]
  },
  {
   "cell_type": "code",
   "execution_count": 335,
   "id": "33717276",
   "metadata": {},
   "outputs": [
    {
     "data": {
      "image/png": "[encoded data removed]",
      "text/plain": [
       "<Figure size 504x504 with 1 Axes>"
      ]
     },
     "metadata": {
      "needs_background": "light"
     },
     "output_type": "display_data"
    }
   ],
   "source": [
    "fig, ax = plt.subplots(figsize=(7,7))\n",
    "fig.subplots_adjust(hspace=0.5)\n",
    "\n",
    "sns.barplot(y=lista_paises, x=lista_medianas)\n",
    "ax.tick_params(axis='x', rotation=1);\n",
    "\n"
   ]
  },
  {
   "cell_type": "code",
   "execution_count": null,
   "id": "0da4a31d",
   "metadata": {},
   "outputs": [],
   "source": []
  },
  {
   "cell_type": "code",
   "execution_count": null,
   "id": "91c0d18a",
   "metadata": {},
   "outputs": [],
   "source": []
  },
  {
   "cell_type": "code",
   "execution_count": null,
   "id": "e30cd2cf",
   "metadata": {},
   "outputs": [],
   "source": []
  },
  {
   "cell_type": "code",
   "execution_count": 319,
   "id": "c1480247",
   "metadata": {},
   "outputs": [
    {
     "name": "stdout",
     "output_type": "stream",
     "text": [
      "es inpar\n",
      "es inpar\n",
      "es par\n"
     ]
    },
    {
     "ename": "KeyError",
     "evalue": "194",
     "output_type": "error",
     "traceback": [
      "\u001b[0;31m---------------------------------------------------------------------------\u001b[0m",
      "\u001b[0;31mKeyError\u001b[0m                                  Traceback (most recent call last)",
      "File \u001b[0;32m~/anaconda3/lib/python3.9/site-packages/pandas/core/indexes/base.py:3621\u001b[0m, in \u001b[0;36mIndex.get_loc\u001b[0;34m(self, key, method, tolerance)\u001b[0m\n\u001b[1;32m   3620\u001b[0m \u001b[38;5;28;01mtry\u001b[39;00m:\n\u001b[0;32m-> 3621\u001b[0m     \u001b[38;5;28;01mreturn\u001b[39;00m \u001b[38;5;28;43mself\u001b[39;49m\u001b[38;5;241;43m.\u001b[39;49m\u001b[43m_engine\u001b[49m\u001b[38;5;241;43m.\u001b[39;49m\u001b[43mget_loc\u001b[49m\u001b[43m(\u001b[49m\u001b[43mcasted_key\u001b[49m\u001b[43m)\u001b[49m\n\u001b[1;32m   3622\u001b[0m \u001b[38;5;28;01mexcept\u001b[39;00m \u001b[38;5;167;01mKeyError\u001b[39;00m \u001b[38;5;28;01mas\u001b[39;00m err:\n",
      "File \u001b[0;32m~/anaconda3/lib/python3.9/site-packages/pandas/_libs/index.pyx:136\u001b[0m, in \u001b[0;36mpandas._libs.index.IndexEngine.get_loc\u001b[0;34m()\u001b[0m\n",
      "File \u001b[0;32m~/anaconda3/lib/python3.9/site-packages/pandas/_libs/index.pyx:163\u001b[0m, in \u001b[0;36mpandas._libs.index.IndexEngine.get_loc\u001b[0;34m()\u001b[0m\n",
      "File \u001b[0;32mpandas/_libs/hashtable_class_helper.pxi:5198\u001b[0m, in \u001b[0;36mpandas._libs.hashtable.PyObjectHashTable.get_item\u001b[0;34m()\u001b[0m\n",
      "File \u001b[0;32mpandas/_libs/hashtable_class_helper.pxi:5206\u001b[0m, in \u001b[0;36mpandas._libs.hashtable.PyObjectHashTable.get_item\u001b[0;34m()\u001b[0m\n",
      "\u001b[0;31mKeyError\u001b[0m: 194",
      "\nThe above exception was the direct cause of the following exception:\n",
      "\u001b[0;31mKeyError\u001b[0m                                  Traceback (most recent call last)",
      "Input \u001b[0;32mIn [319]\u001b[0m, in \u001b[0;36m<cell line: 31>\u001b[0;34m()\u001b[0m\n\u001b[1;32m     27\u001b[0m             mediana\u001b[38;5;241m.\u001b[39mappend(valor)\n\u001b[1;32m     29\u001b[0m     \u001b[38;5;28;01mreturn\u001b[39;00m(mediana)\n\u001b[0;32m---> 31\u001b[0m mediana \u001b[38;5;241m=\u001b[39m \u001b[43mcalculo_mediana\u001b[49m\u001b[43m(\u001b[49m\u001b[43mdata\u001b[49m\u001b[43m)\u001b[49m\n\u001b[1;32m     32\u001b[0m \u001b[38;5;28mprint\u001b[39m(mediana)\n",
      "Input \u001b[0;32mIn [319]\u001b[0m, in \u001b[0;36mcalculo_mediana\u001b[0;34m(data)\u001b[0m\n\u001b[1;32m     17\u001b[0m     y \u001b[38;5;241m=\u001b[39m \u001b[38;5;28mround\u001b[39m((\u001b[38;5;28mlen\u001b[39m(monto_ordenado)\u001b[38;5;241m/\u001b[39m\u001b[38;5;241m2\u001b[39m))\n\u001b[1;32m     18\u001b[0m     z \u001b[38;5;241m=\u001b[39m \u001b[38;5;28mround\u001b[39m(y \u001b[38;5;241m-\u001b[39m \u001b[38;5;241m1\u001b[39m)\n\u001b[0;32m---> 19\u001b[0m     valor \u001b[38;5;241m=\u001b[39m (\u001b[43mmini_d\u001b[49m\u001b[43m[\u001b[49m\u001b[43mz\u001b[49m\u001b[43m]\u001b[49m \u001b[38;5;241m+\u001b[39m mini_d[y]) \u001b[38;5;241m/\u001b[39m \u001b[38;5;241m2\u001b[39m\n\u001b[1;32m     20\u001b[0m     mediana\u001b[38;5;241m.\u001b[39mappend(valor)\n\u001b[1;32m     22\u001b[0m \u001b[38;5;28;01melif\u001b[39;00m \u001b[38;5;28mlen\u001b[39m(monto_ordenado) \u001b[38;5;241m%\u001b[39m \u001b[38;5;241m2\u001b[39m \u001b[38;5;241m!=\u001b[39m \u001b[38;5;241m0\u001b[39m:\n",
      "File \u001b[0;32m~/anaconda3/lib/python3.9/site-packages/pandas/core/frame.py:3505\u001b[0m, in \u001b[0;36mDataFrame.__getitem__\u001b[0;34m(self, key)\u001b[0m\n\u001b[1;32m   3503\u001b[0m \u001b[38;5;28;01mif\u001b[39;00m \u001b[38;5;28mself\u001b[39m\u001b[38;5;241m.\u001b[39mcolumns\u001b[38;5;241m.\u001b[39mnlevels \u001b[38;5;241m>\u001b[39m \u001b[38;5;241m1\u001b[39m:\n\u001b[1;32m   3504\u001b[0m     \u001b[38;5;28;01mreturn\u001b[39;00m \u001b[38;5;28mself\u001b[39m\u001b[38;5;241m.\u001b[39m_getitem_multilevel(key)\n\u001b[0;32m-> 3505\u001b[0m indexer \u001b[38;5;241m=\u001b[39m \u001b[38;5;28;43mself\u001b[39;49m\u001b[38;5;241;43m.\u001b[39;49m\u001b[43mcolumns\u001b[49m\u001b[38;5;241;43m.\u001b[39;49m\u001b[43mget_loc\u001b[49m\u001b[43m(\u001b[49m\u001b[43mkey\u001b[49m\u001b[43m)\u001b[49m\n\u001b[1;32m   3506\u001b[0m \u001b[38;5;28;01mif\u001b[39;00m is_integer(indexer):\n\u001b[1;32m   3507\u001b[0m     indexer \u001b[38;5;241m=\u001b[39m [indexer]\n",
      "File \u001b[0;32m~/anaconda3/lib/python3.9/site-packages/pandas/core/indexes/base.py:3623\u001b[0m, in \u001b[0;36mIndex.get_loc\u001b[0;34m(self, key, method, tolerance)\u001b[0m\n\u001b[1;32m   3621\u001b[0m     \u001b[38;5;28;01mreturn\u001b[39;00m \u001b[38;5;28mself\u001b[39m\u001b[38;5;241m.\u001b[39m_engine\u001b[38;5;241m.\u001b[39mget_loc(casted_key)\n\u001b[1;32m   3622\u001b[0m \u001b[38;5;28;01mexcept\u001b[39;00m \u001b[38;5;167;01mKeyError\u001b[39;00m \u001b[38;5;28;01mas\u001b[39;00m err:\n\u001b[0;32m-> 3623\u001b[0m     \u001b[38;5;28;01mraise\u001b[39;00m \u001b[38;5;167;01mKeyError\u001b[39;00m(key) \u001b[38;5;28;01mfrom\u001b[39;00m \u001b[38;5;21;01merr\u001b[39;00m\n\u001b[1;32m   3624\u001b[0m \u001b[38;5;28;01mexcept\u001b[39;00m \u001b[38;5;167;01mTypeError\u001b[39;00m:\n\u001b[1;32m   3625\u001b[0m     \u001b[38;5;66;03m# If we have a listlike key, _check_indexing_error will raise\u001b[39;00m\n\u001b[1;32m   3626\u001b[0m     \u001b[38;5;66;03m#  InvalidIndexError. Otherwise we fall through and re-raise\u001b[39;00m\n\u001b[1;32m   3627\u001b[0m     \u001b[38;5;66;03m#  the TypeError.\u001b[39;00m\n\u001b[1;32m   3628\u001b[0m     \u001b[38;5;28mself\u001b[39m\u001b[38;5;241m.\u001b[39m_check_indexing_error(key)\n",
      "\u001b[0;31mKeyError\u001b[0m: 194"
     ]
    }
   ],
   "source": [
    "#creo una lista de los paises\n",
    "paises = data.País.value_counts().reset_index(name='cantidad')\n",
    "lista_paises = paises['index']\n",
    "\n",
    "# funcion que calcula la media\n",
    "def calculo_mediana(data):\n",
    "    \n",
    "    for i in lista_paises:\n",
    "        \n",
    "        mini_d = data[data['País'] == i]\n",
    "        monto_ordenado = np.sort(mini_d['Monto'])\n",
    "        mediana = []\n",
    "\n",
    "        if len(monto_ordenado) % 2 == 0:\n",
    "            print('es par')\n",
    "\n",
    "            y = round((len(monto_ordenado)/2))\n",
    "            z = round(y - 1)\n",
    "            valor = (mini_d[z] + mini_d[y]) / 2\n",
    "            mediana.append(valor)\n",
    "\n",
    "        elif len(monto_ordenado) % 2 != 0:\n",
    "            print('es inpar')\n",
    "\n",
    "            y = round(len(monto_ordenado)/2)\n",
    "            valor = (monto_ordenado[y])\n",
    "            mediana.append(valor)\n",
    "\n",
    "    return(mediana)\n",
    "\n",
    "mediana = calculo_mediana(data)\n",
    "print(mediana)"
   ]
  },
  {
   "cell_type": "code",
   "execution_count": null,
   "id": "b807aff7",
   "metadata": {},
   "outputs": [],
   "source": []
  },
  {
   "cell_type": "code",
   "execution_count": null,
   "id": "ee2f8d3b",
   "metadata": {},
   "outputs": [],
   "source": []
  },
  {
   "cell_type": "code",
   "execution_count": null,
   "id": "edea77d8",
   "metadata": {},
   "outputs": [],
   "source": []
  },
  {
   "cell_type": "code",
   "execution_count": 304,
   "id": "e7bd9fee",
   "metadata": {},
   "outputs": [
    {
     "name": "stdout",
     "output_type": "stream",
     "text": [
      "40\n",
      "20.0\n"
     ]
    }
   ],
   "source": [
    "# promedio\n",
    "numeros =[2,3,4,1,5,6,7,8,4,5,7,4,52,3,4,3,35,6,4,6,7,8,9,1,10,34,5,6,7,8,1,2,3,4,5,6,7,8,9,2]\n",
    "x = len(numeros)\n",
    "print(x)\n",
    "y = x/2\n",
    "print(y)"
   ]
  },
  {
   "cell_type": "code",
   "execution_count": 309,
   "id": "47afcd6c",
   "metadata": {},
   "outputs": [
    {
     "name": "stdout",
     "output_type": "stream",
     "text": [
      "es par\n",
      "40\n",
      "[6.0]\n"
     ]
    }
   ],
   "source": [
    "# funcion que calcula la media\n",
    "numeros =[2,3,4,1,5,6,7,8,4,5,7,4,52,3,4,3,35,6,4,6,7,8,9,1,10,34,5,6,7,8,1,2,3,4,5,6,7,8,9,9]\n",
    "\n",
    "def calculo_mediana(data):\n",
    "    \n",
    "    x = np.sort(data)\n",
    "    mediana = []\n",
    "    \n",
    "    if len(x) % 2 == 0:\n",
    "        print('es par')\n",
    "        \n",
    "        y = round((len(x)/2))\n",
    "        valor = (x[y-1] + x[y]) / 2\n",
    "        mediana.append(valor)\n",
    "        \n",
    "    elif len(x) % 2 != 0:\n",
    "        print('es inpar')\n",
    "        \n",
    "        y = round(len(x)/2)\n",
    "        valor = (x[y])\n",
    "        mediana.append(valor)\n",
    "        \n",
    "    return(mediana)\n",
    "\n",
    "mediana = calculo_mediana(numeros)\n",
    "print(len(numeros))\n",
    "print(mediana)"
   ]
  },
  {
   "cell_type": "code",
   "execution_count": 220,
   "id": "7dcb7230",
   "metadata": {},
   "outputs": [
    {
     "data": {
      "text/plain": [
       "1"
      ]
     },
     "execution_count": 220,
     "metadata": {},
     "output_type": "execute_result"
    }
   ],
   "source": [
    "x = len(numeros) % 2\n",
    "x"
   ]
  },
  {
   "cell_type": "code",
   "execution_count": 198,
   "id": "f4283bca",
   "metadata": {},
   "outputs": [
    {
     "data": {
      "text/html": [
       "<div>\n",
       "<style scoped>\n",
       "    .dataframe tbody tr th:only-of-type {\n",
       "        vertical-align: middle;\n",
       "    }\n",
       "\n",
       "    .dataframe tbody tr th {\n",
       "        vertical-align: top;\n",
       "    }\n",
       "\n",
       "    .dataframe thead th {\n",
       "        text-align: right;\n",
       "    }\n",
       "</style>\n",
       "<table border=\"1\" class=\"dataframe\">\n",
       "  <thead>\n",
       "    <tr style=\"text-align: right;\">\n",
       "      <th></th>\n",
       "      <th>Unnamed: 0</th>\n",
       "      <th>N_factura</th>\n",
       "      <th>ID_Cliente</th>\n",
       "      <th>País</th>\n",
       "      <th>Cantidad</th>\n",
       "      <th>Monto</th>\n",
       "      <th>Fecha</th>\n",
       "      <th>Continente</th>\n",
       "      <th>Mes</th>\n",
       "      <th>Dia</th>\n",
       "      <th>Año</th>\n",
       "      <th>Periodo</th>\n",
       "      <th>Out_kingdom</th>\n",
       "      <th>Volumen_cantidad</th>\n",
       "    </tr>\n",
       "  </thead>\n",
       "  <tbody>\n",
       "    <tr>\n",
       "      <th>0</th>\n",
       "      <td>0</td>\n",
       "      <td>548370</td>\n",
       "      <td>15528.0</td>\n",
       "      <td>United Kingdom</td>\n",
       "      <td>123</td>\n",
       "      <td>229.33</td>\n",
       "      <td>2021-03-30 16:14:00</td>\n",
       "      <td>Europa</td>\n",
       "      <td>Marzo</td>\n",
       "      <td>30</td>\n",
       "      <td>2021</td>\n",
       "      <td>2021 03</td>\n",
       "      <td>0</td>\n",
       "      <td>100&lt;=x&lt;=200</td>\n",
       "    </tr>\n",
       "    <tr>\n",
       "      <th>1</th>\n",
       "      <td>1</td>\n",
       "      <td>575767</td>\n",
       "      <td>17348.0</td>\n",
       "      <td>United Kingdom</td>\n",
       "      <td>163</td>\n",
       "      <td>209.73</td>\n",
       "      <td>2021-11-11 11:11:00</td>\n",
       "      <td>Europa</td>\n",
       "      <td>Noviembre</td>\n",
       "      <td>11</td>\n",
       "      <td>2021</td>\n",
       "      <td>2021 11</td>\n",
       "      <td>0</td>\n",
       "      <td>100&lt;=x&lt;=200</td>\n",
       "    </tr>\n",
       "    <tr>\n",
       "      <th>2</th>\n",
       "      <td>3</td>\n",
       "      <td>549106</td>\n",
       "      <td>17045.0</td>\n",
       "      <td>United Kingdom</td>\n",
       "      <td>1</td>\n",
       "      <td>39.95</td>\n",
       "      <td>2021-04-06 12:08:00</td>\n",
       "      <td>Europa</td>\n",
       "      <td>Abril</td>\n",
       "      <td>6</td>\n",
       "      <td>2021</td>\n",
       "      <td>2021 04</td>\n",
       "      <td>0</td>\n",
       "      <td>x&lt;50</td>\n",
       "    </tr>\n",
       "    <tr>\n",
       "      <th>3</th>\n",
       "      <td>4</td>\n",
       "      <td>573112</td>\n",
       "      <td>16416.0</td>\n",
       "      <td>United Kingdom</td>\n",
       "      <td>357</td>\n",
       "      <td>344.83</td>\n",
       "      <td>2021-10-27 15:33:00</td>\n",
       "      <td>Europa</td>\n",
       "      <td>Octubre</td>\n",
       "      <td>27</td>\n",
       "      <td>2021</td>\n",
       "      <td>2021 10</td>\n",
       "      <td>0</td>\n",
       "      <td>300&lt;=x&lt;=400</td>\n",
       "    </tr>\n",
       "    <tr>\n",
       "      <th>4</th>\n",
       "      <td>5</td>\n",
       "      <td>576630</td>\n",
       "      <td>13816.0</td>\n",
       "      <td>Germany</td>\n",
       "      <td>91</td>\n",
       "      <td>199.98</td>\n",
       "      <td>2021-11-16 08:38:00</td>\n",
       "      <td>Europa</td>\n",
       "      <td>Noviembre</td>\n",
       "      <td>16</td>\n",
       "      <td>2021</td>\n",
       "      <td>2021 11</td>\n",
       "      <td>1</td>\n",
       "      <td>50&lt;=x&lt;=100</td>\n",
       "    </tr>\n",
       "  </tbody>\n",
       "</table>\n",
       "</div>"
      ],
      "text/plain": [
       "   Unnamed: 0  N_factura  ID_Cliente            País  Cantidad   Monto  \\\n",
       "0           0     548370     15528.0  United Kingdom       123  229.33   \n",
       "1           1     575767     17348.0  United Kingdom       163  209.73   \n",
       "2           3     549106     17045.0  United Kingdom         1   39.95   \n",
       "3           4     573112     16416.0  United Kingdom       357  344.83   \n",
       "4           5     576630     13816.0         Germany        91  199.98   \n",
       "\n",
       "                 Fecha Continente        Mes  Dia   Año  Periodo  Out_kingdom  \\\n",
       "0  2021-03-30 16:14:00     Europa      Marzo   30  2021  2021 03            0   \n",
       "1  2021-11-11 11:11:00     Europa  Noviembre   11  2021  2021 11            0   \n",
       "2  2021-04-06 12:08:00     Europa      Abril    6  2021  2021 04            0   \n",
       "3  2021-10-27 15:33:00     Europa    Octubre   27  2021  2021 10            0   \n",
       "4  2021-11-16 08:38:00     Europa  Noviembre   16  2021  2021 11            1   \n",
       "\n",
       "  Volumen_cantidad  \n",
       "0      100<=x<=200  \n",
       "1      100<=x<=200  \n",
       "2             x<50  \n",
       "3      300<=x<=400  \n",
       "4       50<=x<=100  "
      ]
     },
     "execution_count": 198,
     "metadata": {},
     "output_type": "execute_result"
    }
   ],
   "source": [
    "data.head()"
   ]
  },
  {
   "cell_type": "code",
   "execution_count": 202,
   "id": "4a3dd0e1",
   "metadata": {},
   "outputs": [
    {
     "data": {
      "text/html": [
       "<div>\n",
       "<style scoped>\n",
       "    .dataframe tbody tr th:only-of-type {\n",
       "        vertical-align: middle;\n",
       "    }\n",
       "\n",
       "    .dataframe tbody tr th {\n",
       "        vertical-align: top;\n",
       "    }\n",
       "\n",
       "    .dataframe thead th {\n",
       "        text-align: right;\n",
       "    }\n",
       "</style>\n",
       "<table border=\"1\" class=\"dataframe\">\n",
       "  <thead>\n",
       "    <tr style=\"text-align: right;\">\n",
       "      <th></th>\n",
       "      <th>index</th>\n",
       "      <th>cantidad</th>\n",
       "    </tr>\n",
       "  </thead>\n",
       "  <tbody>\n",
       "    <tr>\n",
       "      <th>0</th>\n",
       "      <td>United Kingdom</td>\n",
       "      <td>16673</td>\n",
       "    </tr>\n",
       "    <tr>\n",
       "      <th>1</th>\n",
       "      <td>Germany</td>\n",
       "      <td>457</td>\n",
       "    </tr>\n",
       "    <tr>\n",
       "      <th>2</th>\n",
       "      <td>France</td>\n",
       "      <td>390</td>\n",
       "    </tr>\n",
       "    <tr>\n",
       "      <th>3</th>\n",
       "      <td>EIRE</td>\n",
       "      <td>261</td>\n",
       "    </tr>\n",
       "    <tr>\n",
       "      <th>4</th>\n",
       "      <td>Belgium</td>\n",
       "      <td>98</td>\n",
       "    </tr>\n",
       "    <tr>\n",
       "      <th>5</th>\n",
       "      <td>Netherlands</td>\n",
       "      <td>94</td>\n",
       "    </tr>\n",
       "    <tr>\n",
       "      <th>6</th>\n",
       "      <td>Spain</td>\n",
       "      <td>90</td>\n",
       "    </tr>\n",
       "    <tr>\n",
       "      <th>7</th>\n",
       "      <td>Australia</td>\n",
       "      <td>57</td>\n",
       "    </tr>\n",
       "    <tr>\n",
       "      <th>8</th>\n",
       "      <td>Portugal</td>\n",
       "      <td>57</td>\n",
       "    </tr>\n",
       "    <tr>\n",
       "      <th>9</th>\n",
       "      <td>Switzerland</td>\n",
       "      <td>51</td>\n",
       "    </tr>\n",
       "    <tr>\n",
       "      <th>10</th>\n",
       "      <td>Finland</td>\n",
       "      <td>41</td>\n",
       "    </tr>\n",
       "    <tr>\n",
       "      <th>11</th>\n",
       "      <td>Italy</td>\n",
       "      <td>38</td>\n",
       "    </tr>\n",
       "    <tr>\n",
       "      <th>12</th>\n",
       "      <td>Sweden</td>\n",
       "      <td>36</td>\n",
       "    </tr>\n",
       "    <tr>\n",
       "      <th>13</th>\n",
       "      <td>Norway</td>\n",
       "      <td>36</td>\n",
       "    </tr>\n",
       "    <tr>\n",
       "      <th>14</th>\n",
       "      <td>Channel Islands</td>\n",
       "      <td>26</td>\n",
       "    </tr>\n",
       "    <tr>\n",
       "      <th>15</th>\n",
       "      <td>Japan</td>\n",
       "      <td>20</td>\n",
       "    </tr>\n",
       "    <tr>\n",
       "      <th>16</th>\n",
       "      <td>Poland</td>\n",
       "      <td>19</td>\n",
       "    </tr>\n",
       "    <tr>\n",
       "      <th>17</th>\n",
       "      <td>Denmark</td>\n",
       "      <td>18</td>\n",
       "    </tr>\n",
       "    <tr>\n",
       "      <th>18</th>\n",
       "      <td>Austria</td>\n",
       "      <td>17</td>\n",
       "    </tr>\n",
       "    <tr>\n",
       "      <th>19</th>\n",
       "      <td>Cyprus</td>\n",
       "      <td>16</td>\n",
       "    </tr>\n",
       "    <tr>\n",
       "      <th>20</th>\n",
       "      <td>Unspecified</td>\n",
       "      <td>8</td>\n",
       "    </tr>\n",
       "    <tr>\n",
       "      <th>21</th>\n",
       "      <td>Singapore</td>\n",
       "      <td>7</td>\n",
       "    </tr>\n",
       "    <tr>\n",
       "      <th>22</th>\n",
       "      <td>Iceland</td>\n",
       "      <td>7</td>\n",
       "    </tr>\n",
       "    <tr>\n",
       "      <th>23</th>\n",
       "      <td>Canada</td>\n",
       "      <td>6</td>\n",
       "    </tr>\n",
       "    <tr>\n",
       "      <th>24</th>\n",
       "      <td>Israel</td>\n",
       "      <td>5</td>\n",
       "    </tr>\n",
       "    <tr>\n",
       "      <th>25</th>\n",
       "      <td>Greece</td>\n",
       "      <td>5</td>\n",
       "    </tr>\n",
       "    <tr>\n",
       "      <th>26</th>\n",
       "      <td>Malta</td>\n",
       "      <td>5</td>\n",
       "    </tr>\n",
       "    <tr>\n",
       "      <th>27</th>\n",
       "      <td>USA</td>\n",
       "      <td>5</td>\n",
       "    </tr>\n",
       "    <tr>\n",
       "      <th>28</th>\n",
       "      <td>European Community</td>\n",
       "      <td>4</td>\n",
       "    </tr>\n",
       "    <tr>\n",
       "      <th>29</th>\n",
       "      <td>Lithuania</td>\n",
       "      <td>4</td>\n",
       "    </tr>\n",
       "    <tr>\n",
       "      <th>30</th>\n",
       "      <td>United Arab Emirates</td>\n",
       "      <td>3</td>\n",
       "    </tr>\n",
       "    <tr>\n",
       "      <th>31</th>\n",
       "      <td>Czech Republic</td>\n",
       "      <td>2</td>\n",
       "    </tr>\n",
       "    <tr>\n",
       "      <th>32</th>\n",
       "      <td>Bahrain</td>\n",
       "      <td>2</td>\n",
       "    </tr>\n",
       "    <tr>\n",
       "      <th>33</th>\n",
       "      <td>Lebanon</td>\n",
       "      <td>1</td>\n",
       "    </tr>\n",
       "    <tr>\n",
       "      <th>34</th>\n",
       "      <td>Brazil</td>\n",
       "      <td>1</td>\n",
       "    </tr>\n",
       "    <tr>\n",
       "      <th>35</th>\n",
       "      <td>RSA</td>\n",
       "      <td>1</td>\n",
       "    </tr>\n",
       "    <tr>\n",
       "      <th>36</th>\n",
       "      <td>Saudi Arabia</td>\n",
       "      <td>1</td>\n",
       "    </tr>\n",
       "  </tbody>\n",
       "</table>\n",
       "</div>"
      ],
      "text/plain": [
       "                   index  cantidad\n",
       "0         United Kingdom     16673\n",
       "1                Germany       457\n",
       "2                 France       390\n",
       "3                   EIRE       261\n",
       "4                Belgium        98\n",
       "5            Netherlands        94\n",
       "6                  Spain        90\n",
       "7              Australia        57\n",
       "8               Portugal        57\n",
       "9            Switzerland        51\n",
       "10               Finland        41\n",
       "11                 Italy        38\n",
       "12                Sweden        36\n",
       "13                Norway        36\n",
       "14       Channel Islands        26\n",
       "15                 Japan        20\n",
       "16                Poland        19\n",
       "17               Denmark        18\n",
       "18               Austria        17\n",
       "19                Cyprus        16\n",
       "20           Unspecified         8\n",
       "21             Singapore         7\n",
       "22               Iceland         7\n",
       "23                Canada         6\n",
       "24                Israel         5\n",
       "25                Greece         5\n",
       "26                 Malta         5\n",
       "27                   USA         5\n",
       "28    European Community         4\n",
       "29             Lithuania         4\n",
       "30  United Arab Emirates         3\n",
       "31        Czech Republic         2\n",
       "32               Bahrain         2\n",
       "33               Lebanon         1\n",
       "34                Brazil         1\n",
       "35                   RSA         1\n",
       "36          Saudi Arabia         1"
      ]
     },
     "execution_count": 202,
     "metadata": {},
     "output_type": "execute_result"
    }
   ],
   "source": [
    "\n",
    "# creo una lista de los periodos de venta\n",
    "paises = data.País.value_counts().reset_index(name='cantidad')\n",
    "lista_paises = paises['index']\n"
   ]
  },
  {
   "cell_type": "markdown",
   "id": "d72adddd",
   "metadata": {},
   "source": [
    "**Casi de 5000 ventas han sido de 100 a 200 articulos**"
   ]
  },
  {
   "cell_type": "markdown",
   "id": "db1cee5a",
   "metadata": {},
   "source": [
    "# Ventas dentro y fuera de reino unido"
   ]
  },
  {
   "cell_type": "code",
   "execution_count": 6,
   "id": "614067db",
   "metadata": {},
   "outputs": [
    {
     "data": {
      "text/plain": [
       "<seaborn.axisgrid.FacetGrid at 0x7fd51448c640>"
      ]
     },
     "execution_count": 6,
     "metadata": {},
     "output_type": "execute_result"
    },
    {
     "data": {
      "image/png": "[encoded data removed]",
      "text/plain": [
       "<Figure size 434.375x360 with 1 Axes>"
      ]
     },
     "metadata": {
      "needs_background": "light"
     },
     "output_type": "display_data"
    }
   ],
   "source": [
    "## sns.displot(data=tips, x='total_bill',hue='sex',kind='kde',legend=False,palette='dark',alpha=1)\n",
    "## plt.show()\n",
    "sns.displot(data=data, x='Monto', hue='Out_kingdom', kind='kde', palette='dark')"
   ]
  },
  {
   "cell_type": "code",
   "execution_count": 49,
   "id": "c872efd4",
   "metadata": {},
   "outputs": [
    {
     "data": {
      "text/plain": [
       "<AxesSubplot:>"
      ]
     },
     "execution_count": 49,
     "metadata": {},
     "output_type": "execute_result"
    },
    {
     "data": {
      "image/png": "[encoded data removed]",
      "text/plain": [
       "<Figure size 432x288 with 1 Axes>"
      ]
     },
     "metadata": {},
     "output_type": "display_data"
    }
   ],
   "source": [
    "sns.violinplot(data=data)"
   ]
  },
  {
   "cell_type": "markdown",
   "id": "735bc28b",
   "metadata": {},
   "source": [
    "# coeficiente de correlacion"
   ]
  },
  {
   "cell_type": "code",
   "execution_count": 69,
   "id": "cb61a432",
   "metadata": {},
   "outputs": [
    {
     "name": "stdout",
     "output_type": "stream",
     "text": [
      "           index  cantidad\n",
      "5797        0.38         1\n",
      "12095       0.40         1\n",
      "8669        0.55         1\n",
      "1390        0.85         2\n",
      "274         0.95         3\n",
      "...          ...       ...\n",
      "6278    22775.93         1\n",
      "8134    31698.16         1\n",
      "5015    38970.00         1\n",
      "3548    77183.60         1\n",
      "12700  168469.60         1\n",
      "\n",
      "[14742 rows x 2 columns]\n",
      "2358\n",
      "----------------------------------------------------------------------------------------------------\n",
      "14742\n"
     ]
    }
   ],
   "source": [
    "datos = data['Monto'].value_counts().reset_index(name='cantidad')\n",
    "## datos = datos[datos['cantidad']>1]\n",
    "print(datos.sort_values('index'))\n",
    "## datos mayores que uno\n",
    "m_uno = datos[datos['cantidad'] > 1]\n",
    "print(len(m_uno))\n",
    "print('--'*50)\n",
    "print(len(datos['cantidad']))"
   ]
  },
  {
   "cell_type": "code",
   "execution_count": null,
   "id": "0d0654a8",
   "metadata": {},
   "outputs": [],
   "source": [
    "data.corr()"
   ]
  },
  {
   "cell_type": "code",
   "execution_count": 20,
   "id": "c6c35e95",
   "metadata": {},
   "outputs": [
    {
     "data": {
      "text/plain": [
       "<AxesSubplot:>"
      ]
     },
     "execution_count": 20,
     "metadata": {},
     "output_type": "execute_result"
    },
    {
     "data": {
      "image/png": "[encoded data removed]",
      "text/plain": [
       "<Figure size 432x288 with 2 Axes>"
      ]
     },
     "metadata": {
      "needs_background": "light"
     },
     "output_type": "display_data"
    }
   ],
   "source": [
    "sns.heatmap(\n",
    "    data=data.corr(),\n",
    "    center=0,\n",
    "    vmin=1,\n",
    "    vmax=1,\n",
    "    linewidth=0.5,\n",
    "    annot=True,\n",
    "    cmap=sns.diverging_palette(200, 230, as_cmap=True)\n",
    ")"
   ]
  },
  {
   "cell_type": "code",
   "execution_count": 30,
   "id": "9eff7c73",
   "metadata": {},
   "outputs": [
    {
     "data": {
      "image/png": "[encoded data removed]",
      "text/plain": [
       "<Figure size 432x288 with 1 Axes>"
      ]
     },
     "metadata": {},
     "output_type": "display_data"
    }
   ],
   "source": [
    "plt.plot(data['Monto'],data['Cantidad'])\n",
    "plt.show()"
   ]
  },
  {
   "cell_type": "code",
   "execution_count": 31,
   "id": "4d6acd47",
   "metadata": {},
   "outputs": [
    {
     "data": {
      "text/plain": [
       "(array([1.855e+04, 9.000e+00, 1.000e+00, 0.000e+00, 1.000e+00, 0.000e+00,\n",
       "        0.000e+00, 0.000e+00, 0.000e+00, 1.000e+00]),\n",
       " array([3.80000000e-01, 1.68473020e+04, 3.36942240e+04, 5.05411460e+04,\n",
       "        6.73880680e+04, 8.42349900e+04, 1.01081912e+05, 1.17928834e+05,\n",
       "        1.34775756e+05, 1.51622678e+05, 1.68469600e+05]),\n",
       " <BarContainer object of 10 artists>)"
      ]
     },
     "execution_count": 31,
     "metadata": {},
     "output_type": "execute_result"
    },
    {
     "data": {
      "image/png": "[encoded data removed]",
      "text/plain": [
       "<Figure size 432x288 with 1 Axes>"
      ]
     },
     "metadata": {},
     "output_type": "display_data"
    }
   ],
   "source": [
    "plt.hist(data['Monto'])"
   ]
  },
  {
   "cell_type": "code",
   "execution_count": 32,
   "id": "fc2d2a5a",
   "metadata": {},
   "outputs": [
    {
     "data": {
      "text/plain": [
       "(array([0., 0., 0., 0., 0., 1., 0., 0., 0., 0.]),\n",
       " array([-0.5, -0.4, -0.3, -0.2, -0.1,  0. ,  0.1,  0.2,  0.3,  0.4,  0.5]),\n",
       " <BarContainer object of 10 artists>)"
      ]
     },
     "execution_count": 32,
     "metadata": {},
     "output_type": "execute_result"
    },
    {
     "data": {
      "image/png": "[encoded data removed]",
      "text/plain": [
       "<Figure size 432x288 with 1 Axes>"
      ]
     },
     "metadata": {},
     "output_type": "display_data"
    }
   ],
   "source": [
    "plt.hist('Cantidad')"
   ]
  },
  {
   "cell_type": "code",
   "execution_count": 42,
   "id": "8422ef01",
   "metadata": {},
   "outputs": [
    {
     "data": {
      "image/png": "[encoded data removed]",
      "text/plain": [
       "<Figure size 432x288 with 1 Axes>"
      ]
     },
     "metadata": {},
     "output_type": "display_data"
    }
   ],
   "source": [
    "plt.pie(data['Out_kingdom'])\n",
    "plt.show()"
   ]
  },
  {
   "cell_type": "code",
   "execution_count": 36,
   "id": "959ed668",
   "metadata": {},
   "outputs": [
    {
     "data": {
      "text/plain": [
       "<matplotlib.collections.PathCollection at 0x7f9ca702c520>"
      ]
     },
     "execution_count": 36,
     "metadata": {},
     "output_type": "execute_result"
    },
    {
     "data": {
      "image/png": "[encoded data removed]",
      "text/plain": [
       "<Figure size 432x288 with 1 Axes>"
      ]
     },
     "metadata": {},
     "output_type": "display_data"
    }
   ],
   "source": [
    "plt.scatter(data['Monto'],data['Cantidad'])"
   ]
  },
  {
   "cell_type": "code",
   "execution_count": 44,
   "id": "881a7ffc",
   "metadata": {},
   "outputs": [
    {
     "data": {
      "text/plain": [
       "<matplotlib.collections.PathCollection at 0x7f9c9011c610>"
      ]
     },
     "execution_count": 44,
     "metadata": {},
     "output_type": "execute_result"
    },
    {
     "data": {
      "image/png": "[encoded data removed]",
      "text/plain": [
       "<Figure size 432x288 with 1 Axes>"
      ]
     },
     "metadata": {},
     "output_type": "display_data"
    }
   ],
   "source": [
    "x = data['Monto']\n",
    "y = data['Cantidad']\n",
    "plt.scatter(x=x,y=y)"
   ]
  },
  {
   "cell_type": "code",
   "execution_count": 14,
   "id": "113e3a07",
   "metadata": {},
   "outputs": [
    {
     "data": {
      "text/html": [
       "<div>\n",
       "<style scoped>\n",
       "    .dataframe tbody tr th:only-of-type {\n",
       "        vertical-align: middle;\n",
       "    }\n",
       "\n",
       "    .dataframe tbody tr th {\n",
       "        vertical-align: top;\n",
       "    }\n",
       "\n",
       "    .dataframe thead th {\n",
       "        text-align: right;\n",
       "    }\n",
       "</style>\n",
       "<table border=\"1\" class=\"dataframe\">\n",
       "  <thead>\n",
       "    <tr style=\"text-align: right;\">\n",
       "      <th></th>\n",
       "      <th>Unnamed: 0</th>\n",
       "      <th>N_factura</th>\n",
       "      <th>ID_Cliente</th>\n",
       "      <th>País</th>\n",
       "      <th>Cantidad</th>\n",
       "      <th>Monto</th>\n",
       "      <th>Fecha</th>\n",
       "      <th>Continente</th>\n",
       "      <th>Mes</th>\n",
       "      <th>Dia</th>\n",
       "      <th>Año</th>\n",
       "      <th>Periodo</th>\n",
       "      <th>Out_kingdom</th>\n",
       "      <th>Volumen_cantidad</th>\n",
       "    </tr>\n",
       "  </thead>\n",
       "  <tbody>\n",
       "    <tr>\n",
       "      <th>0</th>\n",
       "      <td>0</td>\n",
       "      <td>548370</td>\n",
       "      <td>15528.0</td>\n",
       "      <td>United Kingdom</td>\n",
       "      <td>123</td>\n",
       "      <td>229.33</td>\n",
       "      <td>2021-03-30 16:14:00</td>\n",
       "      <td>Europa</td>\n",
       "      <td>Marzo</td>\n",
       "      <td>30</td>\n",
       "      <td>2021</td>\n",
       "      <td>2021 03</td>\n",
       "      <td>0</td>\n",
       "      <td>100&lt;=x&lt;=200</td>\n",
       "    </tr>\n",
       "    <tr>\n",
       "      <th>1</th>\n",
       "      <td>1</td>\n",
       "      <td>575767</td>\n",
       "      <td>17348.0</td>\n",
       "      <td>United Kingdom</td>\n",
       "      <td>163</td>\n",
       "      <td>209.73</td>\n",
       "      <td>2021-11-11 11:11:00</td>\n",
       "      <td>Europa</td>\n",
       "      <td>Noviembre</td>\n",
       "      <td>11</td>\n",
       "      <td>2021</td>\n",
       "      <td>2021 11</td>\n",
       "      <td>0</td>\n",
       "      <td>100&lt;=x&lt;=200</td>\n",
       "    </tr>\n",
       "    <tr>\n",
       "      <th>2</th>\n",
       "      <td>3</td>\n",
       "      <td>549106</td>\n",
       "      <td>17045.0</td>\n",
       "      <td>United Kingdom</td>\n",
       "      <td>1</td>\n",
       "      <td>39.95</td>\n",
       "      <td>2021-04-06 12:08:00</td>\n",
       "      <td>Europa</td>\n",
       "      <td>Abril</td>\n",
       "      <td>6</td>\n",
       "      <td>2021</td>\n",
       "      <td>2021 04</td>\n",
       "      <td>0</td>\n",
       "      <td>x&lt;50</td>\n",
       "    </tr>\n",
       "    <tr>\n",
       "      <th>3</th>\n",
       "      <td>4</td>\n",
       "      <td>573112</td>\n",
       "      <td>16416.0</td>\n",
       "      <td>United Kingdom</td>\n",
       "      <td>357</td>\n",
       "      <td>344.83</td>\n",
       "      <td>2021-10-27 15:33:00</td>\n",
       "      <td>Europa</td>\n",
       "      <td>Octubre</td>\n",
       "      <td>27</td>\n",
       "      <td>2021</td>\n",
       "      <td>2021 10</td>\n",
       "      <td>0</td>\n",
       "      <td>300&lt;=x&lt;=400</td>\n",
       "    </tr>\n",
       "    <tr>\n",
       "      <th>4</th>\n",
       "      <td>5</td>\n",
       "      <td>576630</td>\n",
       "      <td>13816.0</td>\n",
       "      <td>Germany</td>\n",
       "      <td>91</td>\n",
       "      <td>199.98</td>\n",
       "      <td>2021-11-16 08:38:00</td>\n",
       "      <td>Europa</td>\n",
       "      <td>Noviembre</td>\n",
       "      <td>16</td>\n",
       "      <td>2021</td>\n",
       "      <td>2021 11</td>\n",
       "      <td>1</td>\n",
       "      <td>50&lt;=x&lt;=100</td>\n",
       "    </tr>\n",
       "  </tbody>\n",
       "</table>\n",
       "</div>"
      ],
      "text/plain": [
       "   Unnamed: 0  N_factura  ID_Cliente            País  Cantidad   Monto  \\\n",
       "0           0     548370     15528.0  United Kingdom       123  229.33   \n",
       "1           1     575767     17348.0  United Kingdom       163  209.73   \n",
       "2           3     549106     17045.0  United Kingdom         1   39.95   \n",
       "3           4     573112     16416.0  United Kingdom       357  344.83   \n",
       "4           5     576630     13816.0         Germany        91  199.98   \n",
       "\n",
       "                 Fecha Continente        Mes  Dia   Año  Periodo  Out_kingdom  \\\n",
       "0  2021-03-30 16:14:00     Europa      Marzo   30  2021  2021 03            0   \n",
       "1  2021-11-11 11:11:00     Europa  Noviembre   11  2021  2021 11            0   \n",
       "2  2021-04-06 12:08:00     Europa      Abril    6  2021  2021 04            0   \n",
       "3  2021-10-27 15:33:00     Europa    Octubre   27  2021  2021 10            0   \n",
       "4  2021-11-16 08:38:00     Europa  Noviembre   16  2021  2021 11            1   \n",
       "\n",
       "  Volumen_cantidad  \n",
       "0      100<=x<=200  \n",
       "1      100<=x<=200  \n",
       "2             x<50  \n",
       "3      300<=x<=400  \n",
       "4       50<=x<=100  "
      ]
     },
     "execution_count": 14,
     "metadata": {},
     "output_type": "execute_result"
    }
   ],
   "source": [
    "data.head()"
   ]
  },
  {
   "cell_type": "code",
   "execution_count": 21,
   "id": "bac6952d",
   "metadata": {},
   "outputs": [
    {
     "name": "stderr",
     "output_type": "stream",
     "text": [
      "findfont: Font family ['Verdana'] not found. Falling back to DejaVu Sans.\n"
     ]
    },
    {
     "data": {
      "image/png": "[encoded data removed]",
      "text/plain": [
       "<Figure size 432x288 with 1 Axes>"
      ]
     },
     "metadata": {},
     "output_type": "display_data"
    }
   ],
   "source": [
    "    sns.set(style='dark',palette='dark', font=\"Verdana\",font_scale=1)\n",
    "    sns.barplot(x=['A','B','C'], y=[1,2,3])\n",
    "    plt.show()"
   ]
  },
  {
   "cell_type": "code",
   "execution_count": 26,
   "id": "82730142",
   "metadata": {},
   "outputs": [
    {
     "data": {
      "text/plain": [
       "<AxesSubplot:>"
      ]
     },
     "execution_count": 26,
     "metadata": {},
     "output_type": "execute_result"
    },
    {
     "data": {
      "image/png": "[encoded data removed]",
      "text/plain": [
       "<Figure size 432x288 with 2 Axes>"
      ]
     },
     "metadata": {},
     "output_type": "display_data"
    }
   ],
   "source": [
    "sns.heatmap(data.corr(),annot=True)"
   ]
  },
  {
   "cell_type": "code",
   "execution_count": 43,
   "id": "a28d1d92",
   "metadata": {},
   "outputs": [],
   "source": [
    "### ME DA ESOACIO ENTRE LOS GRAFICOSY SE VE MAS BONITO*\n",
    "##fig.tight_layout()"
   ]
  },
  {
   "cell_type": "code",
   "execution_count": 120,
   "id": "28464b80",
   "metadata": {},
   "outputs": [],
   "source": [
    "dentro_king = data[data['Out_kingdom'] == 0 ]\n",
    "fuera_king = data[data['Out_kingdom'] == 1 ]"
   ]
  },
  {
   "cell_type": "code",
   "execution_count": 122,
   "id": "d347cd72",
   "metadata": {},
   "outputs": [],
   "source": [
    "suma_fuera = sum(fuera_king['Monto'])\n",
    "suma_dentro = sum(dentro_king['Monto'])"
   ]
  },
  {
   "cell_type": "code",
   "execution_count": 124,
   "id": "ed738793",
   "metadata": {},
   "outputs": [
    {
     "name": "stdout",
     "output_type": "stream",
     "text": [
      "1603016.3500000008\n",
      "----------------------------------------\n",
      "7308391.5500000315\n"
     ]
    }
   ],
   "source": [
    "print(suma_fuera)\n",
    "print('--'*20)\n",
    "print(suma_dentro)"
   ]
  },
  {
   "cell_type": "code",
   "execution_count": 128,
   "id": "90c8a2aa",
   "metadata": {},
   "outputs": [],
   "source": [
    "mean_fuera = (fuera_king['Monto']).mean()\n",
    "mean_dentro = (dentro_king['Monto']).mean()"
   ]
  },
  {
   "cell_type": "code",
   "execution_count": 129,
   "id": "bee8643e",
   "metadata": {},
   "outputs": [
    {
     "name": "stdout",
     "output_type": "stream",
     "text": [
      "848.6057967178406\n",
      "----------------------------------------\n",
      "438.33692496851387\n"
     ]
    }
   ],
   "source": [
    "print(mean_fuera)\n",
    "print('--'*20)\n",
    "print(mean_dentro)"
   ]
  },
  {
   "cell_type": "code",
   "execution_count": null,
   "id": "836564c8",
   "metadata": {},
   "outputs": [],
   "source": []
  }
 ],
 "metadata": {
  "kernelspec": {
   "display_name": "Python 3 (ipykernel)",
   "language": "python",
   "name": "python3"
  },
  "language_info": {
   "codemirror_mode": {
    "name": "ipython",
    "version": 3
   },
   "file_extension": ".py",
   "mimetype": "text/x-python",
   "name": "python",
   "nbconvert_exporter": "python",
   "pygments_lexer": "ipython3",
   "version": "3.9.12"
  }
 },
 "nbformat": 4,
 "nbformat_minor": 5
}
